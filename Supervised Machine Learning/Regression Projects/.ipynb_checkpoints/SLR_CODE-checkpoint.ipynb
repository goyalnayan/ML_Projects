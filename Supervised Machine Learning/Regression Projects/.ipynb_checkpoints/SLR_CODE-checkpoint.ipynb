{
 "cells": [
  {
   "cell_type": "markdown",
   "id": "bfe14c3b",
   "metadata": {},
   "source": [
    "Step -1 : Business Problem Understanding\n",
    "\n",
    "Step-2 : Data understanding (observations)\n",
    "         - <font color = red> In your observation don't started to fix whatever the probelm in your data, all you need to just writedown whatever the things that is problem in the dataset and that you need to fix later in data preprocessing (this step will help you to udnerstand the data). </font> \n",
    "\n",
    "\n",
    "\t\t- Understand the meaning of Column Names\n",
    "\n",
    "\t\t- identify the continous & discrete variables\n",
    "\n",
    "\t\t- understand each & every values clearly by applying descriptive statistics\n",
    "\n",
    "\t\t\t- For contionus variables (apply describe function)\n",
    "\n",
    "\t\t\t- For each discrete variable (apply value_counts)\n",
    "\n",
    "\t\t- Check how many columns have\n",
    "\t\t\t- wrong data type\n",
    "\n",
    "\t\t\t- wrong data\n",
    "\n",
    "\t\t\t- missing values\n",
    "\n",
    "\t\t\t- outliers\n",
    "\t\t\n",
    "\t\t\t- discrete \n",
    "\n",
    "\t\t\t- skewness >1 or <-1\n",
    "\n",
    "\t\t- Complete EDA\n",
    "\n",
    "\t\t\t- apply various plots which are applicable for given data\n",
    "\n",
    "\t\t\t like scatterplot, pairplot, heatmap e.t.c\n",
    "\n",
    "\n",
    "\tfROM THIS, YOU WILL UNDERSTAND VERY CLEARLY ABOUT GIVEN RAW DATA\n",
    "======================================================================================================\n",
    "\n",
    "Step-3: Data Preprocessing\n",
    "\n",
    "\t\tData Cleaning\n",
    "\n",
    "\t\tData Wrangling\n",
    "\n",
    "\t\tFeature Selction\n",
    "\n",
    "\t\tTrain_test Split\n",
    "\n",
    "======================================================================================================\n",
    "\n",
    "Step-4 : Modelling\n",
    "\n",
    "\tApply various algorithms which are applicable for given data\n",
    "\n",
    "Step-5 : Evaluation & Model Selection\n",
    "\n",
    "\t- Select Evaluation Metric for given project\n",
    "\n",
    "\t\t- Regression (RMSE & R2)\n",
    "\n",
    "\t- Check whether\n",
    "\t\t\n",
    "\t\t- Train Accuracy = CV\n",
    "\n",
    "\t\t\t&\n",
    "\n",
    "\t\t- Train Accuracy = Test Accuracy\n",
    "\n",
    "\t\t\t&\n",
    "\n",
    "\t\t- Satisfies Business Problem\n",
    "\n",
    "============================================================================================\n",
    "\n",
    "Finalize the best Model out of all Models which you have tried & SAVE that Model\n",
    "\n",
    "============================================================================================\n",
    "\n",
    "Based on Correlation Matrix, observe\n",
    "---------------------------\n",
    "\n",
    "Relation between i/p variable & o/p variable should be high \n",
    "\n",
    "\t- if corelation <=0.2, the drop the input variable\n",
    "\n",
    "\n",
    "Realtion between i/p variable & i/p variable should be low \n",
    "\n",
    "\t- if corelation>=0.5, then its a colinearity problem \n",
    "\n",
    "\t- you have to drop 1 variable which has high VIF\n",
    "\n",
    "\n",
    ">\n",
    "If output variable is continous so we will get some probability\n"
   ]
  },
  {
   "cell_type": "markdown",
   "id": "a529dabf",
   "metadata": {},
   "source": [
    "## Step - 1: Business Problem Understanding\n",
    "- Identify the relationship between total advertising spend and sales?\n",
    "- Our next ad campaign will have a total spend of $200, 000, how many units do we expect to see as a result of this?\n",
    "\n",
    "----> Business problem requirement (project requirement) --> provide analysis based on business\n",
    "\n",
    "----> for cleaning data business understanding are very important\n",
    "\n",
    "\n",
    "----> Whatever the observations you will get that basically means **Data Analysis**"
   ]
  },
  {
   "cell_type": "markdown",
   "id": "58dcc19c",
   "metadata": {},
   "source": [
    ">\n",
    "## DATA SCIENCE PROJECT PHASE;\n",
    "1. Development\n",
    "from starting to model\n",
    "2. Operation\n",
    "future (new) data\n",
    "- (update the latest data, clean & submit to the machine)\n",
    "3. Support\n",
    "\n",
    ">\n",
    "\n",
    "### data understanding steps:\n",
    "- columns check --> continuous/ categorical\n",
    "- data types check\n",
    "- regression/ classification\n",
    "- write columns name (continuous / discrete)\n",
    "- apply .tolist() to the columns"
   ]
  },
  {
   "cell_type": "markdown",
   "id": "a8748eab",
   "metadata": {},
   "source": [
    "## Step - 2 Data Understanding (EDA)\n",
    "----> Data understanding - EDA\n",
    "\n",
    "#### Data\n",
    "This sample data displays sales for a particular product as a function of advertising budgets (in dollars) for TV, radio, and newspaper media.\n",
    "\n",
    "#### Independent variable\n",
    "- TV: Adevertising dollars spent on TV for a single product in a given market (in dollars)\n",
    "- Radio: Advertising dollars spent on Radio\n",
    "- Newspaper: Advertising dollars spent on Newspaper.\n",
    "\n",
    "#### Target variable:\n",
    "- Sales: sales of a single producr in a given market\n",
    "\n",
    ">\n",
    "\n",
    "- Collect & Load Data\n",
    "- Dataset Understanding"
   ]
  },
  {
   "cell_type": "code",
   "execution_count": 1,
   "id": "caad89e5",
   "metadata": {},
   "outputs": [],
   "source": [
    "import warnings\n",
    "warnings.filterwarnings('ignore')"
   ]
  },
  {
   "cell_type": "code",
   "execution_count": 2,
   "id": "d9204f44",
   "metadata": {},
   "outputs": [],
   "source": [
    "import pandas as pd\n",
    "import numpy as np\n",
    "import seaborn as sns\n",
    "import matplotlib.pyplot as plt"
   ]
  },
  {
   "cell_type": "code",
   "execution_count": 3,
   "id": "e9253306",
   "metadata": {},
   "outputs": [
    {
     "data": {
      "text/html": [
       "<div>\n",
       "<style scoped>\n",
       "    .dataframe tbody tr th:only-of-type {\n",
       "        vertical-align: middle;\n",
       "    }\n",
       "\n",
       "    .dataframe tbody tr th {\n",
       "        vertical-align: top;\n",
       "    }\n",
       "\n",
       "    .dataframe thead th {\n",
       "        text-align: right;\n",
       "    }\n",
       "</style>\n",
       "<table border=\"1\" class=\"dataframe\">\n",
       "  <thead>\n",
       "    <tr style=\"text-align: right;\">\n",
       "      <th></th>\n",
       "      <th>TV</th>\n",
       "      <th>radio</th>\n",
       "      <th>newspaper</th>\n",
       "      <th>sales</th>\n",
       "    </tr>\n",
       "  </thead>\n",
       "  <tbody>\n",
       "    <tr>\n",
       "      <th>0</th>\n",
       "      <td>230100</td>\n",
       "      <td>37800</td>\n",
       "      <td>69200</td>\n",
       "      <td>22100</td>\n",
       "    </tr>\n",
       "    <tr>\n",
       "      <th>1</th>\n",
       "      <td>44500</td>\n",
       "      <td>39300</td>\n",
       "      <td>45100</td>\n",
       "      <td>10400</td>\n",
       "    </tr>\n",
       "    <tr>\n",
       "      <th>2</th>\n",
       "      <td>17200</td>\n",
       "      <td>45900</td>\n",
       "      <td>69300</td>\n",
       "      <td>9300</td>\n",
       "    </tr>\n",
       "    <tr>\n",
       "      <th>3</th>\n",
       "      <td>151500</td>\n",
       "      <td>41300</td>\n",
       "      <td>58500</td>\n",
       "      <td>18500</td>\n",
       "    </tr>\n",
       "    <tr>\n",
       "      <th>4</th>\n",
       "      <td>180800</td>\n",
       "      <td>10800</td>\n",
       "      <td>58400</td>\n",
       "      <td>12900</td>\n",
       "    </tr>\n",
       "  </tbody>\n",
       "</table>\n",
       "</div>"
      ],
      "text/plain": [
       "       TV  radio  newspaper  sales\n",
       "0  230100  37800      69200  22100\n",
       "1   44500  39300      45100  10400\n",
       "2   17200  45900      69300   9300\n",
       "3  151500  41300      58500  18500\n",
       "4  180800  10800      58400  12900"
      ]
     },
     "execution_count": 3,
     "metadata": {},
     "output_type": "execute_result"
    }
   ],
   "source": [
    "df = pd.read_csv('Advertising.csv')\n",
    "df.head()"
   ]
  },
  {
   "cell_type": "code",
   "execution_count": 4,
   "id": "18620942",
   "metadata": {},
   "outputs": [
    {
     "name": "stdout",
     "output_type": "stream",
     "text": [
      "<class 'pandas.core.frame.DataFrame'>\n",
      "RangeIndex: 200 entries, 0 to 199\n",
      "Data columns (total 4 columns):\n",
      " #   Column     Non-Null Count  Dtype\n",
      "---  ------     --------------  -----\n",
      " 0   TV         200 non-null    int64\n",
      " 1   radio      200 non-null    int64\n",
      " 2   newspaper  200 non-null    int64\n",
      " 3   sales      200 non-null    int64\n",
      "dtypes: int64(4)\n",
      "memory usage: 6.4 KB\n"
     ]
    }
   ],
   "source": [
    "df.info()"
   ]
  },
  {
   "cell_type": "markdown",
   "id": "86b2dc34",
   "metadata": {},
   "source": [
    "## Step - 3 Data Preprocessing\n",
    "- by combining all the features, we get the 'total spend'\n",
    "\n",
    "----> If column category is same so, you can drop that column (If any column having constant category so you can drop).\n",
    "\n",
    "----> Based on business create new column and drop remaining columns that are not required.\n",
    "\n",
    "----> Cleaning will be done one time and apply model multiple time.\n",
    "\n",
    "----> When you will present your work so never explain step by step process to the client. (never show your code, show analysis visually)"
   ]
  },
  {
   "cell_type": "code",
   "execution_count": 5,
   "id": "61c000aa",
   "metadata": {},
   "outputs": [
    {
     "data": {
      "text/html": [
       "<div>\n",
       "<style scoped>\n",
       "    .dataframe tbody tr th:only-of-type {\n",
       "        vertical-align: middle;\n",
       "    }\n",
       "\n",
       "    .dataframe tbody tr th {\n",
       "        vertical-align: top;\n",
       "    }\n",
       "\n",
       "    .dataframe thead th {\n",
       "        text-align: right;\n",
       "    }\n",
       "</style>\n",
       "<table border=\"1\" class=\"dataframe\">\n",
       "  <thead>\n",
       "    <tr style=\"text-align: right;\">\n",
       "      <th></th>\n",
       "      <th>TV</th>\n",
       "      <th>radio</th>\n",
       "      <th>newspaper</th>\n",
       "      <th>sales</th>\n",
       "      <th>total_spend</th>\n",
       "    </tr>\n",
       "  </thead>\n",
       "  <tbody>\n",
       "    <tr>\n",
       "      <th>0</th>\n",
       "      <td>230100</td>\n",
       "      <td>37800</td>\n",
       "      <td>69200</td>\n",
       "      <td>22100</td>\n",
       "      <td>337100</td>\n",
       "    </tr>\n",
       "    <tr>\n",
       "      <th>1</th>\n",
       "      <td>44500</td>\n",
       "      <td>39300</td>\n",
       "      <td>45100</td>\n",
       "      <td>10400</td>\n",
       "      <td>128900</td>\n",
       "    </tr>\n",
       "    <tr>\n",
       "      <th>2</th>\n",
       "      <td>17200</td>\n",
       "      <td>45900</td>\n",
       "      <td>69300</td>\n",
       "      <td>9300</td>\n",
       "      <td>132400</td>\n",
       "    </tr>\n",
       "    <tr>\n",
       "      <th>3</th>\n",
       "      <td>151500</td>\n",
       "      <td>41300</td>\n",
       "      <td>58500</td>\n",
       "      <td>18500</td>\n",
       "      <td>251300</td>\n",
       "    </tr>\n",
       "    <tr>\n",
       "      <th>4</th>\n",
       "      <td>180800</td>\n",
       "      <td>10800</td>\n",
       "      <td>58400</td>\n",
       "      <td>12900</td>\n",
       "      <td>250000</td>\n",
       "    </tr>\n",
       "  </tbody>\n",
       "</table>\n",
       "</div>"
      ],
      "text/plain": [
       "       TV  radio  newspaper  sales  total_spend\n",
       "0  230100  37800      69200  22100       337100\n",
       "1   44500  39300      45100  10400       128900\n",
       "2   17200  45900      69300   9300       132400\n",
       "3  151500  41300      58500  18500       251300\n",
       "4  180800  10800      58400  12900       250000"
      ]
     },
     "execution_count": 5,
     "metadata": {},
     "output_type": "execute_result"
    }
   ],
   "source": [
    "df['total_spend'] = df['TV'] + df['radio'] + df['newspaper']\n",
    "df.head()"
   ]
  },
  {
   "cell_type": "code",
   "execution_count": 6,
   "id": "1a7152ea",
   "metadata": {
    "scrolled": true
   },
   "outputs": [
    {
     "data": {
      "text/html": [
       "<div>\n",
       "<style scoped>\n",
       "    .dataframe tbody tr th:only-of-type {\n",
       "        vertical-align: middle;\n",
       "    }\n",
       "\n",
       "    .dataframe tbody tr th {\n",
       "        vertical-align: top;\n",
       "    }\n",
       "\n",
       "    .dataframe thead th {\n",
       "        text-align: right;\n",
       "    }\n",
       "</style>\n",
       "<table border=\"1\" class=\"dataframe\">\n",
       "  <thead>\n",
       "    <tr style=\"text-align: right;\">\n",
       "      <th></th>\n",
       "      <th>sales</th>\n",
       "      <th>total_spend</th>\n",
       "    </tr>\n",
       "  </thead>\n",
       "  <tbody>\n",
       "    <tr>\n",
       "      <th>0</th>\n",
       "      <td>22100</td>\n",
       "      <td>337100</td>\n",
       "    </tr>\n",
       "    <tr>\n",
       "      <th>1</th>\n",
       "      <td>10400</td>\n",
       "      <td>128900</td>\n",
       "    </tr>\n",
       "    <tr>\n",
       "      <th>2</th>\n",
       "      <td>9300</td>\n",
       "      <td>132400</td>\n",
       "    </tr>\n",
       "    <tr>\n",
       "      <th>3</th>\n",
       "      <td>18500</td>\n",
       "      <td>251300</td>\n",
       "    </tr>\n",
       "    <tr>\n",
       "      <th>4</th>\n",
       "      <td>12900</td>\n",
       "      <td>250000</td>\n",
       "    </tr>\n",
       "  </tbody>\n",
       "</table>\n",
       "</div>"
      ],
      "text/plain": [
       "   sales  total_spend\n",
       "0  22100       337100\n",
       "1  10400       128900\n",
       "2   9300       132400\n",
       "3  18500       251300\n",
       "4  12900       250000"
      ]
     },
     "execution_count": 6,
     "metadata": {},
     "output_type": "execute_result"
    }
   ],
   "source": [
    "df.drop(columns=['TV', 'radio', 'newspaper'], inplace=True)\n",
    "df.head()"
   ]
  },
  {
   "cell_type": "markdown",
   "id": "7cc8f35f",
   "metadata": {},
   "source": [
    "#### Exploratory Data Analysis (EDA)"
   ]
  },
  {
   "cell_type": "code",
   "execution_count": 7,
   "id": "69ba0d1d",
   "metadata": {},
   "outputs": [
    {
     "data": {
      "text/html": [
       "<div>\n",
       "<style scoped>\n",
       "    .dataframe tbody tr th:only-of-type {\n",
       "        vertical-align: middle;\n",
       "    }\n",
       "\n",
       "    .dataframe tbody tr th {\n",
       "        vertical-align: top;\n",
       "    }\n",
       "\n",
       "    .dataframe thead th {\n",
       "        text-align: right;\n",
       "    }\n",
       "</style>\n",
       "<table border=\"1\" class=\"dataframe\">\n",
       "  <thead>\n",
       "    <tr style=\"text-align: right;\">\n",
       "      <th></th>\n",
       "      <th>sales</th>\n",
       "      <th>total_spend</th>\n",
       "    </tr>\n",
       "  </thead>\n",
       "  <tbody>\n",
       "    <tr>\n",
       "      <th>count</th>\n",
       "      <td>200.000000</td>\n",
       "      <td>200.000000</td>\n",
       "    </tr>\n",
       "    <tr>\n",
       "      <th>mean</th>\n",
       "      <td>14022.500000</td>\n",
       "      <td>200860.500000</td>\n",
       "    </tr>\n",
       "    <tr>\n",
       "      <th>std</th>\n",
       "      <td>5217.456566</td>\n",
       "      <td>92985.180587</td>\n",
       "    </tr>\n",
       "    <tr>\n",
       "      <th>min</th>\n",
       "      <td>1600.000000</td>\n",
       "      <td>11700.000000</td>\n",
       "    </tr>\n",
       "    <tr>\n",
       "      <th>25%</th>\n",
       "      <td>10375.000000</td>\n",
       "      <td>123550.000000</td>\n",
       "    </tr>\n",
       "    <tr>\n",
       "      <th>50%</th>\n",
       "      <td>12900.000000</td>\n",
       "      <td>207350.000000</td>\n",
       "    </tr>\n",
       "    <tr>\n",
       "      <th>75%</th>\n",
       "      <td>17400.000000</td>\n",
       "      <td>281125.000000</td>\n",
       "    </tr>\n",
       "    <tr>\n",
       "      <th>max</th>\n",
       "      <td>27000.000000</td>\n",
       "      <td>433600.000000</td>\n",
       "    </tr>\n",
       "  </tbody>\n",
       "</table>\n",
       "</div>"
      ],
      "text/plain": [
       "              sales    total_spend\n",
       "count    200.000000     200.000000\n",
       "mean   14022.500000  200860.500000\n",
       "std     5217.456566   92985.180587\n",
       "min     1600.000000   11700.000000\n",
       "25%    10375.000000  123550.000000\n",
       "50%    12900.000000  207350.000000\n",
       "75%    17400.000000  281125.000000\n",
       "max    27000.000000  433600.000000"
      ]
     },
     "execution_count": 7,
     "metadata": {},
     "output_type": "execute_result"
    }
   ],
   "source": [
    "df.describe()"
   ]
  },
  {
   "cell_type": "code",
   "execution_count": 8,
   "id": "2e75f70e",
   "metadata": {
    "scrolled": false
   },
   "outputs": [
    {
     "data": {
      "image/png": "[encoded data removed]",
      "text/plain": [
       "<Figure size 500x500 with 6 Axes>"
      ]
     },
     "metadata": {},
     "output_type": "display_data"
    }
   ],
   "source": [
    "sns.pairplot(df)\n",
    "plt.show()"
   ]
  },
  {
   "cell_type": "code",
   "execution_count": 9,
   "id": "3ebfc87a",
   "metadata": {},
   "outputs": [
    {
     "data": {
      "text/html": [
       "<div>\n",
       "<style scoped>\n",
       "    .dataframe tbody tr th:only-of-type {\n",
       "        vertical-align: middle;\n",
       "    }\n",
       "\n",
       "    .dataframe tbody tr th {\n",
       "        vertical-align: top;\n",
       "    }\n",
       "\n",
       "    .dataframe thead th {\n",
       "        text-align: right;\n",
       "    }\n",
       "</style>\n",
       "<table border=\"1\" class=\"dataframe\">\n",
       "  <thead>\n",
       "    <tr style=\"text-align: right;\">\n",
       "      <th></th>\n",
       "      <th>sales</th>\n",
       "      <th>total_spend</th>\n",
       "    </tr>\n",
       "  </thead>\n",
       "  <tbody>\n",
       "    <tr>\n",
       "      <th>sales</th>\n",
       "      <td>1.000000</td>\n",
       "      <td>0.867712</td>\n",
       "    </tr>\n",
       "    <tr>\n",
       "      <th>total_spend</th>\n",
       "      <td>0.867712</td>\n",
       "      <td>1.000000</td>\n",
       "    </tr>\n",
       "  </tbody>\n",
       "</table>\n",
       "</div>"
      ],
      "text/plain": [
       "                sales  total_spend\n",
       "sales        1.000000     0.867712\n",
       "total_spend  0.867712     1.000000"
      ]
     },
     "execution_count": 9,
     "metadata": {},
     "output_type": "execute_result"
    }
   ],
   "source": [
    "df.corr()"
   ]
  },
  {
   "cell_type": "markdown",
   "id": "4650015b",
   "metadata": {},
   "source": [
    "----> \n",
    "----\n",
    ">\n",
    "- Till EDA --> data analysis / data understanding\n",
    "- Data understanding used only on raw data\n",
    "- Till corr(), we have raw data \n",
    "\n",
    "Data cleaning + encoding --> for data preparation\n",
    "\n",
    "In data preparation and data preprocessing stage \n",
    "\n",
    "1.\tData cleaning (Mandatory)\n",
    "\n",
    "2.\tEncoding (Mandatory)\n",
    ">Fit calculate only on numbers that’s why we do encoding\n",
    "\n",
    "3.\tScaling (not mandatory)\n",
    ">Scaling brings all number at same magnitude\n",
    "\n",
    "- Feature high magnitude \n",
    "- Column with big numbers --> (this statement is a common english word, don’t speak this for interview)\n",
    "- Some input feature with high magnitude & some input features with low magnitude in that case we will use scaling.\n",
    "\n",
    "4.\tTransformation (not mandatory)\n",
    "\n",
    "Whatever data you provide to the machine, it’ll give relation but answer will be worst. (accuracy low)\n",
    "\n",
    "So, in order to avoid low accuracy, we need to remove outliers\n",
    "\n",
    "Fit: you are required to do data cleaning apart from outliers & encoding or else, you will get an error.\n",
    "\n",
    "In some cases, outliers are important and we will try our data cleaning with or without outliers & we will check the result.\n"
   ]
  },
  {
   "cell_type": "markdown",
   "id": "a9c79b34",
   "metadata": {},
   "source": [
    "#### Data Cleaning"
   ]
  },
  {
   "cell_type": "code",
   "execution_count": 10,
   "id": "e87456da",
   "metadata": {},
   "outputs": [
    {
     "data": {
      "text/plain": [
       "sales          0\n",
       "total_spend    0\n",
       "dtype: int64"
      ]
     },
     "execution_count": 10,
     "metadata": {},
     "output_type": "execute_result"
    }
   ],
   "source": [
    "df.isnull().sum()"
   ]
  },
  {
   "cell_type": "markdown",
   "id": "4443bdf4",
   "metadata": {},
   "source": [
    "#### Data Wrangling"
   ]
  },
  {
   "cell_type": "code",
   "execution_count": 11,
   "id": "0101e08b",
   "metadata": {},
   "outputs": [],
   "source": [
    "# no encoding is required here because no categorical data is given"
   ]
  },
  {
   "cell_type": "markdown",
   "id": "5595d51d",
   "metadata": {},
   "source": [
    "#### creating x and y for training and testing"
   ]
  },
  {
   "cell_type": "code",
   "execution_count": 12,
   "id": "fc2f8b0b",
   "metadata": {},
   "outputs": [],
   "source": [
    "X = df[['total_spend']]\n",
    "y = df['sales']"
   ]
  },
  {
   "cell_type": "markdown",
   "id": "37230a38",
   "metadata": {},
   "source": [
    "#### Train_Test Split"
   ]
  },
  {
   "cell_type": "code",
   "execution_count": 13,
   "id": "7928bcf2",
   "metadata": {
    "scrolled": false
   },
   "outputs": [],
   "source": [
    "from sklearn.model_selection import train_test_split\n",
    "X_train, X_test, y_train, y_test = train_test_split(X, y, train_size=0.8, random_state=10)"
   ]
  },
  {
   "cell_type": "markdown",
   "id": "27812afb",
   "metadata": {},
   "source": [
    "# NOTE:\n",
    "Remember, you have to made your model in a way so it can predict for the future data.\n",
    "\n",
    "you need to check for the future data how it will work\n",
    "\n",
    "because after you will build your model, client will have some data for testing your model \n",
    "\n",
    "(client data --> testing data)\n"
   ]
  },
  {
   "attachments": {
    "image.png": {
     "image/png": "[encoded data removed]"
    }
   },
   "cell_type": "markdown",
   "id": "33c3e555",
   "metadata": {},
   "source": [
    "## Step - 4 Modelling\n",
    "![image.png](attachment:image.png)"
   ]
  },
  {
   "cell_type": "markdown",
   "id": "9d3d19e0",
   "metadata": {},
   "source": [
    "##### fit is applicable only on training data."
   ]
  },
  {
   "cell_type": "code",
   "execution_count": 14,
   "id": "162a15fb",
   "metadata": {},
   "outputs": [
    {
     "name": "stdout",
     "output_type": "stream",
     "text": [
      "Intercept: 4637.95269115237\n",
      "Coefficient: [0.04658003]\n"
     ]
    }
   ],
   "source": [
    "# import\n",
    "from sklearn.linear_model import LinearRegression\n",
    "\n",
    "# save the model\n",
    "model = LinearRegression()\n",
    "\n",
    "# fit\n",
    "model.fit(X_train, y_train)\n",
    "\n",
    "print('Intercept:', model.intercept_)\n",
    "print('Coefficient:', model.coef_)"
   ]
  },
  {
   "cell_type": "code",
   "execution_count": 15,
   "id": "da3c579d",
   "metadata": {
    "scrolled": true
   },
   "outputs": [
    {
     "data": {
      "text/html": [
       "<div>\n",
       "<style scoped>\n",
       "    .dataframe tbody tr th:only-of-type {\n",
       "        vertical-align: middle;\n",
       "    }\n",
       "\n",
       "    .dataframe tbody tr th {\n",
       "        vertical-align: top;\n",
       "    }\n",
       "\n",
       "    .dataframe thead th {\n",
       "        text-align: right;\n",
       "    }\n",
       "</style>\n",
       "<table border=\"1\" class=\"dataframe\">\n",
       "  <thead>\n",
       "    <tr style=\"text-align: right;\">\n",
       "      <th></th>\n",
       "      <th>total_spend</th>\n",
       "    </tr>\n",
       "  </thead>\n",
       "  <tbody>\n",
       "    <tr>\n",
       "      <th>59</th>\n",
       "      <td>249500</td>\n",
       "    </tr>\n",
       "    <tr>\n",
       "      <th>5</th>\n",
       "      <td>132600</td>\n",
       "    </tr>\n",
       "    <tr>\n",
       "      <th>20</th>\n",
       "      <td>299500</td>\n",
       "    </tr>\n",
       "    <tr>\n",
       "      <th>198</th>\n",
       "      <td>391800</td>\n",
       "    </tr>\n",
       "    <tr>\n",
       "      <th>52</th>\n",
       "      <td>297700</td>\n",
       "    </tr>\n",
       "    <tr>\n",
       "      <th>19</th>\n",
       "      <td>190300</td>\n",
       "    </tr>\n",
       "    <tr>\n",
       "      <th>162</th>\n",
       "      <td>232100</td>\n",
       "    </tr>\n",
       "    <tr>\n",
       "      <th>55</th>\n",
       "      <td>308300</td>\n",
       "    </tr>\n",
       "    <tr>\n",
       "      <th>69</th>\n",
       "      <td>287900</td>\n",
       "    </tr>\n",
       "    <tr>\n",
       "      <th>2</th>\n",
       "      <td>132400</td>\n",
       "    </tr>\n",
       "    <tr>\n",
       "      <th>98</th>\n",
       "      <td>383200</td>\n",
       "    </tr>\n",
       "    <tr>\n",
       "      <th>10</th>\n",
       "      <td>96100</td>\n",
       "    </tr>\n",
       "    <tr>\n",
       "      <th>75</th>\n",
       "      <td>150000</td>\n",
       "    </tr>\n",
       "    <tr>\n",
       "      <th>142</th>\n",
       "      <td>291600</td>\n",
       "    </tr>\n",
       "    <tr>\n",
       "      <th>124</th>\n",
       "      <td>336000</td>\n",
       "    </tr>\n",
       "    <tr>\n",
       "      <th>63</th>\n",
       "      <td>140700</td>\n",
       "    </tr>\n",
       "    <tr>\n",
       "      <th>109</th>\n",
       "      <td>287800</td>\n",
       "    </tr>\n",
       "    <tr>\n",
       "      <th>78</th>\n",
       "      <td>44700</td>\n",
       "    </tr>\n",
       "    <tr>\n",
       "      <th>111</th>\n",
       "      <td>302900</td>\n",
       "    </tr>\n",
       "    <tr>\n",
       "      <th>185</th>\n",
       "      <td>269700</td>\n",
       "    </tr>\n",
       "    <tr>\n",
       "      <th>154</th>\n",
       "      <td>218400</td>\n",
       "    </tr>\n",
       "    <tr>\n",
       "      <th>130</th>\n",
       "      <td>49000</td>\n",
       "    </tr>\n",
       "    <tr>\n",
       "      <th>61</th>\n",
       "      <td>358700</td>\n",
       "    </tr>\n",
       "    <tr>\n",
       "      <th>87</th>\n",
       "      <td>214500</td>\n",
       "    </tr>\n",
       "    <tr>\n",
       "      <th>102</th>\n",
       "      <td>311700</td>\n",
       "    </tr>\n",
       "    <tr>\n",
       "      <th>121</th>\n",
       "      <td>90900</td>\n",
       "    </tr>\n",
       "    <tr>\n",
       "      <th>136</th>\n",
       "      <td>73900</td>\n",
       "    </tr>\n",
       "    <tr>\n",
       "      <th>1</th>\n",
       "      <td>128900</td>\n",
       "    </tr>\n",
       "    <tr>\n",
       "      <th>47</th>\n",
       "      <td>299900</td>\n",
       "    </tr>\n",
       "    <tr>\n",
       "      <th>172</th>\n",
       "      <td>56700</td>\n",
       "    </tr>\n",
       "    <tr>\n",
       "      <th>159</th>\n",
       "      <td>184700</td>\n",
       "    </tr>\n",
       "    <tr>\n",
       "      <th>39</th>\n",
       "      <td>297700</td>\n",
       "    </tr>\n",
       "    <tr>\n",
       "      <th>76</th>\n",
       "      <td>49800</td>\n",
       "    </tr>\n",
       "    <tr>\n",
       "      <th>91</th>\n",
       "      <td>63100</td>\n",
       "    </tr>\n",
       "    <tr>\n",
       "      <th>35</th>\n",
       "      <td>303300</td>\n",
       "    </tr>\n",
       "    <tr>\n",
       "      <th>178</th>\n",
       "      <td>302700</td>\n",
       "    </tr>\n",
       "    <tr>\n",
       "      <th>127</th>\n",
       "      <td>89400</td>\n",
       "    </tr>\n",
       "    <tr>\n",
       "      <th>169</th>\n",
       "      <td>301300</td>\n",
       "    </tr>\n",
       "    <tr>\n",
       "      <th>46</th>\n",
       "      <td>135300</td>\n",
       "    </tr>\n",
       "    <tr>\n",
       "      <th>174</th>\n",
       "      <td>238900</td>\n",
       "    </tr>\n",
       "  </tbody>\n",
       "</table>\n",
       "</div>"
      ],
      "text/plain": [
       "     total_spend\n",
       "59        249500\n",
       "5         132600\n",
       "20        299500\n",
       "198       391800\n",
       "52        297700\n",
       "19        190300\n",
       "162       232100\n",
       "55        308300\n",
       "69        287900\n",
       "2         132400\n",
       "98        383200\n",
       "10         96100\n",
       "75        150000\n",
       "142       291600\n",
       "124       336000\n",
       "63        140700\n",
       "109       287800\n",
       "78         44700\n",
       "111       302900\n",
       "185       269700\n",
       "154       218400\n",
       "130        49000\n",
       "61        358700\n",
       "87        214500\n",
       "102       311700\n",
       "121        90900\n",
       "136        73900\n",
       "1         128900\n",
       "47        299900\n",
       "172        56700\n",
       "159       184700\n",
       "39        297700\n",
       "76         49800\n",
       "91         63100\n",
       "35        303300\n",
       "178       302700\n",
       "127        89400\n",
       "169       301300\n",
       "46        135300\n",
       "174       238900"
      ]
     },
     "execution_count": 15,
     "metadata": {},
     "output_type": "execute_result"
    }
   ],
   "source": [
    "X_test"
   ]
  },
  {
   "cell_type": "markdown",
   "id": "c2301099",
   "metadata": {},
   "source": [
    "## Step - 5 Evaluation"
   ]
  },
  {
   "cell_type": "markdown",
   "id": "fdcd8bf3",
   "metadata": {},
   "source": [
    "#### Predictions"
   ]
  },
  {
   "cell_type": "markdown",
   "id": "a50b6e12",
   "metadata": {},
   "source": [
    "#### manually predictions\n",
    "- Intercept: 4008.7628672427727\n",
    "- Coefficient: [0.05012858]\n",
    "\n",
    "sales = 4008.7 + (0.0501 * x)\n",
    "*X_test values are 298100, 256400, 104500, 311700...............*\n",
    "- 4637.9 + (0.046 * 249500) = 16259.67\n",
    "- 4637.9 + (0.046 * 256400) = 10814.46"
   ]
  },
  {
   "cell_type": "code",
   "execution_count": 16,
   "id": "cb320506",
   "metadata": {},
   "outputs": [
    {
     "data": {
      "text/plain": [
       "array([16259.67090352, 10814.46505572, 18588.67254928, 22888.00958736,\n",
       "       18504.82849004, 13502.13295493, 15449.17833079, 18998.57683894,\n",
       "       18048.34416747, 10805.14904914, 22487.42130429,  9114.29385431,\n",
       "       11624.95762845, 18220.69028925, 20288.84375069, 11191.76332233,\n",
       "       18043.68616417,  6720.08016247, 18747.0446612 , 17200.58756841,\n",
       "       14811.03187985,  6920.374304  , 21346.21049787, 14629.36975148,\n",
       "       19156.94895085,  8872.07768315,  8080.21712359, 10642.11893393,\n",
       "       18607.30456245,  7279.04055745, 13241.28477061, 18504.82849004,\n",
       "        6957.63833033,  7577.15276811, 18765.67667436, 18737.72865461,\n",
       "        8802.20763378, 18672.51660853, 10940.23114459, 15765.92255462])"
      ]
     },
     "execution_count": 16,
     "metadata": {},
     "output_type": "execute_result"
    }
   ],
   "source": [
    "ypred_test = model.predict(X_test)\n",
    "ypred_test"
   ]
  },
  {
   "cell_type": "code",
   "execution_count": 17,
   "id": "85708595",
   "metadata": {},
   "outputs": [
    {
     "data": {
      "text/plain": [
       "40"
      ]
     },
     "execution_count": 17,
     "metadata": {},
     "output_type": "execute_result"
    }
   ],
   "source": [
    "len(ypred_test)"
   ]
  },
  {
   "cell_type": "markdown",
   "id": "308eabc0",
   "metadata": {},
   "source": [
    "#### Evaluation"
   ]
  },
  {
   "cell_type": "markdown",
   "id": "2c0ed63f",
   "metadata": {},
   "source": [
    "**Mean Absolute Error** (MSE) is the mean of the absolute value of the errors."
   ]
  },
  {
   "cell_type": "code",
   "execution_count": 18,
   "id": "d42deb35",
   "metadata": {},
   "outputs": [
    {
     "name": "stdout",
     "output_type": "stream",
     "text": [
      "Test MAE: 2410.169006942131\n"
     ]
    }
   ],
   "source": [
    "from sklearn.metrics import mean_absolute_error\n",
    "print('Test MAE:', mean_absolute_error(y_test, ypred_test))"
   ]
  },
  {
   "cell_type": "markdown",
   "id": "2583b577",
   "metadata": {},
   "source": [
    "**Mean Square Error** (MSE) is the mean of the squared errors:"
   ]
  },
  {
   "cell_type": "code",
   "execution_count": 19,
   "id": "9896d207",
   "metadata": {},
   "outputs": [
    {
     "name": "stdout",
     "output_type": "stream",
     "text": [
      "Test MSE: 9189504.215445567\n"
     ]
    }
   ],
   "source": [
    "from sklearn.metrics import mean_squared_error\n",
    "print('Test MSE:', mean_squared_error(y_test,ypred_test))"
   ]
  },
  {
   "cell_type": "markdown",
   "id": "8ec1f941",
   "metadata": {},
   "source": [
    "**Root Mean Square Error** (RMSE) is the square root of the mean of the squared errors:"
   ]
  },
  {
   "cell_type": "code",
   "execution_count": 20,
   "id": "84b9d57b",
   "metadata": {},
   "outputs": [
    {
     "name": "stdout",
     "output_type": "stream",
     "text": [
      "Test RMSE: 3031.419505024926\n"
     ]
    }
   ],
   "source": [
    "print('Test RMSE:', np.sqrt(mean_squared_error(y_test,ypred_test)))"
   ]
  },
  {
   "cell_type": "markdown",
   "id": "3a80c23f",
   "metadata": {},
   "source": [
    "**Test R2**"
   ]
  },
  {
   "cell_type": "code",
   "execution_count": 21,
   "id": "66eae372",
   "metadata": {},
   "outputs": [
    {
     "name": "stdout",
     "output_type": "stream",
     "text": [
      "Test R2: 0.7742114019149008\n"
     ]
    }
   ],
   "source": [
    "from sklearn.metrics import r2_score\n",
    "print('Test R2:', r2_score(y_test, ypred_test))"
   ]
  },
  {
   "cell_type": "markdown",
   "id": "61cf5c24",
   "metadata": {},
   "source": [
    "*original y, predicted y*"
   ]
  },
  {
   "cell_type": "code",
   "execution_count": 22,
   "id": "85264612",
   "metadata": {},
   "outputs": [
    {
     "name": "stdout",
     "output_type": "stream",
     "text": [
      "Test R2 0.7742114019149008\n"
     ]
    }
   ],
   "source": [
    "print('Test R2', model.score(X_test, y_test))"
   ]
  },
  {
   "cell_type": "markdown",
   "id": "d661e8a1",
   "metadata": {},
   "source": [
    "*original x, original y*"
   ]
  },
  {
   "cell_type": "markdown",
   "id": "6f7b6b28",
   "metadata": {},
   "source": [
    "## Model Selection"
   ]
  },
  {
   "cell_type": "markdown",
   "id": "5dea8c6b",
   "metadata": {},
   "source": [
    "#### Checklist 1: Check whether model is good or either having overfitting/ underfitting problem\n",
    "**(test accuracy == train accuracy)**"
   ]
  },
  {
   "cell_type": "markdown",
   "id": "8a4926cd",
   "metadata": {},
   "source": [
    "**Train R2**"
   ]
  },
  {
   "cell_type": "code",
   "execution_count": 23,
   "id": "f8cdb229",
   "metadata": {
    "scrolled": true
   },
   "outputs": [
    {
     "name": "stdout",
     "output_type": "stream",
     "text": [
      "Train R2: 0.7397086424531464\n"
     ]
    }
   ],
   "source": [
    "# prediction on train data\n",
    "ypred_train = model.predict(X_train)\n",
    "print('Train R2:', model.score(X_train, y_train))"
   ]
  },
  {
   "cell_type": "markdown",
   "id": "2f3f807f",
   "metadata": {},
   "source": [
    "#### Checklist 2: Whether the Train Accuracy = Cross Validation Score"
   ]
  },
  {
   "cell_type": "code",
   "execution_count": 24,
   "id": "db9f723c",
   "metadata": {},
   "outputs": [
    {
     "name": "stdout",
     "output_type": "stream",
     "text": [
      "[0.65562505 0.71163394 0.7169332  0.83241075 0.72746307]\n",
      "Cross Validation Score: 0.7288132039865827\n"
     ]
    }
   ],
   "source": [
    "from sklearn.model_selection import cross_val_score\n",
    "scores = cross_val_score(model, X_train, y_train, cv=5)\n",
    "print(scores)\n",
    "\n",
    "print('Cross Validation Score:', scores.mean())"
   ]
  },
  {
   "cell_type": "markdown",
   "id": "a110d3c9",
   "metadata": {},
   "source": [
    "----> Train R2 = 0.739 (73.9%)\n",
    "\n",
    "----> CV = 0.728 (72.8%)\n",
    "\n",
    "***the difference between train and cv should be +/- 5%***\n",
    "- consider both almost same\n",
    "- if the difference increase so that's a bad model.\n",
    "- and if model is bad so again you will have to start you process from the starting and may be you need to change your algorithm\n",
    ">\n"
   ]
  },
  {
   "cell_type": "markdown",
   "id": "af168b90",
   "metadata": {},
   "source": [
    "### ==>> After evaluation on training data now your model is ready so you predicted on the test data\n",
    "\n",
    "#### Checklist 3: Check whether, it satisifies the Business Problem Requirements or not"
   ]
  },
  {
   "cell_type": "markdown",
   "id": "58d1b271",
   "metadata": {},
   "source": [
    "----> Train R2: 0.739 (73.9%)\n",
    "\n",
    "----> Test R2 0.774 (77.4%)\n",
    "\n",
    ">\n",
    "\n",
    "as we can see clearly **train accuracy is low** < **test accuracy is high**\n",
    "\n",
    "### Here, we can see clearly this is the best model because the difference between both train and test accuracy is between 0.05% "
   ]
  },
  {
   "cell_type": "code",
   "execution_count": 25,
   "id": "476d0de4",
   "metadata": {
    "scrolled": true
   },
   "outputs": [
    {
     "name": "stdout",
     "output_type": "stream",
     "text": [
      "Intercept: 4064.8025773895315\n",
      "Coefficients: [0.04927216]\n",
      "Train R2: 0.751955367544253\n",
      "Test R2: 0.7451800140806997\n",
      "Cross Validation Score: 0.7433783178555419\n"
     ]
    }
   ],
   "source": [
    "# Modelling\n",
    "from sklearn.linear_model import LinearRegression\n",
    "model = LinearRegression()\n",
    "\n",
    "X = df[['total_spend']]\n",
    "y = df['sales']\n",
    "\n",
    "from sklearn.model_selection import train_test_split\n",
    "X_train, X_test, y_train, y_test = train_test_split(X, y, train_size=0.8, random_state=9)\n",
    "model.fit(X_train, y_train)\n",
    "\n",
    "print('Intercept:', model.intercept_)\n",
    "print('Coefficients:', model.coef_)\n",
    "\n",
    "\n",
    "# Prediction\n",
    "ypred_train = model.predict(X_train)\n",
    "ypred_test = model.predict(X_test)\n",
    "\n",
    "\n",
    "# Evaluation\n",
    "print('Train R2:', model.score(X_train, y_train))\n",
    "print('Test R2:', model.score(X_test, y_test))\n",
    "print('Cross Validation Score:', cross_val_score(model, X, y, cv=5).mean())"
   ]
  },
  {
   "cell_type": "markdown",
   "id": "e4a340da",
   "metadata": {},
   "source": [
    "#### Checklist 4: (only for linear Regression) : Check for Assumptions"
   ]
  },
  {
   "cell_type": "markdown",
   "id": "7de8e9e9",
   "metadata": {},
   "source": [
    "#### 1. Linearity of Errors"
   ]
  },
  {
   "cell_type": "code",
   "execution_count": 26,
   "id": "e7150858",
   "metadata": {
    "scrolled": true
   },
   "outputs": [],
   "source": [
    "error = y_test - ypred_test"
   ]
  },
  {
   "cell_type": "code",
   "execution_count": 27,
   "id": "05144701",
   "metadata": {},
   "outputs": [
    {
     "data": {
      "image/png": "[encoded data removed]",
      "text/plain": [
       "<Figure size 500x400 with 1 Axes>"
      ]
     },
     "metadata": {},
     "output_type": "display_data"
    }
   ],
   "source": [
    "plt.figure(figsize=(5, 4))\n",
    "plt.scatter(y_test, error)\n",
    "plt.xlabel('observed_values')\n",
    "plt.ylabel('filtered_values')\n",
    "plt.show()"
   ]
  },
  {
   "cell_type": "markdown",
   "id": "966aed92",
   "metadata": {},
   "source": [
    "#### 2. Normality of Errors"
   ]
  },
  {
   "cell_type": "code",
   "execution_count": 28,
   "id": "a16117b8",
   "metadata": {},
   "outputs": [
    {
     "data": {
      "text/plain": [
       "-1.0344658354239882"
      ]
     },
     "execution_count": 28,
     "metadata": {},
     "output_type": "execute_result"
    }
   ],
   "source": [
    "error.skew()"
   ]
  },
  {
   "cell_type": "code",
   "execution_count": 29,
   "id": "c014f40d",
   "metadata": {},
   "outputs": [
    {
     "data": {
      "image/png": "[encoded data removed]",
      "text/plain": [
       "<Figure size 500x500 with 1 Axes>"
      ]
     },
     "metadata": {},
     "output_type": "display_data"
    }
   ],
   "source": [
    "sns.displot(error, kde=True)\n",
    "plt.show()"
   ]
  },
  {
   "cell_type": "markdown",
   "id": "9f5480e6",
   "metadata": {},
   "source": [
    "#### Equal Variance of Errors (Homoscedasticity)"
   ]
  },
  {
   "cell_type": "code",
   "execution_count": 30,
   "id": "42414dea",
   "metadata": {
    "scrolled": false
   },
   "outputs": [
    {
     "data": {
      "image/png": "[encoded data removed]",
      "text/plain": [
       "<Figure size 640x480 with 1 Axes>"
      ]
     },
     "metadata": {},
     "output_type": "display_data"
    }
   ],
   "source": [
    "import matplotlib.pyplot as plt\n",
    "plt.scatter(y_test, error)\n",
    "plt.axhline(y=0, color='red')\n",
    "plt.xlabel('fitted_values')\n",
    "plt.ylabel('residuals')\n",
    "plt.show()"
   ]
  },
  {
   "cell_type": "markdown",
   "id": "9b35c8df",
   "metadata": {},
   "source": [
    "#### 4. Variables Significance\n",
    "\n",
    "This line creates an OLS regression model using the formula 'y~X'. In regression notation, y~X means that you are modeling the relationship between the dependent variable y and the independent variable(s) X. The formula essentially specifies the linear regression equation.\n",
    "\n",
    "- y: The dependent variable (response variable).\n",
    "- X: The independent variable(s) (predictor variable(s))."
   ]
  },
  {
   "cell_type": "code",
   "execution_count": 44,
   "id": "f3436838",
   "metadata": {
    "scrolled": false
   },
   "outputs": [
    {
     "data": {
      "text/html": [
       "<table class=\"simpletable\">\n",
       "<caption>OLS Regression Results</caption>\n",
       "<tr>\n",
       "  <th>Dep. Variable:</th>         <td>y_train</td>     <th>  R-squared:         </th> <td>   0.740</td>\n",
       "</tr>\n",
       "<tr>\n",
       "  <th>Model:</th>                   <td>OLS</td>       <th>  Adj. R-squared:    </th> <td>   0.738</td>\n",
       "</tr>\n",
       "<tr>\n",
       "  <th>Method:</th>             <td>Least Squares</td>  <th>  F-statistic:       </th> <td>   449.0</td>\n",
       "</tr>\n",
       "<tr>\n",
       "  <th>Date:</th>             <td>Mon, 29 Jan 2024</td> <th>  Prob (F-statistic):</th> <td>4.87e-48</td>\n",
       "</tr>\n",
       "<tr>\n",
       "  <th>Time:</th>                 <td>14:02:39</td>     <th>  Log-Likelihood:    </th> <td> -1477.2</td>\n",
       "</tr>\n",
       "<tr>\n",
       "  <th>No. Observations:</th>      <td>   160</td>      <th>  AIC:               </th> <td>   2958.</td>\n",
       "</tr>\n",
       "<tr>\n",
       "  <th>Df Residuals:</th>          <td>   158</td>      <th>  BIC:               </th> <td>   2964.</td>\n",
       "</tr>\n",
       "<tr>\n",
       "  <th>Df Model:</th>              <td>     1</td>      <th>                     </th>     <td> </td>   \n",
       "</tr>\n",
       "<tr>\n",
       "  <th>Covariance Type:</th>      <td>nonrobust</td>    <th>                     </th>     <td> </td>   \n",
       "</tr>\n",
       "</table>\n",
       "<table class=\"simpletable\">\n",
       "<tr>\n",
       "      <td></td>         <th>coef</th>     <th>std err</th>      <th>t</th>      <th>P>|t|</th>  <th>[0.025</th>    <th>0.975]</th>  \n",
       "</tr>\n",
       "<tr>\n",
       "  <th>Intercept</th> <td> 4637.9527</td> <td>  476.384</td> <td>    9.736</td> <td> 0.000</td> <td> 3697.051</td> <td> 5578.854</td>\n",
       "</tr>\n",
       "<tr>\n",
       "  <th>X_train</th>   <td>    0.0466</td> <td>    0.002</td> <td>   21.190</td> <td> 0.000</td> <td>    0.042</td> <td>    0.051</td>\n",
       "</tr>\n",
       "</table>\n",
       "<table class=\"simpletable\">\n",
       "<tr>\n",
       "  <th>Omnibus:</th>       <td> 3.897</td> <th>  Durbin-Watson:     </th> <td>   1.974</td>\n",
       "</tr>\n",
       "<tr>\n",
       "  <th>Prob(Omnibus):</th> <td> 0.142</td> <th>  Jarque-Bera (JB):  </th> <td>   4.185</td>\n",
       "</tr>\n",
       "<tr>\n",
       "  <th>Skew:</th>          <td>-0.161</td> <th>  Prob(JB):          </th> <td>   0.123</td>\n",
       "</tr>\n",
       "<tr>\n",
       "  <th>Kurtosis:</th>      <td> 3.724</td> <th>  Cond. No.          </th> <td>5.25e+05</td>\n",
       "</tr>\n",
       "</table><br/><br/>Notes:<br/>[1] Standard Errors assume that the covariance matrix of the errors is correctly specified.<br/>[2] The condition number is large, 5.25e+05. This might indicate that there are<br/>strong multicollinearity or other numerical problems."
      ],
      "text/latex": [
       "\\begin{center}\n",
       "\\begin{tabular}{lclc}\n",
       "\\toprule\n",
       "\\textbf{Dep. Variable:}    &     y\\_train     & \\textbf{  R-squared:         } &     0.740   \\\\\n",
       "\\textbf{Model:}            &       OLS        & \\textbf{  Adj. R-squared:    } &     0.738   \\\\\n",
       "\\textbf{Method:}           &  Least Squares   & \\textbf{  F-statistic:       } &     449.0   \\\\\n",
       "\\textbf{Date:}             & Mon, 29 Jan 2024 & \\textbf{  Prob (F-statistic):} &  4.87e-48   \\\\\n",
       "\\textbf{Time:}             &     14:02:39     & \\textbf{  Log-Likelihood:    } &   -1477.2   \\\\\n",
       "\\textbf{No. Observations:} &         160      & \\textbf{  AIC:               } &     2958.   \\\\\n",
       "\\textbf{Df Residuals:}     &         158      & \\textbf{  BIC:               } &     2964.   \\\\\n",
       "\\textbf{Df Model:}         &           1      & \\textbf{                     } &             \\\\\n",
       "\\textbf{Covariance Type:}  &    nonrobust     & \\textbf{                     } &             \\\\\n",
       "\\bottomrule\n",
       "\\end{tabular}\n",
       "\\begin{tabular}{lcccccc}\n",
       "                   & \\textbf{coef} & \\textbf{std err} & \\textbf{t} & \\textbf{P$> |$t$|$} & \\textbf{[0.025} & \\textbf{0.975]}  \\\\\n",
       "\\midrule\n",
       "\\textbf{Intercept} &    4637.9527  &      476.384     &     9.736  &         0.000        &     3697.051    &     5578.854     \\\\\n",
       "\\textbf{X\\_train}  &       0.0466  &        0.002     &    21.190  &         0.000        &        0.042    &        0.051     \\\\\n",
       "\\bottomrule\n",
       "\\end{tabular}\n",
       "\\begin{tabular}{lclc}\n",
       "\\textbf{Omnibus:}       &  3.897 & \\textbf{  Durbin-Watson:     } &    1.974  \\\\\n",
       "\\textbf{Prob(Omnibus):} &  0.142 & \\textbf{  Jarque-Bera (JB):  } &    4.185  \\\\\n",
       "\\textbf{Skew:}          & -0.161 & \\textbf{  Prob(JB):          } &    0.123  \\\\\n",
       "\\textbf{Kurtosis:}      &  3.724 & \\textbf{  Cond. No.          } & 5.25e+05  \\\\\n",
       "\\bottomrule\n",
       "\\end{tabular}\n",
       "%\\caption{OLS Regression Results}\n",
       "\\end{center}\n",
       "\n",
       "Notes: \\newline\n",
       " [1] Standard Errors assume that the covariance matrix of the errors is correctly specified. \\newline\n",
       " [2] The condition number is large, 5.25e+05. This might indicate that there are \\newline\n",
       " strong multicollinearity or other numerical problems."
      ],
      "text/plain": [
       "<class 'statsmodels.iolib.summary.Summary'>\n",
       "\"\"\"\n",
       "                            OLS Regression Results                            \n",
       "==============================================================================\n",
       "Dep. Variable:                y_train   R-squared:                       0.740\n",
       "Model:                            OLS   Adj. R-squared:                  0.738\n",
       "Method:                 Least Squares   F-statistic:                     449.0\n",
       "Date:                Mon, 29 Jan 2024   Prob (F-statistic):           4.87e-48\n",
       "Time:                        14:02:39   Log-Likelihood:                -1477.2\n",
       "No. Observations:                 160   AIC:                             2958.\n",
       "Df Residuals:                     158   BIC:                             2964.\n",
       "Df Model:                           1                                         \n",
       "Covariance Type:            nonrobust                                         \n",
       "==============================================================================\n",
       "                 coef    std err          t      P>|t|      [0.025      0.975]\n",
       "------------------------------------------------------------------------------\n",
       "Intercept   4637.9527    476.384      9.736      0.000    3697.051    5578.854\n",
       "X_train        0.0466      0.002     21.190      0.000       0.042       0.051\n",
       "==============================================================================\n",
       "Omnibus:                        3.897   Durbin-Watson:                   1.974\n",
       "Prob(Omnibus):                  0.142   Jarque-Bera (JB):                4.185\n",
       "Skew:                          -0.161   Prob(JB):                        0.123\n",
       "Kurtosis:                       3.724   Cond. No.                     5.25e+05\n",
       "==============================================================================\n",
       "\n",
       "Notes:\n",
       "[1] Standard Errors assume that the covariance matrix of the errors is correctly specified.\n",
       "[2] The condition number is large, 5.25e+05. This might indicate that there are\n",
       "strong multicollinearity or other numerical problems.\n",
       "\"\"\""
      ]
     },
     "execution_count": 44,
     "metadata": {},
     "output_type": "execute_result"
    }
   ],
   "source": [
    "from sklearn.model_selection import train_test_split\n",
    "df_train, df_test = train_test_split(df, train_size=0.8, random_state=10)\n",
    "\n",
    "import statsmodels.formula.api as smf\n",
    "model2 = smf.ols('y_train~X_train', data=df_train).fit()\n",
    "model2.summary()"
   ]
  },
  {
   "cell_type": "markdown",
   "id": "a8fe6a63",
   "metadata": {},
   "source": [
    "This line prints a summary of the OLS regression results. The summary includes various statistics and information about the model, such as coefficients, standard errors, t-values, p-values, and more. It's a comprehensive overview of the regression analysis."
   ]
  },
  {
   "cell_type": "markdown",
   "id": "f17e24b3",
   "metadata": {},
   "source": [
    "## Final Model"
   ]
  },
  {
   "cell_type": "code",
   "execution_count": 37,
   "id": "ecee39b0",
   "metadata": {
    "scrolled": false
   },
   "outputs": [
    {
     "name": "stdout",
     "output_type": "stream",
     "text": [
      "Intercept: 4637.95269115237\n",
      "Coefficients: [0.04658003]\n",
      "Train R2: 0.7397086424531464\n",
      "Test R2: 0.7742114019149008\n",
      "Cross Validation Score: 0.7433783178555419\n"
     ]
    }
   ],
   "source": [
    "# Modelling\n",
    "from sklearn.linear_model import LinearRegression\n",
    "model = LinearRegression()\n",
    "\n",
    "X = df[['total_spend']]\n",
    "y = df['sales']\n",
    "\n",
    "from sklearn.model_selection import train_test_split\n",
    "X_train, X_test, y_train, y_test = train_test_split(X, y, train_size=0.8, random_state=10)\n",
    "model.fit(X_train, y_train)\n",
    "\n",
    "print('Intercept:', model.intercept_)\n",
    "print('Coefficients:', model.coef_)\n",
    "\n",
    "\n",
    "# Prediction\n",
    "ypred_train = model.predict(X_train)\n",
    "ypred_test = model.predict(X_test)\n",
    "\n",
    "\n",
    "# Evaluation\n",
    "print('Train R2:', model.score(X_train, y_train))\n",
    "print('Test R2:', model.score(X_test, y_test))\n",
    "print('Cross Validation Score:', cross_val_score(model, X, y, cv=5).mean())"
   ]
  },
  {
   "cell_type": "code",
   "execution_count": 38,
   "id": "c354a2f7",
   "metadata": {},
   "outputs": [
    {
     "name": "stdout",
     "output_type": "stream",
     "text": [
      "Train R2: 0.7397086424531464\n",
      "Train R2: 0.7742114019149008\n"
     ]
    }
   ],
   "source": [
    "from sklearn.metrics import r2_score\n",
    "print('Train R2:', r2_score(y_train, ypred_train))\n",
    "from sklearn.metrics import r2_score\n",
    "print('Train R2:', r2_score(y_test, ypred_test))"
   ]
  },
  {
   "cell_type": "markdown",
   "id": "525b2025",
   "metadata": {},
   "source": [
    "Sales = 0.04658003(totalspend) + 4637.95269115237\n",
    "\n",
    "#### Interpreting the coefficients\n",
    "\n",
    "- A **1 unit increase in total Spend** is associated with an **increase of 0.0492 units in sales**.\n",
    "- This basically means that for every $10000 dollars spend on Ads, we could expect 492 more units sold."
   ]
  },
  {
   "cell_type": "markdown",
   "id": "4b168d6f",
   "metadata": {},
   "source": [
    ">\n",
    "## Future Data (Prediction)\n",
    "For the future data don't predict directly firstly perform data preprocessing then after that predict on the future data.\n",
    "\n",
    "perform data preprocessing for the future data"
   ]
  },
  {
   "cell_type": "markdown",
   "id": "7126bc20",
   "metadata": {},
   "source": [
    "#### Use the model to make predictions on a new value. For a total spend of 200k on Ads, how many units could we expect to be sold?\n",
    "\n",
    "future data, we will convert into dataframe then we will predict"
   ]
  },
  {
   "cell_type": "code",
   "execution_count": 39,
   "id": "cde1c306",
   "metadata": {},
   "outputs": [
    {
     "data": {
      "text/html": [
       "<div>\n",
       "<style scoped>\n",
       "    .dataframe tbody tr th:only-of-type {\n",
       "        vertical-align: middle;\n",
       "    }\n",
       "\n",
       "    .dataframe tbody tr th {\n",
       "        vertical-align: top;\n",
       "    }\n",
       "\n",
       "    .dataframe thead th {\n",
       "        text-align: right;\n",
       "    }\n",
       "</style>\n",
       "<table border=\"1\" class=\"dataframe\">\n",
       "  <thead>\n",
       "    <tr style=\"text-align: right;\">\n",
       "      <th></th>\n",
       "      <th>total_spend</th>\n",
       "    </tr>\n",
       "  </thead>\n",
       "  <tbody>\n",
       "    <tr>\n",
       "      <th>0</th>\n",
       "      <td>200000</td>\n",
       "    </tr>\n",
       "  </tbody>\n",
       "</table>\n",
       "</div>"
      ],
      "text/plain": [
       "   total_spend\n",
       "0       200000"
      ]
     },
     "execution_count": 39,
     "metadata": {},
     "output_type": "execute_result"
    }
   ],
   "source": [
    "new_data = pd.DataFrame({'total_spend':[200000]})\n",
    "new_data"
   ]
  },
  {
   "cell_type": "code",
   "execution_count": 40,
   "id": "37f9a401",
   "metadata": {},
   "outputs": [
    {
     "data": {
      "text/plain": [
       "array([13953.95927421])"
      ]
     },
     "execution_count": 40,
     "metadata": {},
     "output_type": "execute_result"
    }
   ],
   "source": [
    "model.predict(new_data)"
   ]
  },
  {
   "cell_type": "code",
   "execution_count": 42,
   "id": "11b5c09e",
   "metadata": {},
   "outputs": [
    {
     "data": {
      "text/plain": [
       "13953.95869115237"
      ]
     },
     "execution_count": 42,
     "metadata": {},
     "output_type": "execute_result"
    }
   ],
   "source": [
    "Sales = (0.04658003 * 200000) + 4637.95269115237\n",
    "Sales"
   ]
  },
  {
   "cell_type": "markdown",
   "id": "b801e707",
   "metadata": {},
   "source": [
    "whatever is the accuracy above mentioned in Test R^2 (0.7742) that would be the accuracy for the future data.\n",
    "\n",
    "Means if we spend 200000 so 13953 units will be sold with 77.4% acuracy \n",
    ">"
   ]
  },
  {
   "cell_type": "markdown",
   "id": "9a473cbf",
   "metadata": {},
   "source": [
    "## Save a Model\n",
    "\n",
    "##### saving model dependent on the deployment team (whether save using joblib or pickle)\n",
    "\n",
    "'wb' - writing mode"
   ]
  },
  {
   "cell_type": "code",
   "execution_count": null,
   "id": "afb24ffb",
   "metadata": {},
   "outputs": [],
   "source": [
    "from joblib import dump\n",
    "dump(model, 'sales_model.joblib')"
   ]
  },
  {
   "cell_type": "markdown",
   "id": "c4e35371",
   "metadata": {},
   "source": [
    "- Flask (__name__), it will create an empty website\n",
    "- render template, it will run html file\n",
    ">"
   ]
  },
  {
   "cell_type": "markdown",
   "id": "debf06aa",
   "metadata": {},
   "source": [
    "# EXAMPLE "
   ]
  },
  {
   "cell_type": "code",
   "execution_count": null,
   "id": "79d2064e",
   "metadata": {},
   "outputs": [],
   "source": [
    "df = pd.DataFrame({'X':[1, 2, 3, 4, 5, 6, 7, 8, 9, 10], 'y':[6, 7, 8, 9, 10, 11, 12, 13, 14, 15]})\n",
    "df"
   ]
  },
  {
   "cell_type": "code",
   "execution_count": null,
   "id": "fc307037",
   "metadata": {},
   "outputs": [],
   "source": [
    "df['X'].mean()"
   ]
  },
  {
   "cell_type": "code",
   "execution_count": null,
   "id": "a01de63d",
   "metadata": {},
   "outputs": [],
   "source": [
    "df['y'].mean()"
   ]
  },
  {
   "cell_type": "code",
   "execution_count": null,
   "id": "89c41bbf",
   "metadata": {},
   "outputs": [],
   "source": [
    "df.info()"
   ]
  },
  {
   "cell_type": "code",
   "execution_count": null,
   "id": "c0d74b90",
   "metadata": {},
   "outputs": [],
   "source": [
    "X = df[['X']]\n",
    "y = df['y']"
   ]
  },
  {
   "cell_type": "code",
   "execution_count": null,
   "id": "3b452a44",
   "metadata": {},
   "outputs": [],
   "source": [
    "from sklearn.model_selection import train_test_split\n",
    "X_train, X_test, y_train, y_test = train_test_split(X, y, train_size=0.8, random_state=True)\n",
    "X_train"
   ]
  },
  {
   "cell_type": "code",
   "execution_count": null,
   "id": "3cf6ac47",
   "metadata": {},
   "outputs": [],
   "source": [
    "y_train"
   ]
  },
  {
   "cell_type": "code",
   "execution_count": null,
   "id": "fe523779",
   "metadata": {},
   "outputs": [],
   "source": [
    "y_test"
   ]
  },
  {
   "cell_type": "code",
   "execution_count": null,
   "id": "3d874ea4",
   "metadata": {},
   "outputs": [],
   "source": [
    "X_test"
   ]
  },
  {
   "cell_type": "code",
   "execution_count": null,
   "id": "adc75538",
   "metadata": {},
   "outputs": [],
   "source": [
    "from sklearn.linear_model import LinearRegression\n",
    "model = LinearRegression()\n",
    "model.fit(X_train, y_train)"
   ]
  },
  {
   "cell_type": "code",
   "execution_count": null,
   "id": "63d4ce2c",
   "metadata": {},
   "outputs": [],
   "source": [
    "print('Intercept:', model.intercept_)\n",
    "print('Coefficient:', model.coef_)"
   ]
  },
  {
   "cell_type": "code",
   "execution_count": null,
   "id": "ec146a8f",
   "metadata": {},
   "outputs": [],
   "source": [
    "ypred_test = model.predict(X_test)\n",
    "ypred_test"
   ]
  },
  {
   "cell_type": "code",
   "execution_count": null,
   "id": "4af747fd",
   "metadata": {},
   "outputs": [],
   "source": [
    "len(ypred_test)"
   ]
  },
  {
   "cell_type": "code",
   "execution_count": null,
   "id": "4a16cffc",
   "metadata": {},
   "outputs": [],
   "source": [
    "from sklearn.metrics import mean_absolute_error\n",
    "print('Test MAE:', mean_absolute_error(y_test, ypred_test))"
   ]
  },
  {
   "cell_type": "code",
   "execution_count": null,
   "id": "046ebe4c",
   "metadata": {},
   "outputs": [],
   "source": [
    "from sklearn.metrics import mean_squared_error\n",
    "print('Test MSE:', mean_squared_error(y_test,ypred_test))"
   ]
  },
  {
   "cell_type": "code",
   "execution_count": null,
   "id": "67b83655",
   "metadata": {},
   "outputs": [],
   "source": [
    "import numpy as np\n",
    "print('Test RMSE:', np.sqrt(mean_squared_error(y_test,ypred_test)))"
   ]
  },
  {
   "cell_type": "code",
   "execution_count": null,
   "id": "244e25f9",
   "metadata": {},
   "outputs": [],
   "source": [
    "print('Test R2', model.score(X_test, y_test))"
   ]
  },
  {
   "cell_type": "code",
   "execution_count": null,
   "id": "fe226f71",
   "metadata": {},
   "outputs": [],
   "source": [
    "print('Train R2:', model.score(X_train, y_train))"
   ]
  },
  {
   "cell_type": "code",
   "execution_count": null,
   "id": "343dcb26",
   "metadata": {},
   "outputs": [],
   "source": [
    "from sklearn.model_selection import cross_val_score\n",
    "scores = cross_val_score(model, X, y, cv=5)\n",
    "print(scores)\n",
    "\n",
    "print('Cross Validation Score:', scores.mean())"
   ]
  },
  {
   "cell_type": "markdown",
   "id": "5b7e81ed",
   "metadata": {},
   "source": [
    "# EXAMPLE "
   ]
  },
  {
   "cell_type": "code",
   "execution_count": null,
   "id": "9b54d9bc",
   "metadata": {},
   "outputs": [],
   "source": [
    "import pandas as pd\n",
    "df = pd.DataFrame({'X':[1, 2, 3, 4, 5, 6, 7, 8, 9, 10], 'y': [1, 4, 9, 16, 25, 36, 49, 64, 81, 100]})\n",
    "df"
   ]
  },
  {
   "cell_type": "code",
   "execution_count": null,
   "id": "0f215882",
   "metadata": {},
   "outputs": [],
   "source": [
    "X = df[['X']]\n",
    "y = df['y']"
   ]
  },
  {
   "cell_type": "code",
   "execution_count": null,
   "id": "5b429fad",
   "metadata": {
    "scrolled": true
   },
   "outputs": [],
   "source": [
    "from sklearn.model_selection import train_test_split\n",
    "X_train, X_test, y_train, y_test = train_test_split(X, y, train_size=0.8, random_state=True)\n",
    "X_train"
   ]
  },
  {
   "cell_type": "code",
   "execution_count": null,
   "id": "dbb1768a",
   "metadata": {},
   "outputs": [],
   "source": [
    "y_train"
   ]
  },
  {
   "cell_type": "code",
   "execution_count": null,
   "id": "675553a5",
   "metadata": {},
   "outputs": [],
   "source": [
    "X_test"
   ]
  },
  {
   "cell_type": "code",
   "execution_count": null,
   "id": "fcfcfb35",
   "metadata": {},
   "outputs": [],
   "source": [
    "y_test"
   ]
  },
  {
   "cell_type": "code",
   "execution_count": null,
   "id": "e8b0ad0d",
   "metadata": {},
   "outputs": [],
   "source": [
    "from sklearn.linear_model import LinearRegression\n",
    "model = LinearRegression()\n",
    "model.fit(X_train, y_train)"
   ]
  },
  {
   "cell_type": "code",
   "execution_count": null,
   "id": "ded4ce57",
   "metadata": {},
   "outputs": [],
   "source": [
    "print('Intercept:', model.intercept_)\n",
    "print('Coefficient:', model.coef_)"
   ]
  },
  {
   "cell_type": "markdown",
   "id": "379c0fd5",
   "metadata": {},
   "source": [
    "### Calculate Intercept and Coefficient step by step"
   ]
  },
  {
   "cell_type": "code",
   "execution_count": null,
   "id": "ac15997e",
   "metadata": {},
   "outputs": [],
   "source": [
    "x̄ = X_train.mean()\n",
    "x̄"
   ]
  },
  {
   "cell_type": "code",
   "execution_count": null,
   "id": "1a8e6959",
   "metadata": {
    "scrolled": true
   },
   "outputs": [],
   "source": [
    "ȳ = y_train.mean()\n",
    "ȳ"
   ]
  },
  {
   "cell_type": "code",
   "execution_count": null,
   "id": "e719b92b",
   "metadata": {
    "scrolled": true
   },
   "outputs": [],
   "source": [
    "df['X-x̄'] = X_train - x̄\n",
    "df['X-x̄']"
   ]
  },
  {
   "cell_type": "code",
   "execution_count": null,
   "id": "3b7bb47f",
   "metadata": {},
   "outputs": [],
   "source": [
    "df['y-ȳ'] = y_train - ȳ\n",
    "df['y-ȳ']"
   ]
  },
  {
   "cell_type": "code",
   "execution_count": null,
   "id": "734047d1",
   "metadata": {},
   "outputs": [],
   "source": [
    "df['X-x̄'] * df['y-ȳ']"
   ]
  },
  {
   "cell_type": "code",
   "execution_count": null,
   "id": "20481040",
   "metadata": {},
   "outputs": [],
   "source": [
    "(df['X-x̄'] * df['y-ȳ'])"
   ]
  },
  {
   "cell_type": "code",
   "execution_count": null,
   "id": "28e8e094",
   "metadata": {},
   "outputs": [],
   "source": [
    "(df['X-x̄'] * df['y-ȳ']).sum()"
   ]
  },
  {
   "cell_type": "code",
   "execution_count": null,
   "id": "86b8571a",
   "metadata": {},
   "outputs": [],
   "source": [
    "df['X-x̄']**2"
   ]
  },
  {
   "cell_type": "code",
   "execution_count": null,
   "id": "c5fe24e1",
   "metadata": {},
   "outputs": [],
   "source": [
    "(df['X-x̄']**2).sum()"
   ]
  },
  {
   "cell_type": "code",
   "execution_count": null,
   "id": "e3f9d0e2",
   "metadata": {},
   "outputs": [],
   "source": [
    "df['y-ȳ']**2"
   ]
  },
  {
   "cell_type": "code",
   "execution_count": null,
   "id": "a9d981fc",
   "metadata": {},
   "outputs": [],
   "source": [
    "(df['y-ȳ']**2).sum()"
   ]
  },
  {
   "cell_type": "code",
   "execution_count": null,
   "id": "b734f451",
   "metadata": {},
   "outputs": [],
   "source": [
    "β1 = (df['X-x̄'] * df['y-ȳ']).sum() / (df['X-x̄']**2).sum()\n",
    "β1"
   ]
  },
  {
   "cell_type": "code",
   "execution_count": null,
   "id": "9dfcd1ca",
   "metadata": {},
   "outputs": [],
   "source": [
    "β0 = ȳ - (β1 * x̄)\n",
    "β0"
   ]
  },
  {
   "cell_type": "code",
   "execution_count": null,
   "id": "53872b9e",
   "metadata": {},
   "outputs": [],
   "source": [
    "# ŷ = β0 + (β1 * x)\n",
    "# ŷ = -17.432432 + (9.89189 * x) \n",
    "# ŷ = 9.89189(x) - 17.432432"
   ]
  },
  {
   "cell_type": "code",
   "execution_count": null,
   "id": "b6502c2c",
   "metadata": {},
   "outputs": [],
   "source": [
    "ŷ = (9.89189 * (X_train)) - 17.432432\n",
    "ŷ  = ŷ['X']\n",
    "ŷ"
   ]
  },
  {
   "cell_type": "code",
   "execution_count": null,
   "id": "d11f5cfa",
   "metadata": {},
   "outputs": [],
   "source": [
    "y_train"
   ]
  },
  {
   "cell_type": "code",
   "execution_count": null,
   "id": "1e8db12d",
   "metadata": {},
   "outputs": [],
   "source": [
    "y_train - ŷ"
   ]
  },
  {
   "cell_type": "code",
   "execution_count": null,
   "id": "76cda66b",
   "metadata": {},
   "outputs": [],
   "source": [
    "(y_train - ŷ) ** 2"
   ]
  },
  {
   "cell_type": "code",
   "execution_count": null,
   "id": "8381fb0c",
   "metadata": {},
   "outputs": [],
   "source": [
    "SSE = ((y_train - ŷ) ** 2).sum()\n",
    "SSE"
   ]
  },
  {
   "cell_type": "code",
   "execution_count": null,
   "id": "a4d442c4",
   "metadata": {},
   "outputs": [],
   "source": [
    "MSE = SSE/ len(X_train)\n",
    "MSE"
   ]
  },
  {
   "cell_type": "code",
   "execution_count": null,
   "id": "cbe481be",
   "metadata": {},
   "outputs": [],
   "source": [
    "import numpy as np\n",
    "RMSE = np.sqrt(MSE)\n",
    "RMSE"
   ]
  },
  {
   "cell_type": "markdown",
   "id": "0fb67990",
   "metadata": {},
   "source": [
    "#### manually predictions\n",
    "- Intercept: 17.432432\n",
    "- Coefficient:  9.89189\n",
    "\n",
    "pred = 9.89189(x) - 17.432432\n",
    "*X_test values are 3, 10*\n",
    "- 17.432432 + (9.89189 * 3) = 12.243\n",
    "- 17.432432 + (9.89189 * 10) = 81.486"
   ]
  },
  {
   "cell_type": "code",
   "execution_count": null,
   "id": "7752bd0c",
   "metadata": {},
   "outputs": [],
   "source": [
    "y_pred = model.predict(X_train)\n",
    "y_pred"
   ]
  },
  {
   "cell_type": "code",
   "execution_count": null,
   "id": "24cef0e5",
   "metadata": {
    "scrolled": true
   },
   "outputs": [],
   "source": [
    "from sklearn.metrics import mean_absolute_error\n",
    "print('Train MAE:', mean_absolute_error(y_train, ŷ))\n",
    "# both are same thing\n",
    "print('Train MAE:', mean_absolute_error(y_train, y_pred))"
   ]
  },
  {
   "cell_type": "code",
   "execution_count": null,
   "id": "037f8ff9",
   "metadata": {
    "scrolled": true
   },
   "outputs": [],
   "source": [
    "from sklearn.metrics import mean_squared_error\n",
    "print('Train MSE:', mean_squared_error(y_train,y_pred))"
   ]
  },
  {
   "cell_type": "code",
   "execution_count": null,
   "id": "7ba40991",
   "metadata": {
    "scrolled": true
   },
   "outputs": [],
   "source": [
    "import numpy as np\n",
    "print('Train RMSE:', np.sqrt(mean_squared_error(y_train, ŷ)))"
   ]
  },
  {
   "cell_type": "code",
   "execution_count": null,
   "id": "aac14924",
   "metadata": {},
   "outputs": [],
   "source": [
    "print('Train R2:', model.score(X_train, y_train))"
   ]
  },
  {
   "cell_type": "code",
   "execution_count": null,
   "id": "ca58fdaf",
   "metadata": {},
   "outputs": [],
   "source": [
    "from sklearn.model_selection import cross_val_score\n",
    "scores = cross_val_score(model, X, y, cv=5)\n",
    "print(scores)\n",
    "\n",
    "print('Cross Validation Score:', scores.mean())"
   ]
  },
  {
   "cell_type": "markdown",
   "id": "32a40e20",
   "metadata": {},
   "source": [
    "### based on our calculation we can see that our train r^2 accuracy is 0.94 and cv score is -39 that basically means our model is not good.\n",
    "\n",
    "even my model is not good still I am calculating test accuracy"
   ]
  },
  {
   "cell_type": "markdown",
   "id": "96a1731a",
   "metadata": {},
   "source": [
    "### calculate test accuracy"
   ]
  },
  {
   "cell_type": "code",
   "execution_count": null,
   "id": "e60caa5c",
   "metadata": {},
   "outputs": [],
   "source": [
    "y_pred = model.predict(X_test)\n",
    "y_pred"
   ]
  },
  {
   "cell_type": "code",
   "execution_count": null,
   "id": "2599511b",
   "metadata": {},
   "outputs": [],
   "source": [
    "X_test"
   ]
  },
  {
   "cell_type": "code",
   "execution_count": null,
   "id": "1a1b49d8",
   "metadata": {},
   "outputs": [],
   "source": [
    "ŷ = (9.89189 * (X_test)) - 17.432432\n",
    "ŷ"
   ]
  },
  {
   "cell_type": "code",
   "execution_count": null,
   "id": "901dd4f2",
   "metadata": {
    "scrolled": true
   },
   "outputs": [],
   "source": [
    "from sklearn.metrics import mean_absolute_error\n",
    "print('Test MAE:', mean_absolute_error(y_test, ŷ))\n",
    "# both are same thing\n",
    "# print('Test MAE:', mean_absolute_error(y_test, y_pred))"
   ]
  },
  {
   "cell_type": "code",
   "execution_count": null,
   "id": "25b83303",
   "metadata": {},
   "outputs": [],
   "source": [
    "from sklearn.metrics import mean_squared_error\n",
    "print('Test MSE:', mean_squared_error(y_test,ŷ))"
   ]
  },
  {
   "cell_type": "code",
   "execution_count": null,
   "id": "91396089",
   "metadata": {},
   "outputs": [],
   "source": [
    "import numpy as np\n",
    "print('Test RMSE:', np.sqrt(mean_squared_error(y_test,ŷ)))"
   ]
  },
  {
   "cell_type": "code",
   "execution_count": null,
   "id": "0ce0ff03",
   "metadata": {
    "scrolled": true
   },
   "outputs": [],
   "source": [
    "print('Test R2', model.score(X_test, y_test))"
   ]
  },
  {
   "cell_type": "code",
   "execution_count": null,
   "id": "40ec8bc2",
   "metadata": {},
   "outputs": [],
   "source": [
    "import matplotlib.pyplot as plt\n",
    "plt.figure(figsize=(4, 3))\n",
    "plt.scatter(X_train,y_train)\n",
    "plt.plot(X_train,model.predict(X_train))"
   ]
  },
  {
   "cell_type": "code",
   "execution_count": null,
   "id": "3acbcbb1",
   "metadata": {},
   "outputs": [],
   "source": [
    "plt.figure(figsize=(4, 3))\n",
    "plt.scatter(X_test,y_test)\n",
    "plt.plot(X_test,model.predict(X_test))"
   ]
  },
  {
   "cell_type": "markdown",
   "id": "1fee33aa",
   "metadata": {},
   "source": [
    ">\n",
    "\n",
    "what are the ways to calculate accuarcy between train, cv and test\n",
    "- Train RMSE\n",
    "- Test R^2\n",
    "- CV (this will be calculated only on train)\n",
    "- Test RMSE\n",
    "- Test R^2"
   ]
  },
  {
   "cell_type": "code",
   "execution_count": null,
   "id": "d4a01343",
   "metadata": {},
   "outputs": [],
   "source": []
  },
  {
   "cell_type": "code",
   "execution_count": null,
   "id": "9dac860b",
   "metadata": {},
   "outputs": [],
   "source": []
  },
  {
   "cell_type": "code",
   "execution_count": null,
   "id": "1f9ac733",
   "metadata": {},
   "outputs": [],
   "source": []
  },
  {
   "cell_type": "code",
   "execution_count": null,
   "id": "97997504",
   "metadata": {},
   "outputs": [],
   "source": []
  },
  {
   "cell_type": "code",
   "execution_count": null,
   "id": "9d6b786a",
   "metadata": {},
   "outputs": [],
   "source": []
  },
  {
   "cell_type": "code",
   "execution_count": null,
   "id": "b2d338ac",
   "metadata": {},
   "outputs": [],
   "source": []
  },
  {
   "cell_type": "code",
   "execution_count": null,
   "id": "92201086",
   "metadata": {},
   "outputs": [],
   "source": []
  },
  {
   "cell_type": "code",
   "execution_count": null,
   "id": "87e763cc",
   "metadata": {},
   "outputs": [],
   "source": []
  },
  {
   "cell_type": "code",
   "execution_count": null,
   "id": "4426d246",
   "metadata": {},
   "outputs": [],
   "source": []
  },
  {
   "cell_type": "code",
   "execution_count": null,
   "id": "9c77429d",
   "metadata": {},
   "outputs": [],
   "source": []
  },
  {
   "cell_type": "code",
   "execution_count": null,
   "id": "33a52a4d",
   "metadata": {},
   "outputs": [],
   "source": []
  },
  {
   "cell_type": "code",
   "execution_count": null,
   "id": "77a3cbc0",
   "metadata": {},
   "outputs": [],
   "source": []
  },
  {
   "cell_type": "code",
   "execution_count": null,
   "id": "bd8e8aff",
   "metadata": {},
   "outputs": [],
   "source": []
  }
 ],
 "metadata": {
  "kernelspec": {
   "display_name": "Python 3 (ipykernel)",
   "language": "python",
   "name": "python3"
  },
  "language_info": {
   "codemirror_mode": {
    "name": "ipython",
    "version": 3
   },
   "file_extension": ".py",
   "mimetype": "text/x-python",
   "name": "python",
   "nbconvert_exporter": "python",
   "pygments_lexer": "ipython3",
   "version": "3.11.5"
  }
 },
 "nbformat": 4,
 "nbformat_minor": 5
}
