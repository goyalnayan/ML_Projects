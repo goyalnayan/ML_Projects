{
 "cells": [
  {
   "cell_type": "markdown",
   "id": "b649b6ad",
   "metadata": {},
   "source": [
    "### Now, the question is which algorithm is the best!\n",
    "Between both Lasso and Ridge, lasso is best algorithm because we predicted with only '4' variables because we removed gender column and in ridge we predcited with '5' varaibles because we didn't remove that one column."
   ]
  },
  {
   "cell_type": "markdown",
   "id": "42ac641d",
   "metadata": {},
   "source": []
  },
  {
   "cell_type": "markdown",
   "id": "d9f3d2db",
   "metadata": {},
   "source": []
  },
  {
   "cell_type": "code",
   "execution_count": null,
   "id": "6d577b2b",
   "metadata": {},
   "outputs": [],
   "source": []
  },
  {
   "cell_type": "markdown",
   "id": "e15deca0",
   "metadata": {},
   "source": []
  },
  {
   "cell_type": "code",
   "execution_count": null,
   "id": "8790ab8c",
   "metadata": {},
   "outputs": [],
   "source": []
  },
  {
   "cell_type": "markdown",
   "id": "f015cf1c",
   "metadata": {},
   "source": []
  },
  {
   "cell_type": "code",
   "execution_count": null,
   "id": "729c3caf",
   "metadata": {},
   "outputs": [],
   "source": []
  },
  {
   "cell_type": "markdown",
   "id": "f4c69fdc",
   "metadata": {},
   "source": []
  },
  {
   "cell_type": "markdown",
   "id": "4dd310d4",
   "metadata": {},
   "source": []
  },
  {
   "cell_type": "code",
   "execution_count": null,
   "id": "da1dc019",
   "metadata": {},
   "outputs": [],
   "source": []
  },
  {
   "cell_type": "markdown",
   "id": "919848b0",
   "metadata": {},
   "source": []
  },
  {
   "cell_type": "code",
   "execution_count": null,
   "id": "831f63f1",
   "metadata": {},
   "outputs": [],
   "source": [
    "input_data = {'age':35,\n",
    "             'sex':'Male',\n",
    "             'bmi':31.4,\n",
    "             'children':5,\n",
    "             'smoker':'yes',\n",
    "             'region':'southeast'}\n",
    "df_test = pd.DataFrame(input_data, index=[0])\n",
    "df_test"
   ]
  },
  {
   "cell_type": "code",
   "execution_count": null,
   "id": "b69fd0b2",
   "metadata": {},
   "outputs": [],
   "source": []
  },
  {
   "cell_type": "code",
   "execution_count": null,
   "id": "e3149cf2",
   "metadata": {},
   "outputs": [],
   "source": []
  },
  {
   "cell_type": "code",
   "execution_count": null,
   "id": "6a57d88c",
   "metadata": {},
   "outputs": [],
   "source": []
  },
  {
   "cell_type": "code",
   "execution_count": null,
   "id": "48e6c826",
   "metadata": {},
   "outputs": [],
   "source": []
  },
  {
   "cell_type": "code",
   "execution_count": null,
   "id": "3feb3214",
   "metadata": {},
   "outputs": [],
   "source": []
  }
 ],
 "metadata": {
  "kernelspec": {
   "display_name": "Python 3 (ipykernel)",
   "language": "python",
   "name": "python3"
  },
  "language_info": {
   "codemirror_mode": {
    "name": "ipython",
    "version": 3
   },
   "file_extension": ".py",
   "mimetype": "text/x-python",
   "name": "python",
   "nbconvert_exporter": "python",
   "pygments_lexer": "ipython3",
   "version": "3.11.5"
  }
 },
 "nbformat": 4,
 "nbformat_minor": 5
}
