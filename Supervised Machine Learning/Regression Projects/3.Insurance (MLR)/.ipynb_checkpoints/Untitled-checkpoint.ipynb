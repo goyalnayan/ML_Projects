{
 "cells": [
  {
   "cell_type": "markdown",
   "id": "723751e8",
   "metadata": {},
   "source": [
    "### Multiple Linear regression\n",
    "- Test R2: 0.7814\n",
    "- expenses = 33059.918 (expenses with 78.14% accuarcy)\n",
    "\n",
    "### Polynomial regression\n",
    "- Test R2: 0.8112\n",
    "- expenses = 26684.358 (expenses with 81.12% accuarcy)\n",
    "\n",
    "### Lasso regression\n",
    "- Test R2: 0.7812\n",
    "- expenses = 32630.321 (expenses with 78.12% accuarcy)\n",
    "\n",
    "### Ridge regression\n",
    "- Test R2: 0.7813\n",
    "- expenses = 32840.671 (expenses with 78.13% accuarcy)\n",
    "\n",
    "### ElasticNet regression\n",
    "- Test R2: 0.7326\n",
    "- expenses = 33453.119 (expenses with 73% accuarcy)"
   ]
  },
  {
   "cell_type": "code",
   "execution_count": null,
   "id": "5237e216",
   "metadata": {},
   "outputs": [],
   "source": []
  },
  {
   "cell_type": "code",
   "execution_count": null,
   "id": "b3d9f43e",
   "metadata": {},
   "outputs": [],
   "source": []
  }
 ],
 "metadata": {
  "kernelspec": {
   "display_name": "Python 3 (ipykernel)",
   "language": "python",
   "name": "python3"
  },
  "language_info": {
   "codemirror_mode": {
    "name": "ipython",
    "version": 3
   },
   "file_extension": ".py",
   "mimetype": "text/x-python",
   "name": "python",
   "nbconvert_exporter": "python",
   "pygments_lexer": "ipython3",
   "version": "3.11.5"
  }
 },
 "nbformat": 4,
 "nbformat_minor": 5
}
