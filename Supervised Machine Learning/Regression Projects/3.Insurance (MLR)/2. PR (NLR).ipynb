{
 "cells": [
  {
   "cell_type": "markdown",
   "id": "eeef774c",
   "metadata": {},
   "source": [
    "## Step -1 Business Problem Understanding"
   ]
  },
  {
   "cell_type": "code",
   "execution_count": 1,
   "id": "3b3d2d81",
   "metadata": {},
   "outputs": [],
   "source": [
    "import warnings\n",
    "warnings.filterwarnings('ignore')\n",
    "\n",
    "import pandas as pd\n",
    "import numpy as np\n",
    "import matplotlib.pyplot as plt\n",
    "import seaborn as sns"
   ]
  },
  {
   "cell_type": "markdown",
   "id": "a96b3621",
   "metadata": {},
   "source": [
    "## Step -2 Data Understanding"
   ]
  },
  {
   "cell_type": "markdown",
   "id": "6768a9c6",
   "metadata": {},
   "source": [
    "#### Load data & Understand every variable"
   ]
  },
  {
   "cell_type": "code",
   "execution_count": 2,
   "id": "f5c42480",
   "metadata": {},
   "outputs": [
    {
     "data": {
      "text/html": [
       "<div>\n",
       "<style scoped>\n",
       "    .dataframe tbody tr th:only-of-type {\n",
       "        vertical-align: middle;\n",
       "    }\n",
       "\n",
       "    .dataframe tbody tr th {\n",
       "        vertical-align: top;\n",
       "    }\n",
       "\n",
       "    .dataframe thead th {\n",
       "        text-align: right;\n",
       "    }\n",
       "</style>\n",
       "<table border=\"1\" class=\"dataframe\">\n",
       "  <thead>\n",
       "    <tr style=\"text-align: right;\">\n",
       "      <th></th>\n",
       "      <th>age</th>\n",
       "      <th>sex</th>\n",
       "      <th>bmi</th>\n",
       "      <th>children</th>\n",
       "      <th>smoker</th>\n",
       "      <th>region</th>\n",
       "      <th>expenses</th>\n",
       "    </tr>\n",
       "  </thead>\n",
       "  <tbody>\n",
       "    <tr>\n",
       "      <th>0</th>\n",
       "      <td>19</td>\n",
       "      <td>female</td>\n",
       "      <td>27.9</td>\n",
       "      <td>0</td>\n",
       "      <td>yes</td>\n",
       "      <td>southwest</td>\n",
       "      <td>16884.92</td>\n",
       "    </tr>\n",
       "    <tr>\n",
       "      <th>1</th>\n",
       "      <td>18</td>\n",
       "      <td>male</td>\n",
       "      <td>33.8</td>\n",
       "      <td>1</td>\n",
       "      <td>no</td>\n",
       "      <td>southeast</td>\n",
       "      <td>1725.55</td>\n",
       "    </tr>\n",
       "    <tr>\n",
       "      <th>2</th>\n",
       "      <td>28</td>\n",
       "      <td>male</td>\n",
       "      <td>33.0</td>\n",
       "      <td>3</td>\n",
       "      <td>no</td>\n",
       "      <td>southeast</td>\n",
       "      <td>4449.46</td>\n",
       "    </tr>\n",
       "    <tr>\n",
       "      <th>3</th>\n",
       "      <td>33</td>\n",
       "      <td>male</td>\n",
       "      <td>22.7</td>\n",
       "      <td>0</td>\n",
       "      <td>no</td>\n",
       "      <td>northwest</td>\n",
       "      <td>21984.47</td>\n",
       "    </tr>\n",
       "    <tr>\n",
       "      <th>4</th>\n",
       "      <td>32</td>\n",
       "      <td>male</td>\n",
       "      <td>28.9</td>\n",
       "      <td>0</td>\n",
       "      <td>no</td>\n",
       "      <td>northwest</td>\n",
       "      <td>3866.86</td>\n",
       "    </tr>\n",
       "  </tbody>\n",
       "</table>\n",
       "</div>"
      ],
      "text/plain": [
       "   age     sex   bmi  children smoker     region  expenses\n",
       "0   19  female  27.9         0    yes  southwest  16884.92\n",
       "1   18    male  33.8         1     no  southeast   1725.55\n",
       "2   28    male  33.0         3     no  southeast   4449.46\n",
       "3   33    male  22.7         0     no  northwest  21984.47\n",
       "4   32    male  28.9         0     no  northwest   3866.86"
      ]
     },
     "execution_count": 2,
     "metadata": {},
     "output_type": "execute_result"
    }
   ],
   "source": [
    "df = pd.read_csv('insurance.csv')\n",
    "df.head()"
   ]
  },
  {
   "cell_type": "markdown",
   "id": "880e088f",
   "metadata": {},
   "source": [
    "#### dataset understanding"
   ]
  },
  {
   "cell_type": "code",
   "execution_count": 3,
   "id": "50f6b2f0",
   "metadata": {},
   "outputs": [
    {
     "data": {
      "text/plain": [
       "(1338, 7)"
      ]
     },
     "execution_count": 3,
     "metadata": {},
     "output_type": "execute_result"
    }
   ],
   "source": [
    "df.shape"
   ]
  },
  {
   "cell_type": "code",
   "execution_count": 4,
   "id": "78585821",
   "metadata": {},
   "outputs": [
    {
     "name": "stdout",
     "output_type": "stream",
     "text": [
      "<class 'pandas.core.frame.DataFrame'>\n",
      "RangeIndex: 1338 entries, 0 to 1337\n",
      "Data columns (total 7 columns):\n",
      " #   Column    Non-Null Count  Dtype  \n",
      "---  ------    --------------  -----  \n",
      " 0   age       1338 non-null   int64  \n",
      " 1   sex       1338 non-null   object \n",
      " 2   bmi       1338 non-null   float64\n",
      " 3   children  1338 non-null   int64  \n",
      " 4   smoker    1338 non-null   object \n",
      " 5   region    1338 non-null   object \n",
      " 6   expenses  1338 non-null   float64\n",
      "dtypes: float64(2), int64(2), object(3)\n",
      "memory usage: 73.3+ KB\n"
     ]
    }
   ],
   "source": [
    "df.info()"
   ]
  },
  {
   "cell_type": "code",
   "execution_count": 5,
   "id": "5b6c54f6",
   "metadata": {},
   "outputs": [
    {
     "data": {
      "text/plain": [
       "sex\n",
       "male      676\n",
       "female    662\n",
       "Name: count, dtype: int64"
      ]
     },
     "execution_count": 5,
     "metadata": {},
     "output_type": "execute_result"
    }
   ],
   "source": [
    "df['sex'].value_counts()"
   ]
  },
  {
   "cell_type": "code",
   "execution_count": 6,
   "id": "0cb329cb",
   "metadata": {},
   "outputs": [
    {
     "data": {
      "text/plain": [
       "children\n",
       "0    574\n",
       "1    324\n",
       "2    240\n",
       "3    157\n",
       "4     25\n",
       "5     18\n",
       "Name: count, dtype: int64"
      ]
     },
     "execution_count": 6,
     "metadata": {},
     "output_type": "execute_result"
    }
   ],
   "source": [
    "df['children'].value_counts()"
   ]
  },
  {
   "cell_type": "code",
   "execution_count": 7,
   "id": "a1e08e6a",
   "metadata": {},
   "outputs": [
    {
     "data": {
      "text/plain": [
       "smoker\n",
       "no     1064\n",
       "yes     274\n",
       "Name: count, dtype: int64"
      ]
     },
     "execution_count": 7,
     "metadata": {},
     "output_type": "execute_result"
    }
   ],
   "source": [
    "df['smoker'].value_counts()"
   ]
  },
  {
   "cell_type": "code",
   "execution_count": 8,
   "id": "be713c88",
   "metadata": {},
   "outputs": [
    {
     "data": {
      "text/plain": [
       "region\n",
       "southeast    364\n",
       "southwest    325\n",
       "northwest    325\n",
       "northeast    324\n",
       "Name: count, dtype: int64"
      ]
     },
     "execution_count": 8,
     "metadata": {},
     "output_type": "execute_result"
    }
   ],
   "source": [
    "df['region'].value_counts()"
   ]
  },
  {
   "cell_type": "markdown",
   "id": "74fbf9e3",
   "metadata": {},
   "source": [
    "#### Exploratory Data Analysis"
   ]
  },
  {
   "cell_type": "code",
   "execution_count": 9,
   "id": "72a118e1",
   "metadata": {},
   "outputs": [],
   "source": [
    "continuous_features = ['age', 'bmi', 'expenses']\n",
    "discrete_categorical = ['sex', 'smoker', 'region']\n",
    "discrete_count = ['children']"
   ]
  },
  {
   "cell_type": "code",
   "execution_count": 10,
   "id": "7767feba",
   "metadata": {},
   "outputs": [
    {
     "data": {
      "text/html": [
       "<div>\n",
       "<style scoped>\n",
       "    .dataframe tbody tr th:only-of-type {\n",
       "        vertical-align: middle;\n",
       "    }\n",
       "\n",
       "    .dataframe tbody tr th {\n",
       "        vertical-align: top;\n",
       "    }\n",
       "\n",
       "    .dataframe thead th {\n",
       "        text-align: right;\n",
       "    }\n",
       "</style>\n",
       "<table border=\"1\" class=\"dataframe\">\n",
       "  <thead>\n",
       "    <tr style=\"text-align: right;\">\n",
       "      <th></th>\n",
       "      <th>age</th>\n",
       "      <th>bmi</th>\n",
       "      <th>expenses</th>\n",
       "    </tr>\n",
       "  </thead>\n",
       "  <tbody>\n",
       "    <tr>\n",
       "      <th>count</th>\n",
       "      <td>1338.000000</td>\n",
       "      <td>1338.000000</td>\n",
       "      <td>1338.000000</td>\n",
       "    </tr>\n",
       "    <tr>\n",
       "      <th>mean</th>\n",
       "      <td>39.207025</td>\n",
       "      <td>30.665471</td>\n",
       "      <td>13270.422414</td>\n",
       "    </tr>\n",
       "    <tr>\n",
       "      <th>std</th>\n",
       "      <td>14.049960</td>\n",
       "      <td>6.098382</td>\n",
       "      <td>12110.011240</td>\n",
       "    </tr>\n",
       "    <tr>\n",
       "      <th>min</th>\n",
       "      <td>18.000000</td>\n",
       "      <td>16.000000</td>\n",
       "      <td>1121.870000</td>\n",
       "    </tr>\n",
       "    <tr>\n",
       "      <th>25%</th>\n",
       "      <td>27.000000</td>\n",
       "      <td>26.300000</td>\n",
       "      <td>4740.287500</td>\n",
       "    </tr>\n",
       "    <tr>\n",
       "      <th>50%</th>\n",
       "      <td>39.000000</td>\n",
       "      <td>30.400000</td>\n",
       "      <td>9382.030000</td>\n",
       "    </tr>\n",
       "    <tr>\n",
       "      <th>75%</th>\n",
       "      <td>51.000000</td>\n",
       "      <td>34.700000</td>\n",
       "      <td>16639.915000</td>\n",
       "    </tr>\n",
       "    <tr>\n",
       "      <th>max</th>\n",
       "      <td>64.000000</td>\n",
       "      <td>53.100000</td>\n",
       "      <td>63770.430000</td>\n",
       "    </tr>\n",
       "  </tbody>\n",
       "</table>\n",
       "</div>"
      ],
      "text/plain": [
       "               age          bmi      expenses\n",
       "count  1338.000000  1338.000000   1338.000000\n",
       "mean     39.207025    30.665471  13270.422414\n",
       "std      14.049960     6.098382  12110.011240\n",
       "min      18.000000    16.000000   1121.870000\n",
       "25%      27.000000    26.300000   4740.287500\n",
       "50%      39.000000    30.400000   9382.030000\n",
       "75%      51.000000    34.700000  16639.915000\n",
       "max      64.000000    53.100000  63770.430000"
      ]
     },
     "execution_count": 10,
     "metadata": {},
     "output_type": "execute_result"
    }
   ],
   "source": [
    "df[continuous_features].describe()"
   ]
  },
  {
   "cell_type": "code",
   "execution_count": 11,
   "id": "03cb30ac",
   "metadata": {},
   "outputs": [
    {
     "data": {
      "text/html": [
       "<div>\n",
       "<style scoped>\n",
       "    .dataframe tbody tr th:only-of-type {\n",
       "        vertical-align: middle;\n",
       "    }\n",
       "\n",
       "    .dataframe tbody tr th {\n",
       "        vertical-align: top;\n",
       "    }\n",
       "\n",
       "    .dataframe thead th {\n",
       "        text-align: right;\n",
       "    }\n",
       "</style>\n",
       "<table border=\"1\" class=\"dataframe\">\n",
       "  <thead>\n",
       "    <tr style=\"text-align: right;\">\n",
       "      <th></th>\n",
       "      <th>sex</th>\n",
       "      <th>smoker</th>\n",
       "      <th>region</th>\n",
       "    </tr>\n",
       "  </thead>\n",
       "  <tbody>\n",
       "    <tr>\n",
       "      <th>count</th>\n",
       "      <td>1338</td>\n",
       "      <td>1338</td>\n",
       "      <td>1338</td>\n",
       "    </tr>\n",
       "    <tr>\n",
       "      <th>unique</th>\n",
       "      <td>2</td>\n",
       "      <td>2</td>\n",
       "      <td>4</td>\n",
       "    </tr>\n",
       "    <tr>\n",
       "      <th>top</th>\n",
       "      <td>male</td>\n",
       "      <td>no</td>\n",
       "      <td>southeast</td>\n",
       "    </tr>\n",
       "    <tr>\n",
       "      <th>freq</th>\n",
       "      <td>676</td>\n",
       "      <td>1064</td>\n",
       "      <td>364</td>\n",
       "    </tr>\n",
       "  </tbody>\n",
       "</table>\n",
       "</div>"
      ],
      "text/plain": [
       "         sex smoker     region\n",
       "count   1338   1338       1338\n",
       "unique     2      2          4\n",
       "top     male     no  southeast\n",
       "freq     676   1064        364"
      ]
     },
     "execution_count": 11,
     "metadata": {},
     "output_type": "execute_result"
    }
   ],
   "source": [
    "df[discrete_categorical].describe()"
   ]
  },
  {
   "cell_type": "code",
   "execution_count": 12,
   "id": "a39f36c4",
   "metadata": {},
   "outputs": [
    {
     "data": {
      "text/html": [
       "<div>\n",
       "<style scoped>\n",
       "    .dataframe tbody tr th:only-of-type {\n",
       "        vertical-align: middle;\n",
       "    }\n",
       "\n",
       "    .dataframe tbody tr th {\n",
       "        vertical-align: top;\n",
       "    }\n",
       "\n",
       "    .dataframe thead th {\n",
       "        text-align: right;\n",
       "    }\n",
       "</style>\n",
       "<table border=\"1\" class=\"dataframe\">\n",
       "  <thead>\n",
       "    <tr style=\"text-align: right;\">\n",
       "      <th></th>\n",
       "      <th>age</th>\n",
       "      <th>bmi</th>\n",
       "      <th>expenses</th>\n",
       "    </tr>\n",
       "  </thead>\n",
       "  <tbody>\n",
       "    <tr>\n",
       "      <th>age</th>\n",
       "      <td>1.000000</td>\n",
       "      <td>0.109341</td>\n",
       "      <td>0.299008</td>\n",
       "    </tr>\n",
       "    <tr>\n",
       "      <th>bmi</th>\n",
       "      <td>0.109341</td>\n",
       "      <td>1.000000</td>\n",
       "      <td>0.198576</td>\n",
       "    </tr>\n",
       "    <tr>\n",
       "      <th>expenses</th>\n",
       "      <td>0.299008</td>\n",
       "      <td>0.198576</td>\n",
       "      <td>1.000000</td>\n",
       "    </tr>\n",
       "  </tbody>\n",
       "</table>\n",
       "</div>"
      ],
      "text/plain": [
       "               age       bmi  expenses\n",
       "age       1.000000  0.109341  0.299008\n",
       "bmi       0.109341  1.000000  0.198576\n",
       "expenses  0.299008  0.198576  1.000000"
      ]
     },
     "execution_count": 12,
     "metadata": {},
     "output_type": "execute_result"
    }
   ],
   "source": [
    "df[continuous_features].corr()"
   ]
  },
  {
   "cell_type": "markdown",
   "id": "5a9399f3",
   "metadata": {},
   "source": [
    "## Step - 3: Data Preprocessing"
   ]
  },
  {
   "cell_type": "markdown",
   "id": "937eab9e",
   "metadata": {},
   "source": [
    "#### Data Cleaning"
   ]
  },
  {
   "cell_type": "code",
   "execution_count": 13,
   "id": "419e9acb",
   "metadata": {},
   "outputs": [
    {
     "data": {
      "text/plain": [
       "age         0\n",
       "sex         0\n",
       "bmi         0\n",
       "children    0\n",
       "smoker      0\n",
       "region      0\n",
       "expenses    0\n",
       "dtype: int64"
      ]
     },
     "execution_count": 13,
     "metadata": {},
     "output_type": "execute_result"
    }
   ],
   "source": [
    "df.isnull().sum()"
   ]
  },
  {
   "cell_type": "code",
   "execution_count": 14,
   "id": "cb7139b7",
   "metadata": {},
   "outputs": [
    {
     "data": {
      "text/plain": [
       "1"
      ]
     },
     "execution_count": 14,
     "metadata": {},
     "output_type": "execute_result"
    }
   ],
   "source": [
    "df.duplicated().sum()"
   ]
  },
  {
   "cell_type": "code",
   "execution_count": 15,
   "id": "0b3d4d17",
   "metadata": {},
   "outputs": [],
   "source": [
    "df.drop_duplicates(inplace=True)"
   ]
  },
  {
   "cell_type": "code",
   "execution_count": 16,
   "id": "2cede115",
   "metadata": {},
   "outputs": [
    {
     "data": {
      "text/plain": [
       "(1337, 7)"
      ]
     },
     "execution_count": 16,
     "metadata": {},
     "output_type": "execute_result"
    }
   ],
   "source": [
    "df.shape"
   ]
  },
  {
   "cell_type": "code",
   "execution_count": 17,
   "id": "73431e81",
   "metadata": {},
   "outputs": [],
   "source": [
    "df.drop('region', axis=1, inplace=True)"
   ]
  },
  {
   "cell_type": "markdown",
   "id": "d5098791",
   "metadata": {},
   "source": [
    "#### Encoding"
   ]
  },
  {
   "cell_type": "code",
   "execution_count": 18,
   "id": "e30482ce",
   "metadata": {},
   "outputs": [],
   "source": [
    "# encoding sex column\n",
    "df['sex'].replace({'female':0, 'male':1}, inplace=True)\n",
    "\n",
    "# encoding 'smoker' column\n",
    "df['smoker'].replace({'no':0, 'yes':1}, inplace=True)"
   ]
  },
  {
   "cell_type": "markdown",
   "id": "d3c5dc9f",
   "metadata": {},
   "source": [
    "#### X&y"
   ]
  },
  {
   "cell_type": "code",
   "execution_count": 19,
   "id": "9c911f37",
   "metadata": {},
   "outputs": [],
   "source": [
    "X = df.drop('expenses', axis=1)\n",
    "y = df['expenses']"
   ]
  },
  {
   "cell_type": "markdown",
   "id": "075bf2fb",
   "metadata": {},
   "source": [
    "## Step - 4: Modeling"
   ]
  },
  {
   "cell_type": "markdown",
   "id": "ef530a32",
   "metadata": {},
   "source": [
    "### findout the best random_state value "
   ]
  },
  {
   "cell_type": "code",
   "execution_count": 20,
   "id": "fae90dca",
   "metadata": {},
   "outputs": [
    {
     "name": "stdout",
     "output_type": "stream",
     "text": [
      "best random state number: [90]\n"
     ]
    }
   ],
   "source": [
    "from sklearn.model_selection import train_test_split\n",
    "from sklearn.linear_model import LinearRegression\n",
    "from sklearn.model_selection import cross_val_score\n",
    "from sklearn.metrics import r2_score\n",
    "\n",
    "Train = []\n",
    "Test = []\n",
    "CV = []\n",
    "\n",
    "for i in range(0, 100):\n",
    "    X_train, X_test, y_train, y_test = train_test_split(X, y, test_size=0.2, random_state=i)\n",
    "    model = LinearRegression()\n",
    "    model.fit(X_train, y_train)\n",
    "\n",
    "    ypred_train = model.predict(X_train)\n",
    "    ypred_test = model.predict(X_test)\n",
    "\n",
    "    Train.append(model.score(X_train, y_train))\n",
    "    # print('Train R2:', r2_score(y_train, ypred_train))\n",
    "    Test.append(model.score(X_test, y_test))\n",
    "    # print('Test R2:', r2_score(y_test, ypred_test))\n",
    "\n",
    "    CV.append(cross_val_score(model, X_train, y_train, cv=5).mean())\n",
    "\n",
    "\n",
    "em = pd.DataFrame({'Train':Train, 'Test':Test, 'CV':CV})\n",
    "gm = em[(abs(em['Train']-em['Test']) <= 0.05) & (abs(em['Test']-em['CV']) <=0.05)]\n",
    "print('best random state number:', gm[gm['Test']==gm['Test'].max()].index.to_list())"
   ]
  },
  {
   "cell_type": "code",
   "execution_count": 21,
   "id": "5188e48b",
   "metadata": {},
   "outputs": [],
   "source": [
    "from sklearn.model_selection import train_test_split\n",
    "X_train, X_test, y_train, y_test = train_test_split(X, y, test_size=0.2, random_state=90)"
   ]
  },
  {
   "cell_type": "markdown",
   "id": "fe42b2cf",
   "metadata": {},
   "source": [
    "# <font color = aqua> Polynomial Regresion </font> "
   ]
  },
  {
   "cell_type": "markdown",
   "id": "68262ed0",
   "metadata": {},
   "source": [
    "## Hyperparameter Tuning\n",
    "#### Choosing the best polynomial degree for given dataset"
   ]
  },
  {
   "cell_type": "code",
   "execution_count": 22,
   "id": "c0851c6a",
   "metadata": {},
   "outputs": [],
   "source": [
    "from sklearn.linear_model import LinearRegression\n",
    "from sklearn.model_selection import cross_val_score\n",
    "from sklearn.metrics import r2_score\n",
    "from sklearn.preprocessing import PolynomialFeatures\n",
    "\n",
    "\n",
    "train_r2 = []\n",
    "test_r2 = []\n",
    "for i in range(1, 10):\n",
    "    # data preprocessing on train data\n",
    "    polynomial_converter = PolynomialFeatures(degree=i)\n",
    "    X_train_poly = pd.DataFrame(polynomial_converter.fit_transform(X_train))\n",
    "\n",
    "    # modelling on train data\n",
    "    from sklearn.linear_model import LinearRegression\n",
    "    model = LinearRegression()\n",
    "    model.fit(X_train_poly, y_train)\n",
    "\n",
    "\n",
    "    # prediction and evaluation on train data\n",
    "    ypred_train = model.predict(X_train_poly)\n",
    "       # print('Train R2:', i, model.score(X_train_poly, y_train))\n",
    "    train_r2.append(model.score(X_train_poly, y_train))\n",
    "\n",
    "    # transformation on test data\n",
    "    X_test_poly = pd.DataFrame(polynomial_converter.fit_transform(X_test))\n",
    "\n",
    "    # prediction and evaluation on test data\n",
    "    ypred_test = model.predict(X_test_poly)\n",
    "       # print('Test R2:', i, model.score(X_test_poly, y_test))\n",
    "    test_r2.append(model.score(X_test_poly, y_test))"
   ]
  },
  {
   "cell_type": "code",
   "execution_count": 23,
   "id": "6da9c53f",
   "metadata": {},
   "outputs": [
    {
     "data": {
      "text/plain": [
       "[0.7408889895315596,\n",
       " 0.8331314951008288,\n",
       " 0.8315194582650793,\n",
       " 0.8512842583640126,\n",
       " 0.8638455011376718,\n",
       " 0.8769764871061212,\n",
       " 0.8875930315161533,\n",
       " 0.8639136749635385,\n",
       " 0.9089294816940532]"
      ]
     },
     "execution_count": 23,
     "metadata": {},
     "output_type": "execute_result"
    }
   ],
   "source": [
    "train_r2"
   ]
  },
  {
   "cell_type": "code",
   "execution_count": 24,
   "id": "eb83d39a",
   "metadata": {},
   "outputs": [
    {
     "data": {
      "text/plain": [
       "[0.7814830789571359,\n",
       " 0.883076067634921,\n",
       " 0.8461044557399258,\n",
       " 0.8112069152864396,\n",
       " 0.7377295753644332,\n",
       " -2.4590264327865805,\n",
       " -377.2238364833275,\n",
       " -7155.643907267677,\n",
       " -15925.494774260704]"
      ]
     },
     "execution_count": 24,
     "metadata": {},
     "output_type": "execute_result"
    }
   ],
   "source": [
    "test_r2"
   ]
  },
  {
   "cell_type": "markdown",
   "id": "ee196427",
   "metadata": {},
   "source": [
    "##### between both train_r2 and test_r2, we can see index number 4 is having highest degree"
   ]
  },
  {
   "cell_type": "markdown",
   "id": "b3a1bca0",
   "metadata": {},
   "source": [
    "### Build a model"
   ]
  },
  {
   "cell_type": "code",
   "execution_count": 33,
   "id": "ef3fa93e",
   "metadata": {
    "scrolled": true
   },
   "outputs": [
    {
     "name": "stdout",
     "output_type": "stream",
     "text": [
      "Intercept: 921.6090469079099\n",
      "Train R2: 0.8512842583640126\n",
      "Test R2: 0.8112069152864396\n",
      "Cross Validation Score: 0.8126643086646149\n"
     ]
    }
   ],
   "source": [
    "from sklearn.preprocessing import PolynomialFeatures\n",
    "from sklearn.linear_model import LinearRegression\n",
    "from sklearn.metrics import r2_score\n",
    "\n",
    "polynomial_converter = PolynomialFeatures(degree=4, include_bias=True)\n",
    "X_train_poly = pd.DataFrame(polynomial_converter.fit_transform(X_train))\n",
    "X_test_poly = pd.DataFrame(polynomial_converter.fit_transform(X_test))\n",
    "\n",
    "model = LinearRegression()\n",
    "model.fit(X_train_poly, y_train)\n",
    "print('Intercept:', model.intercept_)\n",
    "#print('Coefficients:', model.coef_)\n",
    "\n",
    "ypred_train = model.predict(X_train_poly)\n",
    "ypred_test = model.predict(X_test_poly)\n",
    "\n",
    "print('Train R2:', r2_score(y_train, ypred_train))\n",
    "print('Test R2:', r2_score(y_test, ypred_test))\n",
    "from sklearn.model_selection import cross_val_score\n",
    "print('Cross Validation Score:', cross_val_score(model, X_train_poly, y_train, cv=5).mean())"
   ]
  },
  {
   "cell_type": "markdown",
   "id": "d4ff3277",
   "metadata": {},
   "source": [
    "##### on the future data, we are also needed to transform the test data with polynomial "
   ]
  },
  {
   "cell_type": "markdown",
   "id": "4f9dfbc7",
   "metadata": {},
   "source": [
    "# Predictions on a new data"
   ]
  },
  {
   "cell_type": "code",
   "execution_count": 26,
   "id": "9fad286e",
   "metadata": {},
   "outputs": [
    {
     "data": {
      "text/html": [
       "<div>\n",
       "<style scoped>\n",
       "    .dataframe tbody tr th:only-of-type {\n",
       "        vertical-align: middle;\n",
       "    }\n",
       "\n",
       "    .dataframe tbody tr th {\n",
       "        vertical-align: top;\n",
       "    }\n",
       "\n",
       "    .dataframe thead th {\n",
       "        text-align: right;\n",
       "    }\n",
       "</style>\n",
       "<table border=\"1\" class=\"dataframe\">\n",
       "  <thead>\n",
       "    <tr style=\"text-align: right;\">\n",
       "      <th></th>\n",
       "      <th>age</th>\n",
       "      <th>sex</th>\n",
       "      <th>bmi</th>\n",
       "      <th>children</th>\n",
       "      <th>smoker</th>\n",
       "      <th>region</th>\n",
       "    </tr>\n",
       "  </thead>\n",
       "  <tbody>\n",
       "    <tr>\n",
       "      <th>0</th>\n",
       "      <td>35</td>\n",
       "      <td>Male</td>\n",
       "      <td>31.4</td>\n",
       "      <td>5</td>\n",
       "      <td>yes</td>\n",
       "      <td>southeast</td>\n",
       "    </tr>\n",
       "  </tbody>\n",
       "</table>\n",
       "</div>"
      ],
      "text/plain": [
       "   age   sex   bmi  children smoker     region\n",
       "0   35  Male  31.4         5    yes  southeast"
      ]
     },
     "execution_count": 26,
     "metadata": {},
     "output_type": "execute_result"
    }
   ],
   "source": [
    "test_df = {'age':35,\n",
    "             'sex':'Male',\n",
    "             'bmi':31.4,\n",
    "             'children':5,\n",
    "             'smoker':'yes',\n",
    "             'region':'southeast'}\n",
    "df_test = pd.DataFrame(test_df, index=[0])\n",
    "df_test"
   ]
  },
  {
   "cell_type": "code",
   "execution_count": 27,
   "id": "034c4ab6",
   "metadata": {},
   "outputs": [],
   "source": [
    "df_test.drop('region', axis=1, inplace=True)"
   ]
  },
  {
   "cell_type": "code",
   "execution_count": 28,
   "id": "8c0875ed",
   "metadata": {},
   "outputs": [
    {
     "data": {
      "text/html": [
       "<div>\n",
       "<style scoped>\n",
       "    .dataframe tbody tr th:only-of-type {\n",
       "        vertical-align: middle;\n",
       "    }\n",
       "\n",
       "    .dataframe tbody tr th {\n",
       "        vertical-align: top;\n",
       "    }\n",
       "\n",
       "    .dataframe thead th {\n",
       "        text-align: right;\n",
       "    }\n",
       "</style>\n",
       "<table border=\"1\" class=\"dataframe\">\n",
       "  <thead>\n",
       "    <tr style=\"text-align: right;\">\n",
       "      <th></th>\n",
       "      <th>age</th>\n",
       "      <th>sex</th>\n",
       "      <th>bmi</th>\n",
       "      <th>children</th>\n",
       "      <th>smoker</th>\n",
       "    </tr>\n",
       "  </thead>\n",
       "  <tbody>\n",
       "    <tr>\n",
       "      <th>0</th>\n",
       "      <td>35</td>\n",
       "      <td>1</td>\n",
       "      <td>31.4</td>\n",
       "      <td>5</td>\n",
       "      <td>1</td>\n",
       "    </tr>\n",
       "  </tbody>\n",
       "</table>\n",
       "</div>"
      ],
      "text/plain": [
       "   age  sex   bmi  children  smoker\n",
       "0   35    1  31.4         5       1"
      ]
     },
     "execution_count": 28,
     "metadata": {},
     "output_type": "execute_result"
    }
   ],
   "source": [
    "df_test['sex'].replace({'female':0, 'Male':1}, inplace=True)\n",
    "df_test['smoker'].replace({'no':0, 'yes':1}, inplace=True)\n",
    "X2 = df_test\n",
    "X2"
   ]
  },
  {
   "cell_type": "code",
   "execution_count": 29,
   "id": "f5b54b76",
   "metadata": {
    "scrolled": true
   },
   "outputs": [
    {
     "data": {
      "text/plain": [
       "array([[1.00000000e+00, 3.50000000e+01, 1.00000000e+00, 3.14000000e+01,\n",
       "        5.00000000e+00, 1.00000000e+00, 1.22500000e+03, 3.50000000e+01,\n",
       "        1.09900000e+03, 1.75000000e+02, 3.50000000e+01, 1.00000000e+00,\n",
       "        3.14000000e+01, 5.00000000e+00, 1.00000000e+00, 9.85960000e+02,\n",
       "        1.57000000e+02, 3.14000000e+01, 2.50000000e+01, 5.00000000e+00,\n",
       "        1.00000000e+00, 4.28750000e+04, 1.22500000e+03, 3.84650000e+04,\n",
       "        6.12500000e+03, 1.22500000e+03, 3.50000000e+01, 1.09900000e+03,\n",
       "        1.75000000e+02, 3.50000000e+01, 3.45086000e+04, 5.49500000e+03,\n",
       "        1.09900000e+03, 8.75000000e+02, 1.75000000e+02, 3.50000000e+01,\n",
       "        1.00000000e+00, 3.14000000e+01, 5.00000000e+00, 1.00000000e+00,\n",
       "        9.85960000e+02, 1.57000000e+02, 3.14000000e+01, 2.50000000e+01,\n",
       "        5.00000000e+00, 1.00000000e+00, 3.09591440e+04, 4.92980000e+03,\n",
       "        9.85960000e+02, 7.85000000e+02, 1.57000000e+02, 3.14000000e+01,\n",
       "        1.25000000e+02, 2.50000000e+01, 5.00000000e+00, 1.00000000e+00,\n",
       "        1.50062500e+06, 4.28750000e+04, 1.34627500e+06, 2.14375000e+05,\n",
       "        4.28750000e+04, 1.22500000e+03, 3.84650000e+04, 6.12500000e+03,\n",
       "        1.22500000e+03, 1.20780100e+06, 1.92325000e+05, 3.84650000e+04,\n",
       "        3.06250000e+04, 6.12500000e+03, 1.22500000e+03, 3.50000000e+01,\n",
       "        1.09900000e+03, 1.75000000e+02, 3.50000000e+01, 3.45086000e+04,\n",
       "        5.49500000e+03, 1.09900000e+03, 8.75000000e+02, 1.75000000e+02,\n",
       "        3.50000000e+01, 1.08357004e+06, 1.72543000e+05, 3.45086000e+04,\n",
       "        2.74750000e+04, 5.49500000e+03, 1.09900000e+03, 4.37500000e+03,\n",
       "        8.75000000e+02, 1.75000000e+02, 3.50000000e+01, 1.00000000e+00,\n",
       "        3.14000000e+01, 5.00000000e+00, 1.00000000e+00, 9.85960000e+02,\n",
       "        1.57000000e+02, 3.14000000e+01, 2.50000000e+01, 5.00000000e+00,\n",
       "        1.00000000e+00, 3.09591440e+04, 4.92980000e+03, 9.85960000e+02,\n",
       "        7.85000000e+02, 1.57000000e+02, 3.14000000e+01, 1.25000000e+02,\n",
       "        2.50000000e+01, 5.00000000e+00, 1.00000000e+00, 9.72117122e+05,\n",
       "        1.54795720e+05, 3.09591440e+04, 2.46490000e+04, 4.92980000e+03,\n",
       "        9.85960000e+02, 3.92500000e+03, 7.85000000e+02, 1.57000000e+02,\n",
       "        3.14000000e+01, 6.25000000e+02, 1.25000000e+02, 2.50000000e+01,\n",
       "        5.00000000e+00, 1.00000000e+00]])"
      ]
     },
     "execution_count": 29,
     "metadata": {},
     "output_type": "execute_result"
    }
   ],
   "source": [
    "transformed_data = polynomial_converter.fit_transform(X2)\n",
    "transformed_data"
   ]
  },
  {
   "cell_type": "code",
   "execution_count": 30,
   "id": "11b95e3a",
   "metadata": {},
   "outputs": [
    {
     "data": {
      "text/plain": [
       "array([26684.35830637])"
      ]
     },
     "execution_count": 30,
     "metadata": {},
     "output_type": "execute_result"
    }
   ],
   "source": [
    "model.predict(transformed_data)"
   ]
  }
 ],
 "metadata": {
  "kernelspec": {
   "display_name": "Python 3 (ipykernel)",
   "language": "python",
   "name": "python3"
  },
  "language_info": {
   "codemirror_mode": {
    "name": "ipython",
    "version": 3
   },
   "file_extension": ".py",
   "mimetype": "text/x-python",
   "name": "python",
   "nbconvert_exporter": "python",
   "pygments_lexer": "ipython3",
   "version": "3.11.5"
  }
 },
 "nbformat": 4,
 "nbformat_minor": 5
}
