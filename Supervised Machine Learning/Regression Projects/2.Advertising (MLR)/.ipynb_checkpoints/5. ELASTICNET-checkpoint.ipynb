{
 "cells": [
  {
   "cell_type": "markdown",
   "id": "0a0eac5a",
   "metadata": {},
   "source": [
    "## Step -1 Business Problem Understanding"
   ]
  },
  {
   "cell_type": "code",
   "execution_count": 1,
   "id": "c3dbe220",
   "metadata": {},
   "outputs": [],
   "source": [
    "import warnings\n",
    "warnings.filterwarnings('ignore')"
   ]
  },
  {
   "cell_type": "code",
   "execution_count": 2,
   "id": "88597ee9",
   "metadata": {},
   "outputs": [],
   "source": [
    "import pandas as pd\n",
    "import numpy as np\n",
    "import seaborn as sns\n",
    "import matplotlib.pyplot as plt"
   ]
  },
  {
   "cell_type": "code",
   "execution_count": 3,
   "id": "b1e3cc0a",
   "metadata": {},
   "outputs": [
    {
     "data": {
      "text/html": [
       "<div>\n",
       "<style scoped>\n",
       "    .dataframe tbody tr th:only-of-type {\n",
       "        vertical-align: middle;\n",
       "    }\n",
       "\n",
       "    .dataframe tbody tr th {\n",
       "        vertical-align: top;\n",
       "    }\n",
       "\n",
       "    .dataframe thead th {\n",
       "        text-align: right;\n",
       "    }\n",
       "</style>\n",
       "<table border=\"1\" class=\"dataframe\">\n",
       "  <thead>\n",
       "    <tr style=\"text-align: right;\">\n",
       "      <th></th>\n",
       "      <th>TV</th>\n",
       "      <th>radio</th>\n",
       "      <th>newspaper</th>\n",
       "      <th>sales</th>\n",
       "    </tr>\n",
       "  </thead>\n",
       "  <tbody>\n",
       "    <tr>\n",
       "      <th>0</th>\n",
       "      <td>230100</td>\n",
       "      <td>37800</td>\n",
       "      <td>69200</td>\n",
       "      <td>22100</td>\n",
       "    </tr>\n",
       "    <tr>\n",
       "      <th>1</th>\n",
       "      <td>44500</td>\n",
       "      <td>39300</td>\n",
       "      <td>45100</td>\n",
       "      <td>10400</td>\n",
       "    </tr>\n",
       "    <tr>\n",
       "      <th>2</th>\n",
       "      <td>17200</td>\n",
       "      <td>45900</td>\n",
       "      <td>69300</td>\n",
       "      <td>9300</td>\n",
       "    </tr>\n",
       "    <tr>\n",
       "      <th>3</th>\n",
       "      <td>151500</td>\n",
       "      <td>41300</td>\n",
       "      <td>58500</td>\n",
       "      <td>18500</td>\n",
       "    </tr>\n",
       "    <tr>\n",
       "      <th>4</th>\n",
       "      <td>180800</td>\n",
       "      <td>10800</td>\n",
       "      <td>58400</td>\n",
       "      <td>12900</td>\n",
       "    </tr>\n",
       "  </tbody>\n",
       "</table>\n",
       "</div>"
      ],
      "text/plain": [
       "       TV  radio  newspaper  sales\n",
       "0  230100  37800      69200  22100\n",
       "1   44500  39300      45100  10400\n",
       "2   17200  45900      69300   9300\n",
       "3  151500  41300      58500  18500\n",
       "4  180800  10800      58400  12900"
      ]
     },
     "execution_count": 3,
     "metadata": {},
     "output_type": "execute_result"
    }
   ],
   "source": [
    "df = pd.read_csv('Advertising.csv')\n",
    "df.head()"
   ]
  },
  {
   "cell_type": "markdown",
   "id": "a4f05dc2",
   "metadata": {},
   "source": [
    "## everything is same as we did in multiple linear regression"
   ]
  },
  {
   "cell_type": "code",
   "execution_count": 4,
   "id": "ca9ffc0e",
   "metadata": {},
   "outputs": [],
   "source": [
    "X = df.drop(columns='sales')\n",
    "y = df['sales']"
   ]
  },
  {
   "cell_type": "markdown",
   "id": "8d369585",
   "metadata": {},
   "source": [
    "## Step - 4: Modeling"
   ]
  },
  {
   "cell_type": "markdown",
   "id": "5cdfbfdd",
   "metadata": {},
   "source": [
    "### findout the best random_state value "
   ]
  },
  {
   "cell_type": "code",
   "execution_count": 5,
   "id": "df47d158",
   "metadata": {},
   "outputs": [
    {
     "name": "stdout",
     "output_type": "stream",
     "text": [
      "best random state number: [99]\n"
     ]
    }
   ],
   "source": [
    "from sklearn.model_selection import train_test_split\n",
    "from sklearn.linear_model import LinearRegression\n",
    "from sklearn.model_selection import cross_val_score\n",
    "from sklearn.metrics import r2_score\n",
    "\n",
    "Train = []\n",
    "Test = []\n",
    "CV = []\n",
    "\n",
    "for i in range(0, 100):\n",
    "    X_train, X_test, y_train, y_test = train_test_split(X, y, test_size=0.2, random_state=i)\n",
    "    model = LinearRegression()\n",
    "    model.fit(X_train, y_train)\n",
    "\n",
    "    ypred_train = model.predict(X_train)\n",
    "    ypred_test = model.predict(X_test)\n",
    "\n",
    "    Train.append(model.score(X_train, y_train))\n",
    "    # print('Train R2:', r2_score(y_train, ypred_train))\n",
    "    Test.append(model.score(X_test, y_test))\n",
    "    # print('Test R2:', r2_score(y_test, ypred_test))\n",
    "\n",
    "    CV.append(cross_val_score(model, X_train, y_train, cv=5).mean())\n",
    "\n",
    "\n",
    "em = pd.DataFrame({'Train':Train, 'Test':Test, 'CV':CV})\n",
    "gm = em[(abs(em['Train']-em['Test']) <= 0.05) & (abs(em['Test']-em['CV']) <=0.05)]\n",
    "print('best random state number:', gm[gm['Test']==gm['Test'].max()].index.to_list())"
   ]
  },
  {
   "cell_type": "code",
   "execution_count": 6,
   "id": "1bb68484",
   "metadata": {},
   "outputs": [],
   "source": [
    "from sklearn.model_selection import train_test_split\n",
    "X_train, X_test, y_train, y_test = train_test_split(X, y, test_size=0.2, random_state=99)"
   ]
  },
  {
   "cell_type": "markdown",
   "id": "6d361baf",
   "metadata": {},
   "source": [
    "# <font color = aqua> ElasticNet Regresion </font> "
   ]
  },
  {
   "cell_type": "markdown",
   "id": "2c74e258",
   "metadata": {},
   "source": [
    "#### ElasticNet Regression with default parameters"
   ]
  },
  {
   "cell_type": "code",
   "execution_count": 7,
   "id": "02c5f578",
   "metadata": {},
   "outputs": [
    {
     "name": "stdout",
     "output_type": "stream",
     "text": [
      "Intercept: 2904.4859918962647\n",
      "coefficient: [0.04550574 0.18820546 0.00075244]\n",
      "Train R2: 0.8906288862925658\n",
      "Test R2: 0.9200846682238386\n",
      "CV Score: 0.8745389865770152\n"
     ]
    }
   ],
   "source": [
    "from sklearn.linear_model import ElasticNet\n",
    "enr_base = ElasticNet()\n",
    "enr_base.fit(X_train, y_train)\n",
    "\n",
    "print('Intercept:', enr_base.intercept_)\n",
    "print('coefficient:', enr_base.coef_)\n",
    "\n",
    "# Predictions\n",
    "ypred_train = enr_base.predict(X_train)\n",
    "ypred_test = enr_base.predict(X_test)\n",
    "\n",
    "# Evaluation\n",
    "from sklearn.metrics import r2_score\n",
    "print('Train R2:', r2_score(y_train, ypred_train))\n",
    "print('Test R2:', r2_score(y_test, ypred_test))\n",
    "from sklearn.model_selection import cross_val_score\n",
    "print('CV Score:', cross_val_score(enr_base, X_train, y_train, cv=5).mean())"
   ]
  },
  {
   "cell_type": "markdown",
   "id": "ed8e6e80",
   "metadata": {},
   "source": [
    "#### Apply Hyperparameter tuning for ElastiNet Regression"
   ]
  },
  {
   "cell_type": "code",
   "execution_count": 8,
   "id": "af42ba46",
   "metadata": {},
   "outputs": [
    {
     "data": {
      "text/plain": [
       "{'alpha': 10, 'l1_ratio': 1}"
      ]
     },
     "execution_count": 8,
     "metadata": {},
     "output_type": "execute_result"
    }
   ],
   "source": [
    "from sklearn.model_selection import GridSearchCV\n",
    "from sklearn.linear_model import ElasticNet\n",
    "\n",
    "estimator = ElasticNet()\n",
    "# Parameters & values\n",
    "param_grid = {'alpha':[0.1, 0.2, 1, 2, 3, 5, 10], 'l1_ratio':[0.1, 0.5, 0.75, 0.9, 0.95, 1]}\n",
    "# Identifying the best value of the parameter within given values for the given data\n",
    "model_hp = GridSearchCV(estimator, param_grid, cv=5, scoring='neg_mean_squared_error')\n",
    "model_hp.fit(X_train, y_train)\n",
    "model_hp.best_params_ "
   ]
  },
  {
   "cell_type": "markdown",
   "id": "183603e1",
   "metadata": {},
   "source": [
    "#### Rebuilt ElasticNet Model using best hyperparameters"
   ]
  },
  {
   "cell_type": "code",
   "execution_count": 9,
   "id": "6ffea1ff",
   "metadata": {},
   "outputs": [
    {
     "name": "stdout",
     "output_type": "stream",
     "text": [
      "Intercept: 2904.4873169633047\n",
      "Coefficients: [0.04550574 0.18820543 0.00075243]\n",
      "Train R2: 0.8906288862925474\n",
      "Test R2: 0.9200846724542091\n",
      "CV Score: 0.8745390126429001\n"
     ]
    }
   ],
   "source": [
    "from sklearn.linear_model import ElasticNet\n",
    "enr_best = ElasticNet(alpha=10, l1_ratio=1)\n",
    "enr_best.fit(X_train, y_train)\n",
    "\n",
    "print('Intercept:', enr_best.intercept_)\n",
    "print('Coefficients:', enr_best.coef_)\n",
    "\n",
    "# Prediction \n",
    "ypred_train = enr_best.predict(X_train)\n",
    "ypred_test = enr_best.predict(X_test)\n",
    "\n",
    "# Evaluation\n",
    "from sklearn.metrics import r2_score\n",
    "print('Train R2:', r2_score(y_train, ypred_train))\n",
    "print('Test R2:', r2_score(y_test, ypred_test))\n",
    "from sklearn.model_selection import cross_val_score\n",
    "print('CV Score:', cross_val_score(enr_best, X_train, y_train, cv=5).mean())"
   ]
  },
  {
   "cell_type": "code",
   "execution_count": 10,
   "id": "8a52bae2",
   "metadata": {
    "scrolled": true
   },
   "outputs": [
    {
     "data": {
      "text/html": [
       "<table class=\"simpletable\">\n",
       "<caption>OLS Regression Results</caption>\n",
       "<tr>\n",
       "  <th>Dep. Variable:</th>         <td>y_train</td>     <th>  R-squared:         </th> <td>   0.891</td>\n",
       "</tr>\n",
       "<tr>\n",
       "  <th>Model:</th>                   <td>OLS</td>       <th>  Adj. R-squared:    </th> <td>   0.889</td>\n",
       "</tr>\n",
       "<tr>\n",
       "  <th>Method:</th>             <td>Least Squares</td>  <th>  F-statistic:       </th> <td>   423.4</td>\n",
       "</tr>\n",
       "<tr>\n",
       "  <th>Date:</th>             <td>Fri, 02 Feb 2024</td> <th>  Prob (F-statistic):</th> <td>1.02e-74</td>\n",
       "</tr>\n",
       "<tr>\n",
       "  <th>Time:</th>                 <td>10:17:37</td>     <th>  Log-Likelihood:    </th> <td> -1419.4</td>\n",
       "</tr>\n",
       "<tr>\n",
       "  <th>No. Observations:</th>      <td>   160</td>      <th>  AIC:               </th> <td>   2847.</td>\n",
       "</tr>\n",
       "<tr>\n",
       "  <th>Df Residuals:</th>          <td>   156</td>      <th>  BIC:               </th> <td>   2859.</td>\n",
       "</tr>\n",
       "<tr>\n",
       "  <th>Df Model:</th>              <td>     3</td>      <th>                     </th>     <td> </td>   \n",
       "</tr>\n",
       "<tr>\n",
       "  <th>Covariance Type:</th>      <td>nonrobust</td>    <th>                     </th>     <td> </td>   \n",
       "</tr>\n",
       "</table>\n",
       "<table class=\"simpletable\">\n",
       "<tr>\n",
       "       <td></td>         <th>coef</th>     <th>std err</th>      <th>t</th>      <th>P>|t|</th>  <th>[0.025</th>    <th>0.975]</th>  \n",
       "</tr>\n",
       "<tr>\n",
       "  <th>Intercept</th>  <td> 2904.4859</td> <td>  368.721</td> <td>    7.877</td> <td> 0.000</td> <td> 2176.156</td> <td> 3632.816</td>\n",
       "</tr>\n",
       "<tr>\n",
       "  <th>X_train[0]</th> <td>    0.0455</td> <td>    0.002</td> <td>   28.499</td> <td> 0.000</td> <td>    0.042</td> <td>    0.049</td>\n",
       "</tr>\n",
       "<tr>\n",
       "  <th>X_train[1]</th> <td>    0.1882</td> <td>    0.010</td> <td>   18.941</td> <td> 0.000</td> <td>    0.169</td> <td>    0.208</td>\n",
       "</tr>\n",
       "<tr>\n",
       "  <th>X_train[2]</th> <td>    0.0008</td> <td>    0.007</td> <td>    0.114</td> <td> 0.909</td> <td>   -0.012</td> <td>    0.014</td>\n",
       "</tr>\n",
       "</table>\n",
       "<table class=\"simpletable\">\n",
       "<tr>\n",
       "  <th>Omnibus:</th>       <td>53.148</td> <th>  Durbin-Watson:     </th> <td>   1.945</td>\n",
       "</tr>\n",
       "<tr>\n",
       "  <th>Prob(Omnibus):</th> <td> 0.000</td> <th>  Jarque-Bera (JB):  </th> <td> 134.731</td>\n",
       "</tr>\n",
       "<tr>\n",
       "  <th>Skew:</th>          <td>-1.386</td> <th>  Prob(JB):          </th> <td>5.54e-30</td>\n",
       "</tr>\n",
       "<tr>\n",
       "  <th>Kurtosis:</th>      <td> 6.539</td> <th>  Cond. No.          </th> <td>4.75e+05</td>\n",
       "</tr>\n",
       "</table><br/><br/>Notes:<br/>[1] Standard Errors assume that the covariance matrix of the errors is correctly specified.<br/>[2] The condition number is large, 4.75e+05. This might indicate that there are<br/>strong multicollinearity or other numerical problems."
      ],
      "text/latex": [
       "\\begin{center}\n",
       "\\begin{tabular}{lclc}\n",
       "\\toprule\n",
       "\\textbf{Dep. Variable:}    &     y\\_train     & \\textbf{  R-squared:         } &     0.891   \\\\\n",
       "\\textbf{Model:}            &       OLS        & \\textbf{  Adj. R-squared:    } &     0.889   \\\\\n",
       "\\textbf{Method:}           &  Least Squares   & \\textbf{  F-statistic:       } &     423.4   \\\\\n",
       "\\textbf{Date:}             & Fri, 02 Feb 2024 & \\textbf{  Prob (F-statistic):} &  1.02e-74   \\\\\n",
       "\\textbf{Time:}             &     10:17:37     & \\textbf{  Log-Likelihood:    } &   -1419.4   \\\\\n",
       "\\textbf{No. Observations:} &         160      & \\textbf{  AIC:               } &     2847.   \\\\\n",
       "\\textbf{Df Residuals:}     &         156      & \\textbf{  BIC:               } &     2859.   \\\\\n",
       "\\textbf{Df Model:}         &           3      & \\textbf{                     } &             \\\\\n",
       "\\textbf{Covariance Type:}  &    nonrobust     & \\textbf{                     } &             \\\\\n",
       "\\bottomrule\n",
       "\\end{tabular}\n",
       "\\begin{tabular}{lcccccc}\n",
       "                     & \\textbf{coef} & \\textbf{std err} & \\textbf{t} & \\textbf{P$> |$t$|$} & \\textbf{[0.025} & \\textbf{0.975]}  \\\\\n",
       "\\midrule\n",
       "\\textbf{Intercept}   &    2904.4859  &      368.721     &     7.877  &         0.000        &     2176.156    &     3632.816     \\\\\n",
       "\\textbf{X\\_train[0]} &       0.0455  &        0.002     &    28.499  &         0.000        &        0.042    &        0.049     \\\\\n",
       "\\textbf{X\\_train[1]} &       0.1882  &        0.010     &    18.941  &         0.000        &        0.169    &        0.208     \\\\\n",
       "\\textbf{X\\_train[2]} &       0.0008  &        0.007     &     0.114  &         0.909        &       -0.012    &        0.014     \\\\\n",
       "\\bottomrule\n",
       "\\end{tabular}\n",
       "\\begin{tabular}{lclc}\n",
       "\\textbf{Omnibus:}       & 53.148 & \\textbf{  Durbin-Watson:     } &    1.945  \\\\\n",
       "\\textbf{Prob(Omnibus):} &  0.000 & \\textbf{  Jarque-Bera (JB):  } &  134.731  \\\\\n",
       "\\textbf{Skew:}          & -1.386 & \\textbf{  Prob(JB):          } & 5.54e-30  \\\\\n",
       "\\textbf{Kurtosis:}      &  6.539 & \\textbf{  Cond. No.          } & 4.75e+05  \\\\\n",
       "\\bottomrule\n",
       "\\end{tabular}\n",
       "%\\caption{OLS Regression Results}\n",
       "\\end{center}\n",
       "\n",
       "Notes: \\newline\n",
       " [1] Standard Errors assume that the covariance matrix of the errors is correctly specified. \\newline\n",
       " [2] The condition number is large, 4.75e+05. This might indicate that there are \\newline\n",
       " strong multicollinearity or other numerical problems."
      ],
      "text/plain": [
       "<class 'statsmodels.iolib.summary.Summary'>\n",
       "\"\"\"\n",
       "                            OLS Regression Results                            \n",
       "==============================================================================\n",
       "Dep. Variable:                y_train   R-squared:                       0.891\n",
       "Model:                            OLS   Adj. R-squared:                  0.889\n",
       "Method:                 Least Squares   F-statistic:                     423.4\n",
       "Date:                Fri, 02 Feb 2024   Prob (F-statistic):           1.02e-74\n",
       "Time:                        10:17:37   Log-Likelihood:                -1419.4\n",
       "No. Observations:                 160   AIC:                             2847.\n",
       "Df Residuals:                     156   BIC:                             2859.\n",
       "Df Model:                           3                                         \n",
       "Covariance Type:            nonrobust                                         \n",
       "==============================================================================\n",
       "                 coef    std err          t      P>|t|      [0.025      0.975]\n",
       "------------------------------------------------------------------------------\n",
       "Intercept   2904.4859    368.721      7.877      0.000    2176.156    3632.816\n",
       "X_train[0]     0.0455      0.002     28.499      0.000       0.042       0.049\n",
       "X_train[1]     0.1882      0.010     18.941      0.000       0.169       0.208\n",
       "X_train[2]     0.0008      0.007      0.114      0.909      -0.012       0.014\n",
       "==============================================================================\n",
       "Omnibus:                       53.148   Durbin-Watson:                   1.945\n",
       "Prob(Omnibus):                  0.000   Jarque-Bera (JB):              134.731\n",
       "Skew:                          -1.386   Prob(JB):                     5.54e-30\n",
       "Kurtosis:                       6.539   Cond. No.                     4.75e+05\n",
       "==============================================================================\n",
       "\n",
       "Notes:\n",
       "[1] Standard Errors assume that the covariance matrix of the errors is correctly specified.\n",
       "[2] The condition number is large, 4.75e+05. This might indicate that there are\n",
       "strong multicollinearity or other numerical problems.\n",
       "\"\"\""
      ]
     },
     "execution_count": 10,
     "metadata": {},
     "output_type": "execute_result"
    }
   ],
   "source": [
    "import statsmodels.formula.api as smf\n",
    "model1 = smf.ols('y_train ~ X_train', data=X_train).fit()\n",
    "model1.summary()"
   ]
  },
  {
   "cell_type": "markdown",
   "id": "e372b432",
   "metadata": {},
   "source": [
    "### Final model including TV and radio only "
   ]
  },
  {
   "cell_type": "code",
   "execution_count": 11,
   "id": "5b2cfb11",
   "metadata": {},
   "outputs": [],
   "source": [
    "X = X.drop(columns=['newspaper'])"
   ]
  },
  {
   "cell_type": "code",
   "execution_count": 12,
   "id": "10b232a3",
   "metadata": {},
   "outputs": [],
   "source": [
    "from sklearn.model_selection import train_test_split\n",
    "X_train, X_test, y_train, y_test = train_test_split(X, y, test_size=0.2, random_state=99)"
   ]
  },
  {
   "cell_type": "code",
   "execution_count": 13,
   "id": "ba679c86",
   "metadata": {},
   "outputs": [
    {
     "name": "stdout",
     "output_type": "stream",
     "text": [
      "Intercept: 2918.21692154003\n",
      "Coefficients: [0.04550633 0.1886176 ]\n",
      "Train R2: 0.8906197253189078\n",
      "Test R2: 0.9202930353903783\n",
      "CV Score: 0.8803158278328016\n"
     ]
    }
   ],
   "source": [
    "from sklearn.linear_model import ElasticNet\n",
    "enr_best = ElasticNet(alpha=10, l1_ratio=1)\n",
    "enr_best.fit(X_train, y_train)\n",
    "\n",
    "print('Intercept:', enr_best.intercept_)\n",
    "print('Coefficients:', enr_best.coef_)\n",
    "\n",
    "# Prediction \n",
    "ypred_train = enr_best.predict(X_train)\n",
    "ypred_test = enr_best.predict(X_test)\n",
    "\n",
    "# Evaluation\n",
    "from sklearn.metrics import r2_score\n",
    "print('Train R2:', r2_score(y_train, ypred_train))\n",
    "print('Test R2:', r2_score(y_test, ypred_test))\n",
    "from sklearn.model_selection import cross_val_score\n",
    "print('CV Score:', cross_val_score(enr_best, X_train, y_train, cv=5).mean())"
   ]
  },
  {
   "cell_type": "markdown",
   "id": "258b851b",
   "metadata": {},
   "source": [
    "### Predictions on a new data"
   ]
  },
  {
   "cell_type": "code",
   "execution_count": 14,
   "id": "87455848",
   "metadata": {},
   "outputs": [
    {
     "data": {
      "text/html": [
       "<div>\n",
       "<style scoped>\n",
       "    .dataframe tbody tr th:only-of-type {\n",
       "        vertical-align: middle;\n",
       "    }\n",
       "\n",
       "    .dataframe tbody tr th {\n",
       "        vertical-align: top;\n",
       "    }\n",
       "\n",
       "    .dataframe thead th {\n",
       "        text-align: right;\n",
       "    }\n",
       "</style>\n",
       "<table border=\"1\" class=\"dataframe\">\n",
       "  <thead>\n",
       "    <tr style=\"text-align: right;\">\n",
       "      <th></th>\n",
       "      <th>TV</th>\n",
       "      <th>radio</th>\n",
       "      <th>newspaper</th>\n",
       "    </tr>\n",
       "  </thead>\n",
       "  <tbody>\n",
       "    <tr>\n",
       "      <th>0</th>\n",
       "      <td>149000</td>\n",
       "      <td>22000</td>\n",
       "      <td>12000</td>\n",
       "    </tr>\n",
       "  </tbody>\n",
       "</table>\n",
       "</div>"
      ],
      "text/plain": [
       "       TV  radio  newspaper\n",
       "0  149000  22000      12000"
      ]
     },
     "execution_count": 14,
     "metadata": {},
     "output_type": "execute_result"
    }
   ],
   "source": [
    "test_df = pd.DataFrame({'TV':[149000], 'radio':[22000], 'newspaper':[12000]})\n",
    "test_df"
   ]
  },
  {
   "cell_type": "code",
   "execution_count": 15,
   "id": "2e2540cd",
   "metadata": {},
   "outputs": [],
   "source": [
    "X = test_df.drop(columns=['newspaper'])"
   ]
  },
  {
   "cell_type": "code",
   "execution_count": 16,
   "id": "b9d8d7ab",
   "metadata": {
    "scrolled": true
   },
   "outputs": [
    {
     "data": {
      "text/plain": [
       "array([13848.24714622])"
      ]
     },
     "execution_count": 16,
     "metadata": {},
     "output_type": "execute_result"
    }
   ],
   "source": [
    "enr_best.predict(X)"
   ]
  },
  {
   "cell_type": "markdown",
   "id": "6e5d2f11",
   "metadata": {},
   "source": [
    "### Multiple Linear regression\n",
    "- Test R2: 0.9314\n",
    "- sales = 13886.112 (sales with 93.14% accuarcy)\n",
    "\n",
    "### Polynomial regression\n",
    "- Test R2: 0.9860\n",
    "- sales = 14541.816 (sales with 98.60% accuarcy)\n",
    "\n",
    "### Lasso regression\n",
    "- Test R2: 0.8515\n",
    "- sales = 13859.373 (sales with 85.15% accuarcy)\n",
    "\n",
    "### Ridge regression\n",
    "- Test R2: 0.8515\n",
    "- sales = 13859.372 (sales with 85.15% accuarcy)\n",
    "\n",
    "### ElasticNet regression\n",
    "- Test R2: 0.8354\n",
    "- sales = 13964.746 (sales with 83.54% accuarcy)"
   ]
  }
 ],
 "metadata": {
  "kernelspec": {
   "display_name": "Python 3 (ipykernel)",
   "language": "python",
   "name": "python3"
  },
  "language_info": {
   "codemirror_mode": {
    "name": "ipython",
    "version": 3
   },
   "file_extension": ".py",
   "mimetype": "text/x-python",
   "name": "python",
   "nbconvert_exporter": "python",
   "pygments_lexer": "ipython3",
   "version": "3.11.5"
  }
 },
 "nbformat": 4,
 "nbformat_minor": 5
}
