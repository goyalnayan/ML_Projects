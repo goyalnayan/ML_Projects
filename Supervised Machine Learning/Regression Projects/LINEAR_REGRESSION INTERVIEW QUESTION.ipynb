{
 "cells": [
  {
   "cell_type": "markdown",
   "id": "51b1919c",
   "metadata": {},
   "source": [
    "# <font color = lime> LINEAR REGRESSION INTERVIEW QUESTION </font>\n",
    "\n",
    "\n",
    "all the regression is nothing but a model"
   ]
  },
  {
   "cell_type": "markdown",
   "id": "5e807cab",
   "metadata": {},
   "source": [
    "### <font color = blue> Q: 1. What is linear regression, and how does it work? </font>\n",
    "\n",
    "\n",
    "- Linear Regression is the machine alrogithm and this algorithm is used when we have continuous variable.\n",
    "- **It's used to model relationsip between a dependent and independent variables.**\n",
    "- **It's called 'linear' because the model assumes a linear relationship between dependent and independent variables**\n",
    "\n",
    "And we can classify the linear regression into two groups.\n",
    "1. Simple regression (Simple linear regression and Simple non linear regression)\n",
    "> simple linear regresison consist one independent and one dependent variable\n",
    "2. Multiple regression (Multiple linear regression and Multiple non linear regression)\n",
    "> multiple linear regression consist of multiple indepent varaible and one dependent variable\n",
    "\n",
    "In linear regression we created a graph using dependent, independent, and predited values.\n",
    "> Like the scatter is plotted on the graph using  x and y (input variable) and line is plotted using Ŷ (output variables). \n",
    "\n",
    "In linear regression, a best fit line is plotted over the scatter plot of the data points. This regression line is called as model that purpose is used to make predictions.\n",
    "\n",
    "### <font color = blue> Q: 2. What are the assumptions of a linear regression model? </font>\n",
    "- Assumption are made only on linear regression because when we create any model so our basic requirement is that our model is simple.\n",
    "- Firstly we assume that the equtaion is simple \n",
    "- In linear regression, we make different assumptions called 'LINE' that basically means our error should be linear, independent, normal, and equal-variance\n",
    "\n",
    "1. **Linear Relationship** should be there means when x is incraesing so y should also increase or vice vers then it called a linear relationship.\n",
    "2. **Multicollinearity** should not occur (means b/t independent variable there should not be any relationship)\n",
    "> - When we have Multicollinearity problem so in that case we use VIF technique (Variance Inflation Factor) \n",
    "> - Variance Inflation Factor check how much 1 independent variable impacts the other independent variable.\n",
    "\n",
    "> 1. The relation between input and output variable should be high. And if correlation is <= 0.2 then drop the input variable\n",
    "> 2. The relation between input and input variable should be low. And if correlation >=0.5 then drop the column\n",
    "\n",
    "3. **Normality Residual** that basically means your actual point should be above or near the besty fit line.\n",
    "4. **Homoscedasticity:** It means having the same scatter. Residual spread should ve equal and if residuals are not equal then it's called as Heteroscedasticity."
   ]
  },
  {
   "cell_type": "markdown",
   "id": "88c6a4d7",
   "metadata": {},
   "source": [
    "### <font color = blue> Q: 3. What are outliers? How do you detect and treat them? How do you deal with outliers in a linear regression model? </font>\n",
    "In our dataset there is possibilities that some value but vary more. And these variations of the value are called as an outliers.\n",
    "Firstly, to check if there are any outliers or not, we use box plot or IQR and then if any outliers are given so we can remove, replace, or retrain based on business requirements\n",
    "\n",
    "Identify the outliers in linear regression is imporant because outliers can influence the model's parameters and it will compromise with predictive accuracy.\n",
    "1. Identify outliers\n",
    "2. Transform variable: Apply transformation to variables, sy=uch as log or square root, which can sometimes make the relationship more linear reduce the impact of outliers.\n",
    "3. Winsorizing technique\n",
    "4. Remove or transform outliers\n",
    "\n",
    "\n",
    "### <font color = blue> Q: 4. How do you determine the best fit line for a linear regression model? </font>\n",
    "There are few steps to determine the best fit line for a regression model.\n",
    "- Collect a sample data points that represent the relationship between the dependent and independent variables.\n",
    "- Plot the data points on a scatter plot to visalize the relationship between the variables.\n",
    "- Calculate the linear regression equation using the least squares method to find the line that minimizes the distance between the data points and the line.\n",
    "> The least-squares regression line equation is y = mx + b\n",
    "- Use the linear regression equation to predict the value of the dependent variable for a given value of the independent variable.\n",
    "- Evaluate the accuracy of the model by calculating the coefficient of determination (R2) and the root mean square error (RMSE).\n",
    "- Adjust the model if necessary, by adding or removing variables or transforming the data to improve the fit of the model.\n",
    "- Use the adjusted model to make prediction and continue to evaluate its performance.\n",
    "- We determine the best fit line using independent and predcited values"
   ]
  },
  {
   "cell_type": "markdown",
   "id": "afffe2d3",
   "metadata": {},
   "source": [
    "### <font color = blue> Q: 5. What is the difference between simple and multiple linear regression? </font>\n",
    "Simple linear regression  models the relationship between one independent variable and one dependent variable, while multiple linear regression models the relationship between multiple independent variables and one dependent variable.\n",
    "- The goal of both models is to find a linear model that best fits the data and can be used to make predictions about the dependent variable based on the independent variables.\n",
    "\n",
    "### <font color = blue> Q: 6. What is linear Regression Analysis? </font>\n",
    "Linear regression analysis is a statistical method used to model the relationship between a dependent variable and one or more independent variables. \n",
    "\n",
    "\n",
    "##### Why we do make assumptions in Linear Regression?\n",
    "\n",
    "The regression analysis assumes that there is a linear relationship between the dependent variable and independent variable and seeks to fit a straight line that best represents that relationship.\n",
    "\n"
   ]
  },
  {
   "cell_type": "markdown",
   "id": "98788666",
   "metadata": {},
   "source": [
    "### 7. What is multicollinearity and how does it affect linear regression analysis?\n",
    "### 8. What is the difference between linear regression and logistic regression?\n",
    "### 9. What are the common types of errors in linear regression analysis?\n",
    "### 10. What is the difference between a dependent and independent variable in linear regression?\n",
    "### 11. What is an interaction term in linear regression and how is it used?\n",
    "### 12. What is the difference between biased and unbiased estimates in linear regression?\n",
    "### 13. How do you measure the strength of a linear relationship between two variables?\n",
    "### 14. What is the difference between a population regression line and a sample regression line?\n",
    "### 15. What is the difference between linear regression and non-linear regression?\n",
    "### 16. What are the common techniques used to improve the accuracy of a linear regression model?\n",
    "### 17. What is a residual in linear regression and how is it used in model evaluation?\n",
    "### 18. What is the difference between a parametric and non-parametric regression model?\n",
    "### 19. What are the assumptions of the ordinary least squares method for linear regression?\n"
   ]
  },
  {
   "cell_type": "markdown",
   "id": "b2f61ee8",
   "metadata": {},
   "source": [
    ">>\n",
    "# Linear Regression Advanced Interview Questions\n",
    "### 1. How do you determine the significance of a predictor variable in a linear regression model?\n",
    "### 2. What is the role of a dummy variable in linear regression analysis?\n",
    "### 3. What is heteroscedasticity?\n",
    "### 4. What is the difference between a categorical and continuous variable in linear regression?\n",
    "### 5. What is the impact of correlated predictor variables on linear regression analysis?\n",
    "### 6. How do you evaluate the goodness of fit of a linear regression model?\n"
   ]
  },
  {
   "cell_type": "code",
   "execution_count": null,
   "id": "be71648d",
   "metadata": {},
   "outputs": [],
   "source": []
  },
  {
   "cell_type": "code",
   "execution_count": null,
   "id": "700a8462",
   "metadata": {},
   "outputs": [],
   "source": []
  },
  {
   "cell_type": "code",
   "execution_count": null,
   "id": "447490df",
   "metadata": {},
   "outputs": [],
   "source": []
  },
  {
   "cell_type": "code",
   "execution_count": null,
   "id": "699c4fef",
   "metadata": {},
   "outputs": [],
   "source": []
  },
  {
   "cell_type": "code",
   "execution_count": null,
   "id": "c6a886c7",
   "metadata": {},
   "outputs": [],
   "source": []
  },
  {
   "cell_type": "code",
   "execution_count": null,
   "id": "8b39bce9",
   "metadata": {},
   "outputs": [],
   "source": []
  },
  {
   "cell_type": "markdown",
   "id": "0071e2da",
   "metadata": {},
   "source": []
  },
  {
   "cell_type": "code",
   "execution_count": null,
   "id": "df0cfabe",
   "metadata": {},
   "outputs": [],
   "source": []
  },
  {
   "cell_type": "code",
   "execution_count": null,
   "id": "4d5e743f",
   "metadata": {},
   "outputs": [],
   "source": []
  },
  {
   "cell_type": "code",
   "execution_count": null,
   "id": "bf01b0a1",
   "metadata": {},
   "outputs": [],
   "source": []
  },
  {
   "cell_type": "code",
   "execution_count": null,
   "id": "517966f4",
   "metadata": {},
   "outputs": [],
   "source": []
  },
  {
   "cell_type": "code",
   "execution_count": null,
   "id": "632e4e2f",
   "metadata": {},
   "outputs": [],
   "source": []
  },
  {
   "cell_type": "code",
   "execution_count": null,
   "id": "5c6a0c58",
   "metadata": {},
   "outputs": [],
   "source": []
  },
  {
   "cell_type": "code",
   "execution_count": null,
   "id": "d542b8a2",
   "metadata": {},
   "outputs": [],
   "source": []
  },
  {
   "cell_type": "code",
   "execution_count": null,
   "id": "23941cae",
   "metadata": {},
   "outputs": [],
   "source": []
  },
  {
   "cell_type": "code",
   "execution_count": null,
   "id": "e0fd795e",
   "metadata": {},
   "outputs": [],
   "source": []
  },
  {
   "cell_type": "code",
   "execution_count": null,
   "id": "07822d6a",
   "metadata": {},
   "outputs": [],
   "source": []
  },
  {
   "cell_type": "code",
   "execution_count": null,
   "id": "df54e75f",
   "metadata": {},
   "outputs": [],
   "source": []
  },
  {
   "cell_type": "code",
   "execution_count": null,
   "id": "c1e7f4a3",
   "metadata": {},
   "outputs": [],
   "source": []
  },
  {
   "cell_type": "code",
   "execution_count": null,
   "id": "3ef9e373",
   "metadata": {},
   "outputs": [],
   "source": []
  },
  {
   "cell_type": "code",
   "execution_count": null,
   "id": "aa4eb906",
   "metadata": {},
   "outputs": [],
   "source": []
  },
  {
   "cell_type": "code",
   "execution_count": null,
   "id": "48951570",
   "metadata": {},
   "outputs": [],
   "source": []
  },
  {
   "cell_type": "code",
   "execution_count": null,
   "id": "7e3637d2",
   "metadata": {},
   "outputs": [],
   "source": []
  },
  {
   "cell_type": "code",
   "execution_count": null,
   "id": "a0e27097",
   "metadata": {},
   "outputs": [],
   "source": []
  },
  {
   "cell_type": "code",
   "execution_count": null,
   "id": "1c1c66f3",
   "metadata": {},
   "outputs": [],
   "source": []
  },
  {
   "cell_type": "code",
   "execution_count": null,
   "id": "a5be9543",
   "metadata": {},
   "outputs": [],
   "source": []
  },
  {
   "cell_type": "code",
   "execution_count": null,
   "id": "72ce85f4",
   "metadata": {},
   "outputs": [],
   "source": []
  },
  {
   "cell_type": "code",
   "execution_count": null,
   "id": "292d8587",
   "metadata": {},
   "outputs": [],
   "source": []
  },
  {
   "cell_type": "markdown",
   "id": "0d54689d",
   "metadata": {},
   "source": [
    "# Q: Find the outliers and remove them?"
   ]
  },
  {
   "cell_type": "code",
   "execution_count": 4,
   "id": "40586333",
   "metadata": {
    "scrolled": true
   },
   "outputs": [
    {
     "data": {
      "text/plain": [
       "array([ 4.96714153e-01, -1.38264301e-01,  6.47688538e-01,  1.52302986e+00,\n",
       "       -2.34153375e-01, -2.34136957e-01,  1.57921282e+00,  7.67434729e-01,\n",
       "       -4.69474386e-01,  5.42560044e-01, -4.63417693e-01, -4.65729754e-01,\n",
       "        2.41962272e-01, -1.91328024e+00, -1.72491783e+00, -5.62287529e-01,\n",
       "       -1.01283112e+00,  3.14247333e-01, -9.08024076e-01, -1.41230370e+00,\n",
       "        1.46564877e+00, -2.25776300e-01,  6.75282047e-02, -1.42474819e+00,\n",
       "       -5.44382725e-01,  1.10922590e-01, -1.15099358e+00,  3.75698018e-01,\n",
       "       -6.00638690e-01, -2.91693750e-01, -6.01706612e-01,  1.85227818e+00,\n",
       "       -1.34972247e-02, -1.05771093e+00,  8.22544912e-01, -1.22084365e+00,\n",
       "        2.08863595e-01, -1.95967012e+00, -1.32818605e+00,  1.96861236e-01,\n",
       "        7.38466580e-01,  1.71368281e-01, -1.15648282e-01, -3.01103696e-01,\n",
       "       -1.47852199e+00, -7.19844208e-01, -4.60638771e-01,  1.05712223e+00,\n",
       "        3.43618290e-01, -1.76304016e+00,  3.24083969e-01, -3.85082280e-01,\n",
       "       -6.76922000e-01,  6.11676289e-01,  1.03099952e+00,  9.31280119e-01,\n",
       "       -8.39217523e-01, -3.09212376e-01,  3.31263431e-01,  9.75545127e-01,\n",
       "       -4.79174238e-01, -1.85658977e-01, -1.10633497e+00, -1.19620662e+00,\n",
       "        8.12525822e-01,  1.35624003e+00, -7.20101216e-02,  1.00353290e+00,\n",
       "        3.61636025e-01, -6.45119755e-01,  3.61395606e-01,  1.53803657e+00,\n",
       "       -3.58260391e-02,  1.56464366e+00, -2.61974510e+00,  8.21902504e-01,\n",
       "        8.70470682e-02, -2.99007350e-01,  9.17607765e-02, -1.98756891e+00,\n",
       "       -2.19671888e-01,  3.57112572e-01,  1.47789404e+00, -5.18270218e-01,\n",
       "       -8.08493603e-01, -5.01757044e-01,  9.15402118e-01,  3.28751110e-01,\n",
       "       -5.29760204e-01,  5.13267433e-01,  9.70775493e-02,  9.68644991e-01,\n",
       "       -7.02053094e-01, -3.27662147e-01, -3.92108153e-01, -1.46351495e+00,\n",
       "        2.96120277e-01,  2.61055272e-01,  5.11345664e-03, -2.34587133e-01,\n",
       "        8.00000000e+00,  1.00000000e+01, -5.00000000e+00, -8.00000000e+00])"
      ]
     },
     "execution_count": 4,
     "metadata": {},
     "output_type": "execute_result"
    }
   ],
   "source": [
    "import numpy as np\n",
    "from scipy import stats\n",
    "\n",
    "# Generate a sample dataset with outliers\n",
    "np.random.seed(42)\n",
    "data = np.concatenate([np.random.normal(0, 1, 100), np.array([8, 10, -5, -8])])\n",
    "data"
   ]
  },
  {
   "cell_type": "code",
   "execution_count": 5,
   "id": "69630e58",
   "metadata": {
    "scrolled": true
   },
   "outputs": [
    {
     "data": {
      "text/plain": [
       "array([ 0.30540069, -0.04815723,  0.38946369,  0.87685638, -0.10154855,\n",
       "       -0.10153941,  0.90813922,  0.45613873, -0.232576  ,  0.33092782,\n",
       "       -0.22920362, -0.23049098,  0.16355408, -1.03649147, -0.93161071,\n",
       "       -0.28425464, -0.53511867,  0.20380262, -0.47676179, -0.75754621,\n",
       "        0.84490642, -0.09688417,  0.06642866, -0.76447534, -0.27428519,\n",
       "        0.09059079, -0.61204795,  0.23801854, -0.30560868, -0.13358721,\n",
       "       -0.30620331,  1.06018284,  0.02131346, -0.56010789,  0.48682425,\n",
       "       -0.65094068,  0.14512463, -1.06232149, -0.71070925,  0.13844168,\n",
       "        0.44000918,  0.12424713, -0.03556456, -0.13882669, -0.79441676,\n",
       "       -0.37198268, -0.22765631,  0.6174376 ,  0.22015646, -0.95283733,\n",
       "        0.20927969, -0.18558622, -0.34808346,  0.36941196,  0.6028924 ,\n",
       "        0.54736834, -0.4384501 , -0.14334163,  0.21327723,  0.57201523,\n",
       "       -0.23797691, -0.07454673, -0.5871819 , -0.63722271,  0.48124559,\n",
       "        0.7839873 , -0.0112667 ,  0.5875989 ,  0.23018878, -0.33037587,\n",
       "        0.23005492,  0.88521216,  0.00888071,  0.90002707, -1.42985323,\n",
       "        0.48646655,  0.07729682, -0.13765944,  0.07992143, -1.07785562,\n",
       "       -0.09348522,  0.22767011,  0.85172462, -0.25974567, -0.42134293,\n",
       "       -0.25055108,  0.53852742,  0.21187836, -0.26614333,  0.31461761,\n",
       "        0.08288183,  0.56817321, -0.36207653, -0.15361452, -0.18949825,\n",
       "       -0.78606079,  0.19370942,  0.17418512,  0.03167594, -0.10179007,\n",
       "        4.48325292,  5.59685896, -2.75518635, -4.42559541])"
      ]
     },
     "execution_count": 5,
     "metadata": {},
     "output_type": "execute_result"
    }
   ],
   "source": [
    "# Step 1: Calculate Z-scores\n",
    "z_scores = stats.zscore(data)\n",
    "z_scores"
   ]
  },
  {
   "cell_type": "code",
   "execution_count": 6,
   "id": "b29f3dab",
   "metadata": {
    "scrolled": true
   },
   "outputs": [
    {
     "data": {
      "text/plain": [
       "array([False, False, False, False, False, False, False, False, False,\n",
       "       False, False, False, False, False, False, False, False, False,\n",
       "       False, False, False, False, False, False, False, False, False,\n",
       "       False, False, False, False, False, False, False, False, False,\n",
       "       False, False, False, False, False, False, False, False, False,\n",
       "       False, False, False, False, False, False, False, False, False,\n",
       "       False, False, False, False, False, False, False, False, False,\n",
       "       False, False, False, False, False, False, False, False, False,\n",
       "       False, False, False, False, False, False, False, False, False,\n",
       "       False, False, False, False, False, False, False, False, False,\n",
       "       False, False, False, False, False, False, False, False, False,\n",
       "       False,  True,  True,  True,  True])"
      ]
     },
     "execution_count": 6,
     "metadata": {},
     "output_type": "execute_result"
    }
   ],
   "source": [
    "# Step 2: Set a threshold (e.g., ±2 or ±3)\n",
    "threshold = 2\n",
    "# Step 3: Identify outliers\n",
    "outliers = (np.abs(z_scores) > threshold)\n",
    "outliers"
   ]
  },
  {
   "cell_type": "code",
   "execution_count": 7,
   "id": "bd2e83fe",
   "metadata": {},
   "outputs": [
    {
     "name": "stdout",
     "output_type": "stream",
     "text": [
      "Indices of outliers: [100 101 102 103]\n"
     ]
    }
   ],
   "source": [
    "# Display the indices of the outliers\n",
    "print(\"Indices of outliers:\", np.where(outliers)[0])"
   ]
  },
  {
   "cell_type": "code",
   "execution_count": 9,
   "id": "1f31eb37",
   "metadata": {
    "scrolled": true
   },
   "outputs": [
    {
     "name": "stdout",
     "output_type": "stream",
     "text": [
      "Cleaned dataset: [ 0.49671415 -0.1382643   0.64768854  1.52302986 -0.23415337 -0.23413696\n",
      "  1.57921282  0.76743473 -0.46947439  0.54256004 -0.46341769 -0.46572975\n",
      "  0.24196227 -1.91328024 -1.72491783 -0.56228753 -1.01283112  0.31424733\n",
      " -0.90802408 -1.4123037   1.46564877 -0.2257763   0.0675282  -1.42474819\n",
      " -0.54438272  0.11092259 -1.15099358  0.37569802 -0.60063869 -0.29169375\n",
      " -0.60170661  1.85227818 -0.01349722 -1.05771093  0.82254491 -1.22084365\n",
      "  0.2088636  -1.95967012 -1.32818605  0.19686124  0.73846658  0.17136828\n",
      " -0.11564828 -0.3011037  -1.47852199 -0.71984421 -0.46063877  1.05712223\n",
      "  0.34361829 -1.76304016  0.32408397 -0.38508228 -0.676922    0.61167629\n",
      "  1.03099952  0.93128012 -0.83921752 -0.30921238  0.33126343  0.97554513\n",
      " -0.47917424 -0.18565898 -1.10633497 -1.19620662  0.81252582  1.35624003\n",
      " -0.07201012  1.0035329   0.36163603 -0.64511975  0.36139561  1.53803657\n",
      " -0.03582604  1.56464366 -2.6197451   0.8219025   0.08704707 -0.29900735\n",
      "  0.09176078 -1.98756891 -0.21967189  0.35711257  1.47789404 -0.51827022\n",
      " -0.8084936  -0.50175704  0.91540212  0.32875111 -0.5297602   0.51326743\n",
      "  0.09707755  0.96864499 -0.70205309 -0.32766215 -0.39210815 -1.46351495\n",
      "  0.29612028  0.26105527  0.00511346 -0.23458713]\n"
     ]
    }
   ],
   "source": [
    "# Step 4: Remove outliers\n",
    "cleaned_data = data[~outliers]\n",
    "# Display the cleaned dataset\n",
    "print(\"Cleaned dataset:\", cleaned_data)"
   ]
  },
  {
   "cell_type": "code",
   "execution_count": null,
   "id": "6a4f143a",
   "metadata": {},
   "outputs": [],
   "source": []
  },
  {
   "cell_type": "code",
   "execution_count": null,
   "id": "9d930164",
   "metadata": {},
   "outputs": [],
   "source": []
  }
 ],
 "metadata": {
  "kernelspec": {
   "display_name": "Python 3 (ipykernel)",
   "language": "python",
   "name": "python3"
  },
  "language_info": {
   "codemirror_mode": {
    "name": "ipython",
    "version": 3
   },
   "file_extension": ".py",
   "mimetype": "text/x-python",
   "name": "python",
   "nbconvert_exporter": "python",
   "pygments_lexer": "ipython3",
   "version": "3.11.5"
  }
 },
 "nbformat": 4,
 "nbformat_minor": 5
}
