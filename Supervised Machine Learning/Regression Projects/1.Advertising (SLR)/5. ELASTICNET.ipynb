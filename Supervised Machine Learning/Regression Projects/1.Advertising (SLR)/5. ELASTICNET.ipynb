{
 "cells": [
  {
   "cell_type": "markdown",
   "id": "a529dabf",
   "metadata": {},
   "source": [
    "## Step - 1: Business Problem Understanding"
   ]
  },
  {
   "cell_type": "code",
   "execution_count": 1,
   "id": "c1a8f8f4",
   "metadata": {},
   "outputs": [],
   "source": [
    "import warnings\n",
    "warnings.filterwarnings('ignore')\n",
    "\n",
    "import pandas as pd\n",
    "import numpy as np\n",
    "import matplotlib.pyplot as plt\n",
    "import seaborn as sns"
   ]
  },
  {
   "cell_type": "markdown",
   "id": "a8748eab",
   "metadata": {},
   "source": [
    "## Step - 2 Data Understanding (EDA)"
   ]
  },
  {
   "cell_type": "markdown",
   "id": "d98bd06d",
   "metadata": {},
   "source": [
    "#### Load data & Understand every variable"
   ]
  },
  {
   "cell_type": "code",
   "execution_count": 2,
   "id": "e9253306",
   "metadata": {},
   "outputs": [
    {
     "data": {
      "text/html": [
       "<div>\n",
       "<style scoped>\n",
       "    .dataframe tbody tr th:only-of-type {\n",
       "        vertical-align: middle;\n",
       "    }\n",
       "\n",
       "    .dataframe tbody tr th {\n",
       "        vertical-align: top;\n",
       "    }\n",
       "\n",
       "    .dataframe thead th {\n",
       "        text-align: right;\n",
       "    }\n",
       "</style>\n",
       "<table border=\"1\" class=\"dataframe\">\n",
       "  <thead>\n",
       "    <tr style=\"text-align: right;\">\n",
       "      <th></th>\n",
       "      <th>TV</th>\n",
       "      <th>radio</th>\n",
       "      <th>newspaper</th>\n",
       "      <th>sales</th>\n",
       "    </tr>\n",
       "  </thead>\n",
       "  <tbody>\n",
       "    <tr>\n",
       "      <th>0</th>\n",
       "      <td>230100</td>\n",
       "      <td>37800</td>\n",
       "      <td>69200</td>\n",
       "      <td>22100</td>\n",
       "    </tr>\n",
       "    <tr>\n",
       "      <th>1</th>\n",
       "      <td>44500</td>\n",
       "      <td>39300</td>\n",
       "      <td>45100</td>\n",
       "      <td>10400</td>\n",
       "    </tr>\n",
       "    <tr>\n",
       "      <th>2</th>\n",
       "      <td>17200</td>\n",
       "      <td>45900</td>\n",
       "      <td>69300</td>\n",
       "      <td>9300</td>\n",
       "    </tr>\n",
       "    <tr>\n",
       "      <th>3</th>\n",
       "      <td>151500</td>\n",
       "      <td>41300</td>\n",
       "      <td>58500</td>\n",
       "      <td>18500</td>\n",
       "    </tr>\n",
       "    <tr>\n",
       "      <th>4</th>\n",
       "      <td>180800</td>\n",
       "      <td>10800</td>\n",
       "      <td>58400</td>\n",
       "      <td>12900</td>\n",
       "    </tr>\n",
       "  </tbody>\n",
       "</table>\n",
       "</div>"
      ],
      "text/plain": [
       "       TV  radio  newspaper  sales\n",
       "0  230100  37800      69200  22100\n",
       "1   44500  39300      45100  10400\n",
       "2   17200  45900      69300   9300\n",
       "3  151500  41300      58500  18500\n",
       "4  180800  10800      58400  12900"
      ]
     },
     "execution_count": 2,
     "metadata": {},
     "output_type": "execute_result"
    }
   ],
   "source": [
    "df = pd.read_csv('Advertising.csv')\n",
    "df.head()"
   ]
  },
  {
   "cell_type": "code",
   "execution_count": 3,
   "id": "904f2708",
   "metadata": {},
   "outputs": [
    {
     "data": {
      "text/plain": [
       "(200, 4)"
      ]
     },
     "execution_count": 3,
     "metadata": {},
     "output_type": "execute_result"
    }
   ],
   "source": [
    "df.shape"
   ]
  },
  {
   "cell_type": "code",
   "execution_count": 4,
   "id": "18620942",
   "metadata": {},
   "outputs": [
    {
     "name": "stdout",
     "output_type": "stream",
     "text": [
      "<class 'pandas.core.frame.DataFrame'>\n",
      "RangeIndex: 200 entries, 0 to 199\n",
      "Data columns (total 4 columns):\n",
      " #   Column     Non-Null Count  Dtype\n",
      "---  ------     --------------  -----\n",
      " 0   TV         200 non-null    int64\n",
      " 1   radio      200 non-null    int64\n",
      " 2   newspaper  200 non-null    int64\n",
      " 3   sales      200 non-null    int64\n",
      "dtypes: int64(4)\n",
      "memory usage: 6.4 KB\n"
     ]
    }
   ],
   "source": [
    "df.info()"
   ]
  },
  {
   "cell_type": "markdown",
   "id": "86b2dc34",
   "metadata": {},
   "source": [
    "## Step - 3 Data Preprocessing\n",
    "- by combining all the features, we get the 'total spend'\n",
    "\n",
    "----> If column category is same so, you can drop that column (If any column having constant category so you can drop).\n",
    "\n",
    "----> Based on business create new column and drop remaining columns that are not required.\n",
    "\n",
    "----> Cleaning will be done one time and apply model multiple time.\n",
    "\n",
    "----> When you will present your work so never explain step by step process to the client. (never show your code, show analysis visually)"
   ]
  },
  {
   "cell_type": "code",
   "execution_count": 5,
   "id": "61c000aa",
   "metadata": {},
   "outputs": [
    {
     "data": {
      "text/html": [
       "<div>\n",
       "<style scoped>\n",
       "    .dataframe tbody tr th:only-of-type {\n",
       "        vertical-align: middle;\n",
       "    }\n",
       "\n",
       "    .dataframe tbody tr th {\n",
       "        vertical-align: top;\n",
       "    }\n",
       "\n",
       "    .dataframe thead th {\n",
       "        text-align: right;\n",
       "    }\n",
       "</style>\n",
       "<table border=\"1\" class=\"dataframe\">\n",
       "  <thead>\n",
       "    <tr style=\"text-align: right;\">\n",
       "      <th></th>\n",
       "      <th>TV</th>\n",
       "      <th>radio</th>\n",
       "      <th>newspaper</th>\n",
       "      <th>sales</th>\n",
       "      <th>total_spend</th>\n",
       "    </tr>\n",
       "  </thead>\n",
       "  <tbody>\n",
       "    <tr>\n",
       "      <th>0</th>\n",
       "      <td>230100</td>\n",
       "      <td>37800</td>\n",
       "      <td>69200</td>\n",
       "      <td>22100</td>\n",
       "      <td>337100</td>\n",
       "    </tr>\n",
       "    <tr>\n",
       "      <th>1</th>\n",
       "      <td>44500</td>\n",
       "      <td>39300</td>\n",
       "      <td>45100</td>\n",
       "      <td>10400</td>\n",
       "      <td>128900</td>\n",
       "    </tr>\n",
       "    <tr>\n",
       "      <th>2</th>\n",
       "      <td>17200</td>\n",
       "      <td>45900</td>\n",
       "      <td>69300</td>\n",
       "      <td>9300</td>\n",
       "      <td>132400</td>\n",
       "    </tr>\n",
       "    <tr>\n",
       "      <th>3</th>\n",
       "      <td>151500</td>\n",
       "      <td>41300</td>\n",
       "      <td>58500</td>\n",
       "      <td>18500</td>\n",
       "      <td>251300</td>\n",
       "    </tr>\n",
       "    <tr>\n",
       "      <th>4</th>\n",
       "      <td>180800</td>\n",
       "      <td>10800</td>\n",
       "      <td>58400</td>\n",
       "      <td>12900</td>\n",
       "      <td>250000</td>\n",
       "    </tr>\n",
       "  </tbody>\n",
       "</table>\n",
       "</div>"
      ],
      "text/plain": [
       "       TV  radio  newspaper  sales  total_spend\n",
       "0  230100  37800      69200  22100       337100\n",
       "1   44500  39300      45100  10400       128900\n",
       "2   17200  45900      69300   9300       132400\n",
       "3  151500  41300      58500  18500       251300\n",
       "4  180800  10800      58400  12900       250000"
      ]
     },
     "execution_count": 5,
     "metadata": {},
     "output_type": "execute_result"
    }
   ],
   "source": [
    "df['total_spend'] = df['TV'] + df['radio'] + df['newspaper']\n",
    "df.head()"
   ]
  },
  {
   "cell_type": "code",
   "execution_count": 6,
   "id": "1a7152ea",
   "metadata": {
    "scrolled": true
   },
   "outputs": [
    {
     "data": {
      "text/html": [
       "<div>\n",
       "<style scoped>\n",
       "    .dataframe tbody tr th:only-of-type {\n",
       "        vertical-align: middle;\n",
       "    }\n",
       "\n",
       "    .dataframe tbody tr th {\n",
       "        vertical-align: top;\n",
       "    }\n",
       "\n",
       "    .dataframe thead th {\n",
       "        text-align: right;\n",
       "    }\n",
       "</style>\n",
       "<table border=\"1\" class=\"dataframe\">\n",
       "  <thead>\n",
       "    <tr style=\"text-align: right;\">\n",
       "      <th></th>\n",
       "      <th>sales</th>\n",
       "      <th>total_spend</th>\n",
       "    </tr>\n",
       "  </thead>\n",
       "  <tbody>\n",
       "    <tr>\n",
       "      <th>0</th>\n",
       "      <td>22100</td>\n",
       "      <td>337100</td>\n",
       "    </tr>\n",
       "    <tr>\n",
       "      <th>1</th>\n",
       "      <td>10400</td>\n",
       "      <td>128900</td>\n",
       "    </tr>\n",
       "    <tr>\n",
       "      <th>2</th>\n",
       "      <td>9300</td>\n",
       "      <td>132400</td>\n",
       "    </tr>\n",
       "    <tr>\n",
       "      <th>3</th>\n",
       "      <td>18500</td>\n",
       "      <td>251300</td>\n",
       "    </tr>\n",
       "    <tr>\n",
       "      <th>4</th>\n",
       "      <td>12900</td>\n",
       "      <td>250000</td>\n",
       "    </tr>\n",
       "  </tbody>\n",
       "</table>\n",
       "</div>"
      ],
      "text/plain": [
       "   sales  total_spend\n",
       "0  22100       337100\n",
       "1  10400       128900\n",
       "2   9300       132400\n",
       "3  18500       251300\n",
       "4  12900       250000"
      ]
     },
     "execution_count": 6,
     "metadata": {},
     "output_type": "execute_result"
    }
   ],
   "source": [
    "df.drop(columns=['TV', 'radio', 'newspaper'], inplace=True)\n",
    "df.head()"
   ]
  },
  {
   "cell_type": "markdown",
   "id": "7cc8f35f",
   "metadata": {},
   "source": [
    "#### Exploratory Data Analysis (EDA)"
   ]
  },
  {
   "cell_type": "code",
   "execution_count": 7,
   "id": "69ba0d1d",
   "metadata": {},
   "outputs": [
    {
     "data": {
      "text/html": [
       "<div>\n",
       "<style scoped>\n",
       "    .dataframe tbody tr th:only-of-type {\n",
       "        vertical-align: middle;\n",
       "    }\n",
       "\n",
       "    .dataframe tbody tr th {\n",
       "        vertical-align: top;\n",
       "    }\n",
       "\n",
       "    .dataframe thead th {\n",
       "        text-align: right;\n",
       "    }\n",
       "</style>\n",
       "<table border=\"1\" class=\"dataframe\">\n",
       "  <thead>\n",
       "    <tr style=\"text-align: right;\">\n",
       "      <th></th>\n",
       "      <th>sales</th>\n",
       "      <th>total_spend</th>\n",
       "    </tr>\n",
       "  </thead>\n",
       "  <tbody>\n",
       "    <tr>\n",
       "      <th>count</th>\n",
       "      <td>200.000000</td>\n",
       "      <td>200.000000</td>\n",
       "    </tr>\n",
       "    <tr>\n",
       "      <th>mean</th>\n",
       "      <td>14022.500000</td>\n",
       "      <td>200860.500000</td>\n",
       "    </tr>\n",
       "    <tr>\n",
       "      <th>std</th>\n",
       "      <td>5217.456566</td>\n",
       "      <td>92985.180587</td>\n",
       "    </tr>\n",
       "    <tr>\n",
       "      <th>min</th>\n",
       "      <td>1600.000000</td>\n",
       "      <td>11700.000000</td>\n",
       "    </tr>\n",
       "    <tr>\n",
       "      <th>25%</th>\n",
       "      <td>10375.000000</td>\n",
       "      <td>123550.000000</td>\n",
       "    </tr>\n",
       "    <tr>\n",
       "      <th>50%</th>\n",
       "      <td>12900.000000</td>\n",
       "      <td>207350.000000</td>\n",
       "    </tr>\n",
       "    <tr>\n",
       "      <th>75%</th>\n",
       "      <td>17400.000000</td>\n",
       "      <td>281125.000000</td>\n",
       "    </tr>\n",
       "    <tr>\n",
       "      <th>max</th>\n",
       "      <td>27000.000000</td>\n",
       "      <td>433600.000000</td>\n",
       "    </tr>\n",
       "  </tbody>\n",
       "</table>\n",
       "</div>"
      ],
      "text/plain": [
       "              sales    total_spend\n",
       "count    200.000000     200.000000\n",
       "mean   14022.500000  200860.500000\n",
       "std     5217.456566   92985.180587\n",
       "min     1600.000000   11700.000000\n",
       "25%    10375.000000  123550.000000\n",
       "50%    12900.000000  207350.000000\n",
       "75%    17400.000000  281125.000000\n",
       "max    27000.000000  433600.000000"
      ]
     },
     "execution_count": 7,
     "metadata": {},
     "output_type": "execute_result"
    }
   ],
   "source": [
    "df.describe()"
   ]
  },
  {
   "cell_type": "code",
   "execution_count": 8,
   "id": "2e75f70e",
   "metadata": {
    "scrolled": false
   },
   "outputs": [
    {
     "data": {
      "image/png": "[encoded data removed]",
      "text/plain": [
       "<Figure size 500x500 with 6 Axes>"
      ]
     },
     "metadata": {},
     "output_type": "display_data"
    }
   ],
   "source": [
    "sns.pairplot(df)\n",
    "plt.show()"
   ]
  },
  {
   "cell_type": "code",
   "execution_count": 9,
   "id": "3ebfc87a",
   "metadata": {},
   "outputs": [
    {
     "data": {
      "text/html": [
       "<div>\n",
       "<style scoped>\n",
       "    .dataframe tbody tr th:only-of-type {\n",
       "        vertical-align: middle;\n",
       "    }\n",
       "\n",
       "    .dataframe tbody tr th {\n",
       "        vertical-align: top;\n",
       "    }\n",
       "\n",
       "    .dataframe thead th {\n",
       "        text-align: right;\n",
       "    }\n",
       "</style>\n",
       "<table border=\"1\" class=\"dataframe\">\n",
       "  <thead>\n",
       "    <tr style=\"text-align: right;\">\n",
       "      <th></th>\n",
       "      <th>sales</th>\n",
       "      <th>total_spend</th>\n",
       "    </tr>\n",
       "  </thead>\n",
       "  <tbody>\n",
       "    <tr>\n",
       "      <th>sales</th>\n",
       "      <td>1.000000</td>\n",
       "      <td>0.867712</td>\n",
       "    </tr>\n",
       "    <tr>\n",
       "      <th>total_spend</th>\n",
       "      <td>0.867712</td>\n",
       "      <td>1.000000</td>\n",
       "    </tr>\n",
       "  </tbody>\n",
       "</table>\n",
       "</div>"
      ],
      "text/plain": [
       "                sales  total_spend\n",
       "sales        1.000000     0.867712\n",
       "total_spend  0.867712     1.000000"
      ]
     },
     "execution_count": 9,
     "metadata": {},
     "output_type": "execute_result"
    }
   ],
   "source": [
    "df.corr()"
   ]
  },
  {
   "cell_type": "markdown",
   "id": "4650015b",
   "metadata": {},
   "source": [
    "----> \n",
    "----\n",
    ">\n",
    "- Till EDA --> data analysis / data understanding\n",
    "- Data understanding used only on raw data\n",
    "- Till corr(), we have raw data \n",
    "\n",
    "Data cleaning + encoding --> for data preparation\n",
    "\n",
    "In data preparation and data preprocessing stage \n",
    "\n",
    "1.\tData cleaning (Mandatory)\n",
    "\n",
    "2.\tEncoding (Mandatory)\n",
    ">Fit calculate only on numbers that’s why we do encoding\n",
    "\n",
    "3.\tScaling (not mandatory)\n",
    ">Scaling brings all number at same magnitude\n",
    "\n",
    "- Feature high magnitude \n",
    "- Column with big numbers --> (this statement is a common english word, don’t speak this for interview)\n",
    "- Some input feature with high magnitude & some input features with low magnitude in that case we will use scaling.\n",
    "\n",
    "4.\tTransformation (not mandatory)\n",
    "\n",
    "Whatever data you provide to the machine, it’ll give relation but answer will be worst. (accuracy low)\n",
    "\n",
    "So, in order to avoid low accuracy, we need to remove outliers\n",
    "\n",
    "Fit: you are required to do data cleaning apart from outliers & encoding or else, you will get an error.\n",
    "\n",
    "In some cases, outliers are important and we will try our data cleaning with or without outliers & we will check the result.\n"
   ]
  },
  {
   "cell_type": "markdown",
   "id": "a9c79b34",
   "metadata": {},
   "source": [
    "#### Data Cleaning"
   ]
  },
  {
   "cell_type": "code",
   "execution_count": 10,
   "id": "e87456da",
   "metadata": {},
   "outputs": [
    {
     "data": {
      "text/plain": [
       "sales          0\n",
       "total_spend    0\n",
       "dtype: int64"
      ]
     },
     "execution_count": 10,
     "metadata": {},
     "output_type": "execute_result"
    }
   ],
   "source": [
    "df.isnull().sum()"
   ]
  },
  {
   "cell_type": "markdown",
   "id": "4443bdf4",
   "metadata": {},
   "source": [
    "#### Data Wrangling"
   ]
  },
  {
   "cell_type": "code",
   "execution_count": 11,
   "id": "0101e08b",
   "metadata": {},
   "outputs": [],
   "source": [
    "# no encoding is required here because no categorical data is given"
   ]
  },
  {
   "cell_type": "markdown",
   "id": "5595d51d",
   "metadata": {},
   "source": [
    "#### creating x and y for training and testing"
   ]
  },
  {
   "cell_type": "code",
   "execution_count": 12,
   "id": "fc2f8b0b",
   "metadata": {},
   "outputs": [],
   "source": [
    "X = df[['total_spend']]\n",
    "y = df['sales']"
   ]
  },
  {
   "cell_type": "markdown",
   "id": "8e1c7299",
   "metadata": {},
   "source": [
    "## Step - 4: Modeling"
   ]
  },
  {
   "cell_type": "markdown",
   "id": "078f86f3",
   "metadata": {},
   "source": [
    "### findout the best random_state value "
   ]
  },
  {
   "cell_type": "code",
   "execution_count": 13,
   "id": "9a60830e",
   "metadata": {},
   "outputs": [
    {
     "name": "stdout",
     "output_type": "stream",
     "text": [
      "best random state number: [54]\n"
     ]
    }
   ],
   "source": [
    "from sklearn.model_selection import train_test_split\n",
    "from sklearn.linear_model import LinearRegression\n",
    "from sklearn.model_selection import cross_val_score\n",
    "from sklearn.metrics import r2_score\n",
    "\n",
    "Train = []\n",
    "Test = []\n",
    "CV = []\n",
    "\n",
    "for i in range(0, 100):\n",
    "    X_train, X_test, y_train, y_test = train_test_split(X, y, train_size=0.8, random_state=i)\n",
    "    model = LinearRegression()\n",
    "    model.fit(X_train, y_train)\n",
    "    \n",
    "    ypred_train = model.predict(X_train)\n",
    "    ypred_test = model.predict(X_test)\n",
    "\n",
    "    Train.append(model.score(X_train, y_train))\n",
    "    Test.append(model.score(X_test, y_test))\n",
    "    CV.append(cross_val_score(model, X_train, y_train, cv=5).mean())\n",
    "    \n",
    "em = pd.DataFrame({'Train':Train, 'Test':Test, 'CV':CV})\n",
    "gm = em[(abs(em['Train']-em['Test']) <= 0.05) & (abs(em['Test']-em['CV']) <=0.05)]\n",
    "print('best random state number:', gm[gm['Test']==gm['Test'].max()].index.to_list())"
   ]
  },
  {
   "cell_type": "markdown",
   "id": "e84a40a2",
   "metadata": {},
   "source": [
    "# <font color = aqua> ElasticNet Regresion </font> "
   ]
  },
  {
   "cell_type": "markdown",
   "id": "6ee3ee70",
   "metadata": {},
   "source": [
    "#### ElasticNet Regression with default parameters"
   ]
  },
  {
   "cell_type": "code",
   "execution_count": 14,
   "id": "232b7fde",
   "metadata": {},
   "outputs": [
    {
     "name": "stdout",
     "output_type": "stream",
     "text": [
      "Intercept: 4250.806211524865\n",
      "coefficient: [0.04855011]\n",
      "Train R2: 0.746798790641118\n",
      "Test R2: 0.7678517073874251\n",
      "CV Score: 0.7367508276512454\n"
     ]
    }
   ],
   "source": [
    "from sklearn.linear_model import ElasticNet\n",
    "enr_base = ElasticNet()\n",
    "enr_base.fit(X_train, y_train)\n",
    "\n",
    "print('Intercept:', enr_base.intercept_)\n",
    "print('coefficient:', enr_base.coef_)\n",
    "\n",
    "# Predictions\n",
    "ypred_train = enr_base.predict(X_train)\n",
    "ypred_test = enr_base.predict(X_test)\n",
    "\n",
    "# Evaluation\n",
    "from sklearn.metrics import r2_score\n",
    "print('Train R2:', r2_score(y_train, ypred_train))\n",
    "print('Test R2:', r2_score(y_test, ypred_test))\n",
    "from sklearn.model_selection import cross_val_score\n",
    "print('CV Score:', cross_val_score(enr_base, X_train, y_train, cv=5).mean())"
   ]
  },
  {
   "cell_type": "markdown",
   "id": "48317b07",
   "metadata": {},
   "source": [
    "#### Apply Hyperparameter tuning for ElastiNet Regression"
   ]
  },
  {
   "cell_type": "code",
   "execution_count": 15,
   "id": "e8ef5b6f",
   "metadata": {},
   "outputs": [
    {
     "data": {
      "text/plain": [
       "{'alpha': 10, 'l1_ratio': 1}"
      ]
     },
     "execution_count": 15,
     "metadata": {},
     "output_type": "execute_result"
    }
   ],
   "source": [
    "from sklearn.model_selection import GridSearchCV\n",
    "from sklearn.linear_model import ElasticNet\n",
    "\n",
    "estimator = ElasticNet()\n",
    "# Parameters & values\n",
    "param_grid = {'alpha':[0.1, 0.2, 1, 2, 3, 5, 10], 'l1_ratio':[0.1, 0.5, 0.75, 0.9, 0.95, 1]}\n",
    "# Identifying the best value of the parameter within given values for the given data\n",
    "model_hp = GridSearchCV(estimator, param_grid, cv=5, scoring='neg_mean_squared_error')\n",
    "model_hp.fit(X_train, y_train)\n",
    "model_hp.best_params_ "
   ]
  },
  {
   "cell_type": "markdown",
   "id": "5b580d8e",
   "metadata": {},
   "source": [
    "#### Rebuilt ElasticNet Model using best hyperparameters"
   ]
  },
  {
   "cell_type": "code",
   "execution_count": 16,
   "id": "334a86f4",
   "metadata": {},
   "outputs": [
    {
     "name": "stdout",
     "output_type": "stream",
     "text": [
      "Intercept: 4250.806438518335\n",
      "Coefficients: [0.04855011]\n",
      "Train R2: 0.7467987906411175\n",
      "Test R2: 0.7678517069237807\n",
      "CV Score: 0.7367508278667312\n"
     ]
    }
   ],
   "source": [
    "from sklearn.linear_model import ElasticNet\n",
    "enr_best = ElasticNet(alpha=10, l1_ratio=1)\n",
    "enr_best.fit(X_train, y_train)\n",
    "\n",
    "print('Intercept:', enr_best.intercept_)\n",
    "print('Coefficients:', enr_best.coef_)\n",
    "\n",
    "# Prediction \n",
    "ypred_train = enr_best.predict(X_train)\n",
    "ypred_test = enr_best.predict(X_test)\n",
    "\n",
    "# Evaluation\n",
    "from sklearn.metrics import r2_score\n",
    "print('Train R2:', r2_score(y_train, ypred_train))\n",
    "print('Test R2:', r2_score(y_test, ypred_test))\n",
    "from sklearn.model_selection import cross_val_score\n",
    "print('CV Score:', cross_val_score(enr_best, X_train, y_train, cv=5).mean())"
   ]
  },
  {
   "cell_type": "markdown",
   "id": "2ab40742",
   "metadata": {},
   "source": [
    "### Predictions on a new data"
   ]
  },
  {
   "cell_type": "code",
   "execution_count": 17,
   "id": "be051407",
   "metadata": {
    "scrolled": true
   },
   "outputs": [
    {
     "data": {
      "text/html": [
       "<div>\n",
       "<style scoped>\n",
       "    .dataframe tbody tr th:only-of-type {\n",
       "        vertical-align: middle;\n",
       "    }\n",
       "\n",
       "    .dataframe tbody tr th {\n",
       "        vertical-align: top;\n",
       "    }\n",
       "\n",
       "    .dataframe thead th {\n",
       "        text-align: right;\n",
       "    }\n",
       "</style>\n",
       "<table border=\"1\" class=\"dataframe\">\n",
       "  <thead>\n",
       "    <tr style=\"text-align: right;\">\n",
       "      <th></th>\n",
       "      <th>TV</th>\n",
       "      <th>radio</th>\n",
       "      <th>newspaper</th>\n",
       "    </tr>\n",
       "  </thead>\n",
       "  <tbody>\n",
       "    <tr>\n",
       "      <th>0</th>\n",
       "      <td>149000</td>\n",
       "      <td>22000</td>\n",
       "      <td>12000</td>\n",
       "    </tr>\n",
       "  </tbody>\n",
       "</table>\n",
       "</div>"
      ],
      "text/plain": [
       "       TV  radio  newspaper\n",
       "0  149000  22000      12000"
      ]
     },
     "execution_count": 17,
     "metadata": {},
     "output_type": "execute_result"
    }
   ],
   "source": [
    "test_df = pd.DataFrame({'TV':[149000], 'radio':[22000], 'newspaper':[12000]})\n",
    "test_df"
   ]
  },
  {
   "cell_type": "code",
   "execution_count": 18,
   "id": "26ceb912",
   "metadata": {
    "scrolled": true
   },
   "outputs": [],
   "source": [
    "test_df['total_spend'] = test_df['TV'] + test_df['radio'] + test_df['newspaper']"
   ]
  },
  {
   "cell_type": "code",
   "execution_count": 19,
   "id": "cd70df81",
   "metadata": {},
   "outputs": [],
   "source": [
    "X = test_df[['total_spend']]"
   ]
  },
  {
   "cell_type": "code",
   "execution_count": 20,
   "id": "8669d4fc",
   "metadata": {
    "scrolled": true
   },
   "outputs": [
    {
     "data": {
      "text/plain": [
       "array([13135.47624209])"
      ]
     },
     "execution_count": 20,
     "metadata": {},
     "output_type": "execute_result"
    }
   ],
   "source": [
    "enr_best.predict(X)"
   ]
  },
  {
   "cell_type": "markdown",
   "id": "d2ad18dd",
   "metadata": {},
   "source": [
    "### Simple Linear regression\n",
    "- Test R2: 0.7833\n",
    "- sales = 14058.495 (sales with 78.33% accuarcy)\n",
    "\n",
    "### Polynomial regression\n",
    "- Test R2: 0.5758\n",
    "\n",
    "(this model is completely a worst model but there is a huge difference between train and test accuracy)\n",
    "\n",
    "### Lasso regression\n",
    "- Test R2: 0.7833\n",
    "- sales = 14058.495 (sales with 78.33% accuarcy)\n",
    "\n",
    "### Ridge regression\n",
    "- Test R2: 0.7813\n",
    "- sales = 14058.495 (sales with 78.33% accuarcy)\n",
    "\n",
    "### ElasticNet regression\n",
    "- Test R2: 0.7678\n",
    "- sales = 13135.476 (sales with 76.78% accuarcy)"
   ]
  },
  {
   "cell_type": "code",
   "execution_count": null,
   "id": "8367162e",
   "metadata": {},
   "outputs": [],
   "source": []
  }
 ],
 "metadata": {
  "kernelspec": {
   "display_name": "Python 3 (ipykernel)",
   "language": "python",
   "name": "python3"
  },
  "language_info": {
   "codemirror_mode": {
    "name": "ipython",
    "version": 3
   },
   "file_extension": ".py",
   "mimetype": "text/x-python",
   "name": "python",
   "nbconvert_exporter": "python",
   "pygments_lexer": "ipython3",
   "version": "3.11.5"
  }
 },
 "nbformat": 4,
 "nbformat_minor": 5
}
