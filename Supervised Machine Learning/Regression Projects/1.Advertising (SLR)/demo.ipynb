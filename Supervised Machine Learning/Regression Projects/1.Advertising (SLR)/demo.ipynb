{
 "cells": [
  {
   "cell_type": "markdown",
   "id": "95372c3c",
   "metadata": {},
   "source": [
    "Step -1 : Business Problem Understanding\n",
    "\n",
    "Step-2 : Data understanding (observations)\n",
    "         - <font color = red> In your observation don't started to fix whatever the probelm in your data, all you need to just writedown whatever the things that is problem in the dataset and that you need to fix later in data preprocessing (this step will help you to udnerstand the data). </font> \n",
    "\n",
    "\n",
    "\t\t- Understand the meaning of Column Names\n",
    "\n",
    "\t\t- identify the continous & discrete variables\n",
    "\n",
    "\t\t- understand each & every values clearly by applying descriptive statistics\n",
    "\n",
    "\t\t\t- For contionus variables (apply describe function)\n",
    "\n",
    "\t\t\t- For each discrete variable (apply value_counts)\n",
    "\n",
    "\t\t- Check how many columns have\n",
    "\t\t\t- wrong data type\n",
    "\n",
    "\t\t\t- wrong data\n",
    "\n",
    "\t\t\t- missing values\n",
    "\n",
    "\t\t\t- outliers\n",
    "\t\t\n",
    "\t\t\t- discrete \n",
    "\n",
    "\t\t\t- skewness >1 or <-1\n",
    "\n",
    "\t\t- Complete EDA\n",
    "\n",
    "\t\t\t- apply various plots which are applicable for given data\n",
    "\n",
    "\t\t\t like scatterplot, pairplot, heatmap e.t.c\n",
    "\n",
    "\n",
    "\tfROM THIS, YOU WILL UNDERSTAND VERY CLEARLY ABOUT GIVEN RAW DATA\n",
    "======================================================================================================\n",
    "\n",
    "Step-3: Data Preprocessing\n",
    "\n",
    "\t\tData Cleaning\n",
    "\n",
    "\t\tData Wrangling\n",
    "\n",
    "\t\tFeature Selction\n",
    "\n",
    "\t\tTrain_test Split\n",
    "\n",
    "======================================================================================================\n",
    "\n",
    "Step-4 : Modelling\n",
    "\n",
    "\tApply various algorithms which are applicable for given data\n",
    "\n",
    "Step-5 : Evaluation & Model Selection\n",
    "\n",
    "\t- Select Evaluation Metric for given project\n",
    "\n",
    "\t\t- Regression (RMSE & R2)\n",
    "\n",
    "\t- Check whether\n",
    "\t\t\n",
    "\t\t- Train Accuracy = CV\n",
    "\n",
    "\t\t\t&\n",
    "\n",
    "\t\t- Train Accuracy = Test Accuracy\n",
    "\n",
    "\t\t\t&\n",
    "\n",
    "\t\t- Satisfies Business Problem\n",
    "\n",
    "============================================================================================\n",
    "\n",
    "Finalize the best Model out of all Models which you have tried & SAVE that Model\n",
    "\n",
    "============================================================================================\n",
    "\n",
    "Based on Correlation Matrix, observe\n",
    "---------------------------\n",
    "\n",
    "Relation between i/p variable & o/p variable should be high \n",
    "\n",
    "\t- if corelation <=0.2, the drop the input variable\n",
    "\n",
    "\n",
    "Realtion between i/p variable & i/p variable should be low \n",
    "\n",
    "\t- if corelation>=0.5, then its a colinearity problem \n",
    "\n",
    "\t- you have to drop 1 variable which has high VIF\n",
    "\n",
    "\n",
    ">\n",
    "If output variable is continous so we will get some probability\n"
   ]
  },
  {
   "cell_type": "markdown",
   "id": "9fa165ae",
   "metadata": {},
   "source": [
    "# EXAMPLE "
   ]
  },
  {
   "cell_type": "code",
   "execution_count": 1,
   "id": "91528b06",
   "metadata": {},
   "outputs": [
    {
     "name": "stderr",
     "output_type": "stream",
     "text": [
      "C:\\Users\\Hp\\anaconda3\\Lib\\site-packages\\pandas\\core\\arrays\\masked.py:60: UserWarning: Pandas requires version '1.3.6' or newer of 'bottleneck' (version '1.3.5' currently installed).\n",
      "  from pandas.core import (\n"
     ]
    },
    {
     "data": {
      "text/html": [
       "<div>\n",
       "<style scoped>\n",
       "    .dataframe tbody tr th:only-of-type {\n",
       "        vertical-align: middle;\n",
       "    }\n",
       "\n",
       "    .dataframe tbody tr th {\n",
       "        vertical-align: top;\n",
       "    }\n",
       "\n",
       "    .dataframe thead th {\n",
       "        text-align: right;\n",
       "    }\n",
       "</style>\n",
       "<table border=\"1\" class=\"dataframe\">\n",
       "  <thead>\n",
       "    <tr style=\"text-align: right;\">\n",
       "      <th></th>\n",
       "      <th>X</th>\n",
       "      <th>y</th>\n",
       "    </tr>\n",
       "  </thead>\n",
       "  <tbody>\n",
       "    <tr>\n",
       "      <th>0</th>\n",
       "      <td>1</td>\n",
       "      <td>6</td>\n",
       "    </tr>\n",
       "    <tr>\n",
       "      <th>1</th>\n",
       "      <td>2</td>\n",
       "      <td>7</td>\n",
       "    </tr>\n",
       "    <tr>\n",
       "      <th>2</th>\n",
       "      <td>3</td>\n",
       "      <td>8</td>\n",
       "    </tr>\n",
       "    <tr>\n",
       "      <th>3</th>\n",
       "      <td>4</td>\n",
       "      <td>9</td>\n",
       "    </tr>\n",
       "    <tr>\n",
       "      <th>4</th>\n",
       "      <td>5</td>\n",
       "      <td>10</td>\n",
       "    </tr>\n",
       "    <tr>\n",
       "      <th>5</th>\n",
       "      <td>6</td>\n",
       "      <td>11</td>\n",
       "    </tr>\n",
       "    <tr>\n",
       "      <th>6</th>\n",
       "      <td>7</td>\n",
       "      <td>12</td>\n",
       "    </tr>\n",
       "    <tr>\n",
       "      <th>7</th>\n",
       "      <td>8</td>\n",
       "      <td>13</td>\n",
       "    </tr>\n",
       "    <tr>\n",
       "      <th>8</th>\n",
       "      <td>9</td>\n",
       "      <td>14</td>\n",
       "    </tr>\n",
       "    <tr>\n",
       "      <th>9</th>\n",
       "      <td>10</td>\n",
       "      <td>15</td>\n",
       "    </tr>\n",
       "  </tbody>\n",
       "</table>\n",
       "</div>"
      ],
      "text/plain": [
       "    X   y\n",
       "0   1   6\n",
       "1   2   7\n",
       "2   3   8\n",
       "3   4   9\n",
       "4   5  10\n",
       "5   6  11\n",
       "6   7  12\n",
       "7   8  13\n",
       "8   9  14\n",
       "9  10  15"
      ]
     },
     "execution_count": 1,
     "metadata": {},
     "output_type": "execute_result"
    }
   ],
   "source": [
    "import pandas as pd\n",
    "df = pd.DataFrame({'X':[1, 2, 3, 4, 5, 6, 7, 8, 9, 10], 'y':[6, 7, 8, 9, 10, 11, 12, 13, 14, 15]})\n",
    "df"
   ]
  },
  {
   "cell_type": "code",
   "execution_count": 2,
   "id": "22c03300",
   "metadata": {},
   "outputs": [
    {
     "data": {
      "text/plain": [
       "5.5"
      ]
     },
     "execution_count": 2,
     "metadata": {},
     "output_type": "execute_result"
    }
   ],
   "source": [
    "df['X'].mean()"
   ]
  },
  {
   "cell_type": "code",
   "execution_count": 3,
   "id": "b4f069ad",
   "metadata": {},
   "outputs": [
    {
     "data": {
      "text/plain": [
       "10.5"
      ]
     },
     "execution_count": 3,
     "metadata": {},
     "output_type": "execute_result"
    }
   ],
   "source": [
    "df['y'].mean()"
   ]
  },
  {
   "cell_type": "code",
   "execution_count": 4,
   "id": "4bb94981",
   "metadata": {},
   "outputs": [
    {
     "name": "stdout",
     "output_type": "stream",
     "text": [
      "<class 'pandas.core.frame.DataFrame'>\n",
      "RangeIndex: 10 entries, 0 to 9\n",
      "Data columns (total 2 columns):\n",
      " #   Column  Non-Null Count  Dtype\n",
      "---  ------  --------------  -----\n",
      " 0   X       10 non-null     int64\n",
      " 1   y       10 non-null     int64\n",
      "dtypes: int64(2)\n",
      "memory usage: 292.0 bytes\n"
     ]
    }
   ],
   "source": [
    "df.info()"
   ]
  },
  {
   "cell_type": "code",
   "execution_count": 5,
   "id": "5d90b1ee",
   "metadata": {},
   "outputs": [],
   "source": [
    "X = df[['X']]\n",
    "y = df['y']"
   ]
  },
  {
   "cell_type": "code",
   "execution_count": 6,
   "id": "978c980f",
   "metadata": {},
   "outputs": [],
   "source": [
    "from sklearn.model_selection import train_test_split\n",
    "X_train, X_test, y_train, y_test = train_test_split(X, y, train_size=0.8, random_state=True)"
   ]
  },
  {
   "cell_type": "code",
   "execution_count": 7,
   "id": "65125839",
   "metadata": {},
   "outputs": [
    {
     "data": {
      "text/html": [
       "<style>#sk-container-id-1 {color: black;background-color: white;}#sk-container-id-1 pre{padding: 0;}#sk-container-id-1 div.sk-toggleable {background-color: white;}#sk-container-id-1 label.sk-toggleable__label {cursor: pointer;display: block;width: 100%;margin-bottom: 0;padding: 0.3em;box-sizing: border-box;text-align: center;}#sk-container-id-1 label.sk-toggleable__label-arrow:before {content: \"▸\";float: left;margin-right: 0.25em;color: #696969;}#sk-container-id-1 label.sk-toggleable__label-arrow:hover:before {color: black;}#sk-container-id-1 div.sk-estimator:hover label.sk-toggleable__label-arrow:before {color: black;}#sk-container-id-1 div.sk-toggleable__content {max-height: 0;max-width: 0;overflow: hidden;text-align: left;background-color: #f0f8ff;}#sk-container-id-1 div.sk-toggleable__content pre {margin: 0.2em;color: black;border-radius: 0.25em;background-color: #f0f8ff;}#sk-container-id-1 input.sk-toggleable__control:checked~div.sk-toggleable__content {max-height: 200px;max-width: 100%;overflow: auto;}#sk-container-id-1 input.sk-toggleable__control:checked~label.sk-toggleable__label-arrow:before {content: \"▾\";}#sk-container-id-1 div.sk-estimator input.sk-toggleable__control:checked~label.sk-toggleable__label {background-color: #d4ebff;}#sk-container-id-1 div.sk-label input.sk-toggleable__control:checked~label.sk-toggleable__label {background-color: #d4ebff;}#sk-container-id-1 input.sk-hidden--visually {border: 0;clip: rect(1px 1px 1px 1px);clip: rect(1px, 1px, 1px, 1px);height: 1px;margin: -1px;overflow: hidden;padding: 0;position: absolute;width: 1px;}#sk-container-id-1 div.sk-estimator {font-family: monospace;background-color: #f0f8ff;border: 1px dotted black;border-radius: 0.25em;box-sizing: border-box;margin-bottom: 0.5em;}#sk-container-id-1 div.sk-estimator:hover {background-color: #d4ebff;}#sk-container-id-1 div.sk-parallel-item::after {content: \"\";width: 100%;border-bottom: 1px solid gray;flex-grow: 1;}#sk-container-id-1 div.sk-label:hover label.sk-toggleable__label {background-color: #d4ebff;}#sk-container-id-1 div.sk-serial::before {content: \"\";position: absolute;border-left: 1px solid gray;box-sizing: border-box;top: 0;bottom: 0;left: 50%;z-index: 0;}#sk-container-id-1 div.sk-serial {display: flex;flex-direction: column;align-items: center;background-color: white;padding-right: 0.2em;padding-left: 0.2em;position: relative;}#sk-container-id-1 div.sk-item {position: relative;z-index: 1;}#sk-container-id-1 div.sk-parallel {display: flex;align-items: stretch;justify-content: center;background-color: white;position: relative;}#sk-container-id-1 div.sk-item::before, #sk-container-id-1 div.sk-parallel-item::before {content: \"\";position: absolute;border-left: 1px solid gray;box-sizing: border-box;top: 0;bottom: 0;left: 50%;z-index: -1;}#sk-container-id-1 div.sk-parallel-item {display: flex;flex-direction: column;z-index: 1;position: relative;background-color: white;}#sk-container-id-1 div.sk-parallel-item:first-child::after {align-self: flex-end;width: 50%;}#sk-container-id-1 div.sk-parallel-item:last-child::after {align-self: flex-start;width: 50%;}#sk-container-id-1 div.sk-parallel-item:only-child::after {width: 0;}#sk-container-id-1 div.sk-dashed-wrapped {border: 1px dashed gray;margin: 0 0.4em 0.5em 0.4em;box-sizing: border-box;padding-bottom: 0.4em;background-color: white;}#sk-container-id-1 div.sk-label label {font-family: monospace;font-weight: bold;display: inline-block;line-height: 1.2em;}#sk-container-id-1 div.sk-label-container {text-align: center;}#sk-container-id-1 div.sk-container {/* jupyter's `normalize.less` sets `[hidden] { display: none; }` but bootstrap.min.css set `[hidden] { display: none !important; }` so we also need the `!important` here to be able to override the default hidden behavior on the sphinx rendered scikit-learn.org. See: https://github.com/scikit-learn/scikit-learn/issues/21755 */display: inline-block !important;position: relative;}#sk-container-id-1 div.sk-text-repr-fallback {display: none;}</style><div id=\"sk-container-id-1\" class=\"sk-top-container\"><div class=\"sk-text-repr-fallback\"><pre>LinearRegression()</pre><b>In a Jupyter environment, please rerun this cell to show the HTML representation or trust the notebook. <br />On GitHub, the HTML representation is unable to render, please try loading this page with nbviewer.org.</b></div><div class=\"sk-container\" hidden><div class=\"sk-item\"><div class=\"sk-estimator sk-toggleable\"><input class=\"sk-toggleable__control sk-hidden--visually\" id=\"sk-estimator-id-1\" type=\"checkbox\" checked><label for=\"sk-estimator-id-1\" class=\"sk-toggleable__label sk-toggleable__label-arrow\">LinearRegression</label><div class=\"sk-toggleable__content\"><pre>LinearRegression()</pre></div></div></div></div></div>"
      ],
      "text/plain": [
       "LinearRegression()"
      ]
     },
     "execution_count": 7,
     "metadata": {},
     "output_type": "execute_result"
    }
   ],
   "source": [
    "from sklearn.linear_model import LinearRegression\n",
    "model = LinearRegression()\n",
    "model.fit(X_train, y_train)"
   ]
  },
  {
   "cell_type": "code",
   "execution_count": 8,
   "id": "27d81313",
   "metadata": {},
   "outputs": [
    {
     "name": "stdout",
     "output_type": "stream",
     "text": [
      "Intercept: 5.0\n",
      "Coefficient: [1.]\n"
     ]
    }
   ],
   "source": [
    "print('Intercept:', model.intercept_)\n",
    "print('Coefficient:', model.coef_)"
   ]
  },
  {
   "cell_type": "code",
   "execution_count": 9,
   "id": "c494d102",
   "metadata": {},
   "outputs": [
    {
     "data": {
      "text/plain": [
       "array([ 8., 15.])"
      ]
     },
     "execution_count": 9,
     "metadata": {},
     "output_type": "execute_result"
    }
   ],
   "source": [
    "ypred_test = model.predict(X_test)\n",
    "ypred_test"
   ]
  },
  {
   "cell_type": "code",
   "execution_count": 10,
   "id": "681364fa",
   "metadata": {},
   "outputs": [
    {
     "data": {
      "text/plain": [
       "2"
      ]
     },
     "execution_count": 10,
     "metadata": {},
     "output_type": "execute_result"
    }
   ],
   "source": [
    "len(ypred_test)"
   ]
  },
  {
   "cell_type": "code",
   "execution_count": 11,
   "id": "83167ce7",
   "metadata": {},
   "outputs": [
    {
     "name": "stdout",
     "output_type": "stream",
     "text": [
      "Test MAE: 0.0\n"
     ]
    }
   ],
   "source": [
    "from sklearn.metrics import mean_absolute_error\n",
    "print('Test MAE:', mean_absolute_error(y_test, ypred_test))"
   ]
  },
  {
   "cell_type": "code",
   "execution_count": 12,
   "id": "7c4d2107",
   "metadata": {},
   "outputs": [
    {
     "name": "stdout",
     "output_type": "stream",
     "text": [
      "Test MSE: 0.0\n"
     ]
    }
   ],
   "source": [
    "from sklearn.metrics import mean_squared_error\n",
    "print('Test MSE:', mean_squared_error(y_test,ypred_test))"
   ]
  },
  {
   "cell_type": "code",
   "execution_count": 13,
   "id": "680d9898",
   "metadata": {},
   "outputs": [
    {
     "name": "stdout",
     "output_type": "stream",
     "text": [
      "Test RMSE: 0.0\n"
     ]
    }
   ],
   "source": [
    "import numpy as np\n",
    "print('Test RMSE:', np.sqrt(mean_squared_error(y_test,ypred_test)))"
   ]
  },
  {
   "cell_type": "code",
   "execution_count": 14,
   "id": "2216569d",
   "metadata": {},
   "outputs": [
    {
     "name": "stdout",
     "output_type": "stream",
     "text": [
      "Test R2 1.0\n"
     ]
    }
   ],
   "source": [
    "print('Test R2', model.score(X_test, y_test))"
   ]
  },
  {
   "cell_type": "code",
   "execution_count": 15,
   "id": "2a0039c6",
   "metadata": {},
   "outputs": [
    {
     "name": "stdout",
     "output_type": "stream",
     "text": [
      "Train R2: 1.0\n"
     ]
    }
   ],
   "source": [
    "print('Train R2:', model.score(X_train, y_train))"
   ]
  },
  {
   "cell_type": "code",
   "execution_count": 16,
   "id": "8d0a0f1f",
   "metadata": {},
   "outputs": [
    {
     "name": "stdout",
     "output_type": "stream",
     "text": [
      "[1. 1. 1. 1. 1.]\n",
      "Cross Validation Score: 1.0\n"
     ]
    }
   ],
   "source": [
    "from sklearn.model_selection import cross_val_score\n",
    "scores = cross_val_score(model, X, y, cv=5)\n",
    "print(scores)\n",
    "\n",
    "print('Cross Validation Score:', scores.mean())"
   ]
  },
  {
   "cell_type": "markdown",
   "id": "b77a130b",
   "metadata": {},
   "source": [
    "# EXAMPLE "
   ]
  },
  {
   "cell_type": "code",
   "execution_count": 17,
   "id": "fc20277d",
   "metadata": {},
   "outputs": [
    {
     "data": {
      "text/html": [
       "<div>\n",
       "<style scoped>\n",
       "    .dataframe tbody tr th:only-of-type {\n",
       "        vertical-align: middle;\n",
       "    }\n",
       "\n",
       "    .dataframe tbody tr th {\n",
       "        vertical-align: top;\n",
       "    }\n",
       "\n",
       "    .dataframe thead th {\n",
       "        text-align: right;\n",
       "    }\n",
       "</style>\n",
       "<table border=\"1\" class=\"dataframe\">\n",
       "  <thead>\n",
       "    <tr style=\"text-align: right;\">\n",
       "      <th></th>\n",
       "      <th>X</th>\n",
       "      <th>y</th>\n",
       "    </tr>\n",
       "  </thead>\n",
       "  <tbody>\n",
       "    <tr>\n",
       "      <th>0</th>\n",
       "      <td>1</td>\n",
       "      <td>1</td>\n",
       "    </tr>\n",
       "    <tr>\n",
       "      <th>1</th>\n",
       "      <td>2</td>\n",
       "      <td>4</td>\n",
       "    </tr>\n",
       "    <tr>\n",
       "      <th>2</th>\n",
       "      <td>3</td>\n",
       "      <td>9</td>\n",
       "    </tr>\n",
       "    <tr>\n",
       "      <th>3</th>\n",
       "      <td>4</td>\n",
       "      <td>16</td>\n",
       "    </tr>\n",
       "    <tr>\n",
       "      <th>4</th>\n",
       "      <td>5</td>\n",
       "      <td>25</td>\n",
       "    </tr>\n",
       "    <tr>\n",
       "      <th>5</th>\n",
       "      <td>6</td>\n",
       "      <td>36</td>\n",
       "    </tr>\n",
       "    <tr>\n",
       "      <th>6</th>\n",
       "      <td>7</td>\n",
       "      <td>49</td>\n",
       "    </tr>\n",
       "    <tr>\n",
       "      <th>7</th>\n",
       "      <td>8</td>\n",
       "      <td>64</td>\n",
       "    </tr>\n",
       "    <tr>\n",
       "      <th>8</th>\n",
       "      <td>9</td>\n",
       "      <td>81</td>\n",
       "    </tr>\n",
       "    <tr>\n",
       "      <th>9</th>\n",
       "      <td>10</td>\n",
       "      <td>100</td>\n",
       "    </tr>\n",
       "  </tbody>\n",
       "</table>\n",
       "</div>"
      ],
      "text/plain": [
       "    X    y\n",
       "0   1    1\n",
       "1   2    4\n",
       "2   3    9\n",
       "3   4   16\n",
       "4   5   25\n",
       "5   6   36\n",
       "6   7   49\n",
       "7   8   64\n",
       "8   9   81\n",
       "9  10  100"
      ]
     },
     "execution_count": 17,
     "metadata": {},
     "output_type": "execute_result"
    }
   ],
   "source": [
    "import pandas as pd\n",
    "df = pd.DataFrame({'X':[1, 2, 3, 4, 5, 6, 7, 8, 9, 10], 'y': [1, 4, 9, 16, 25, 36, 49, 64, 81, 100]})\n",
    "df"
   ]
  },
  {
   "cell_type": "code",
   "execution_count": 18,
   "id": "d4ce80eb",
   "metadata": {},
   "outputs": [],
   "source": [
    "X = df[['X']]\n",
    "y = df['y']"
   ]
  },
  {
   "cell_type": "code",
   "execution_count": 19,
   "id": "73ae9713",
   "metadata": {},
   "outputs": [],
   "source": [
    "from sklearn.model_selection import train_test_split\n",
    "X_train, X_test, y_train, y_test = train_test_split(X, y, train_size=0.8, random_state=True)"
   ]
  },
  {
   "cell_type": "code",
   "execution_count": 20,
   "id": "b14538f8",
   "metadata": {},
   "outputs": [
    {
     "data": {
      "text/html": [
       "<style>#sk-container-id-2 {color: black;background-color: white;}#sk-container-id-2 pre{padding: 0;}#sk-container-id-2 div.sk-toggleable {background-color: white;}#sk-container-id-2 label.sk-toggleable__label {cursor: pointer;display: block;width: 100%;margin-bottom: 0;padding: 0.3em;box-sizing: border-box;text-align: center;}#sk-container-id-2 label.sk-toggleable__label-arrow:before {content: \"▸\";float: left;margin-right: 0.25em;color: #696969;}#sk-container-id-2 label.sk-toggleable__label-arrow:hover:before {color: black;}#sk-container-id-2 div.sk-estimator:hover label.sk-toggleable__label-arrow:before {color: black;}#sk-container-id-2 div.sk-toggleable__content {max-height: 0;max-width: 0;overflow: hidden;text-align: left;background-color: #f0f8ff;}#sk-container-id-2 div.sk-toggleable__content pre {margin: 0.2em;color: black;border-radius: 0.25em;background-color: #f0f8ff;}#sk-container-id-2 input.sk-toggleable__control:checked~div.sk-toggleable__content {max-height: 200px;max-width: 100%;overflow: auto;}#sk-container-id-2 input.sk-toggleable__control:checked~label.sk-toggleable__label-arrow:before {content: \"▾\";}#sk-container-id-2 div.sk-estimator input.sk-toggleable__control:checked~label.sk-toggleable__label {background-color: #d4ebff;}#sk-container-id-2 div.sk-label input.sk-toggleable__control:checked~label.sk-toggleable__label {background-color: #d4ebff;}#sk-container-id-2 input.sk-hidden--visually {border: 0;clip: rect(1px 1px 1px 1px);clip: rect(1px, 1px, 1px, 1px);height: 1px;margin: -1px;overflow: hidden;padding: 0;position: absolute;width: 1px;}#sk-container-id-2 div.sk-estimator {font-family: monospace;background-color: #f0f8ff;border: 1px dotted black;border-radius: 0.25em;box-sizing: border-box;margin-bottom: 0.5em;}#sk-container-id-2 div.sk-estimator:hover {background-color: #d4ebff;}#sk-container-id-2 div.sk-parallel-item::after {content: \"\";width: 100%;border-bottom: 1px solid gray;flex-grow: 1;}#sk-container-id-2 div.sk-label:hover label.sk-toggleable__label {background-color: #d4ebff;}#sk-container-id-2 div.sk-serial::before {content: \"\";position: absolute;border-left: 1px solid gray;box-sizing: border-box;top: 0;bottom: 0;left: 50%;z-index: 0;}#sk-container-id-2 div.sk-serial {display: flex;flex-direction: column;align-items: center;background-color: white;padding-right: 0.2em;padding-left: 0.2em;position: relative;}#sk-container-id-2 div.sk-item {position: relative;z-index: 1;}#sk-container-id-2 div.sk-parallel {display: flex;align-items: stretch;justify-content: center;background-color: white;position: relative;}#sk-container-id-2 div.sk-item::before, #sk-container-id-2 div.sk-parallel-item::before {content: \"\";position: absolute;border-left: 1px solid gray;box-sizing: border-box;top: 0;bottom: 0;left: 50%;z-index: -1;}#sk-container-id-2 div.sk-parallel-item {display: flex;flex-direction: column;z-index: 1;position: relative;background-color: white;}#sk-container-id-2 div.sk-parallel-item:first-child::after {align-self: flex-end;width: 50%;}#sk-container-id-2 div.sk-parallel-item:last-child::after {align-self: flex-start;width: 50%;}#sk-container-id-2 div.sk-parallel-item:only-child::after {width: 0;}#sk-container-id-2 div.sk-dashed-wrapped {border: 1px dashed gray;margin: 0 0.4em 0.5em 0.4em;box-sizing: border-box;padding-bottom: 0.4em;background-color: white;}#sk-container-id-2 div.sk-label label {font-family: monospace;font-weight: bold;display: inline-block;line-height: 1.2em;}#sk-container-id-2 div.sk-label-container {text-align: center;}#sk-container-id-2 div.sk-container {/* jupyter's `normalize.less` sets `[hidden] { display: none; }` but bootstrap.min.css set `[hidden] { display: none !important; }` so we also need the `!important` here to be able to override the default hidden behavior on the sphinx rendered scikit-learn.org. See: https://github.com/scikit-learn/scikit-learn/issues/21755 */display: inline-block !important;position: relative;}#sk-container-id-2 div.sk-text-repr-fallback {display: none;}</style><div id=\"sk-container-id-2\" class=\"sk-top-container\"><div class=\"sk-text-repr-fallback\"><pre>LinearRegression()</pre><b>In a Jupyter environment, please rerun this cell to show the HTML representation or trust the notebook. <br />On GitHub, the HTML representation is unable to render, please try loading this page with nbviewer.org.</b></div><div class=\"sk-container\" hidden><div class=\"sk-item\"><div class=\"sk-estimator sk-toggleable\"><input class=\"sk-toggleable__control sk-hidden--visually\" id=\"sk-estimator-id-2\" type=\"checkbox\" checked><label for=\"sk-estimator-id-2\" class=\"sk-toggleable__label sk-toggleable__label-arrow\">LinearRegression</label><div class=\"sk-toggleable__content\"><pre>LinearRegression()</pre></div></div></div></div></div>"
      ],
      "text/plain": [
       "LinearRegression()"
      ]
     },
     "execution_count": 20,
     "metadata": {},
     "output_type": "execute_result"
    }
   ],
   "source": [
    "from sklearn.linear_model import LinearRegression\n",
    "model = LinearRegression()\n",
    "model.fit(X_train, y_train)"
   ]
  },
  {
   "cell_type": "code",
   "execution_count": 21,
   "id": "0973bd20",
   "metadata": {},
   "outputs": [
    {
     "name": "stdout",
     "output_type": "stream",
     "text": [
      "Intercept: -17.432432432432428\n",
      "Coefficient: [9.89189189]\n"
     ]
    }
   ],
   "source": [
    "print('Intercept:', model.intercept_)\n",
    "print('Coefficient:', model.coef_)"
   ]
  },
  {
   "cell_type": "markdown",
   "id": "e35393f6",
   "metadata": {},
   "source": [
    "### Calculate Intercept and Coefficient step by step"
   ]
  },
  {
   "cell_type": "code",
   "execution_count": 22,
   "id": "8ca76334",
   "metadata": {},
   "outputs": [
    {
     "data": {
      "text/plain": [
       "X    5.25\n",
       "dtype: float64"
      ]
     },
     "execution_count": 22,
     "metadata": {},
     "output_type": "execute_result"
    }
   ],
   "source": [
    "x̄ = X_train.mean()\n",
    "x̄"
   ]
  },
  {
   "cell_type": "code",
   "execution_count": 23,
   "id": "464adc86",
   "metadata": {},
   "outputs": [
    {
     "data": {
      "text/plain": [
       "34.5"
      ]
     },
     "execution_count": 23,
     "metadata": {},
     "output_type": "execute_result"
    }
   ],
   "source": [
    "ȳ = y_train.mean()\n",
    "ȳ"
   ]
  },
  {
   "cell_type": "code",
   "execution_count": 24,
   "id": "b76dcf01",
   "metadata": {},
   "outputs": [
    {
     "data": {
      "text/plain": [
       "0   -4.25\n",
       "1   -3.25\n",
       "2     NaN\n",
       "3   -1.25\n",
       "4   -0.25\n",
       "5    0.75\n",
       "6    1.75\n",
       "7    2.75\n",
       "8    3.75\n",
       "9     NaN\n",
       "Name: X-x̄, dtype: float64"
      ]
     },
     "execution_count": 24,
     "metadata": {},
     "output_type": "execute_result"
    }
   ],
   "source": [
    "df['X-x̄'] = X_train - x̄\n",
    "df['X-x̄']"
   ]
  },
  {
   "cell_type": "code",
   "execution_count": 25,
   "id": "c1165386",
   "metadata": {},
   "outputs": [
    {
     "data": {
      "text/plain": [
       "0   -33.5\n",
       "1   -30.5\n",
       "2     NaN\n",
       "3   -18.5\n",
       "4    -9.5\n",
       "5     1.5\n",
       "6    14.5\n",
       "7    29.5\n",
       "8    46.5\n",
       "9     NaN\n",
       "Name: y-ȳ, dtype: float64"
      ]
     },
     "execution_count": 25,
     "metadata": {},
     "output_type": "execute_result"
    }
   ],
   "source": [
    "df['y-ȳ'] = y_train - ȳ\n",
    "df['y-ȳ']"
   ]
  },
  {
   "cell_type": "code",
   "execution_count": 26,
   "id": "5cb050ac",
   "metadata": {},
   "outputs": [
    {
     "data": {
      "text/plain": [
       "0    142.375\n",
       "1     99.125\n",
       "2        NaN\n",
       "3     23.125\n",
       "4      2.375\n",
       "5      1.125\n",
       "6     25.375\n",
       "7     81.125\n",
       "8    174.375\n",
       "9        NaN\n",
       "dtype: float64"
      ]
     },
     "execution_count": 26,
     "metadata": {},
     "output_type": "execute_result"
    }
   ],
   "source": [
    "df['X-x̄'] * df['y-ȳ']"
   ]
  },
  {
   "cell_type": "code",
   "execution_count": 27,
   "id": "93c9931d",
   "metadata": {},
   "outputs": [
    {
     "data": {
      "text/plain": [
       "0    142.375\n",
       "1     99.125\n",
       "2        NaN\n",
       "3     23.125\n",
       "4      2.375\n",
       "5      1.125\n",
       "6     25.375\n",
       "7     81.125\n",
       "8    174.375\n",
       "9        NaN\n",
       "dtype: float64"
      ]
     },
     "execution_count": 27,
     "metadata": {},
     "output_type": "execute_result"
    }
   ],
   "source": [
    "(df['X-x̄'] * df['y-ȳ'])"
   ]
  },
  {
   "cell_type": "code",
   "execution_count": 28,
   "id": "93e5b0d0",
   "metadata": {},
   "outputs": [
    {
     "data": {
      "text/plain": [
       "549.0"
      ]
     },
     "execution_count": 28,
     "metadata": {},
     "output_type": "execute_result"
    }
   ],
   "source": [
    "(df['X-x̄'] * df['y-ȳ']).sum()"
   ]
  },
  {
   "cell_type": "code",
   "execution_count": 29,
   "id": "6b9296c3",
   "metadata": {},
   "outputs": [
    {
     "data": {
      "text/plain": [
       "0    18.0625\n",
       "1    10.5625\n",
       "2        NaN\n",
       "3     1.5625\n",
       "4     0.0625\n",
       "5     0.5625\n",
       "6     3.0625\n",
       "7     7.5625\n",
       "8    14.0625\n",
       "9        NaN\n",
       "Name: X-x̄, dtype: float64"
      ]
     },
     "execution_count": 29,
     "metadata": {},
     "output_type": "execute_result"
    }
   ],
   "source": [
    "df['X-x̄']**2"
   ]
  },
  {
   "cell_type": "code",
   "execution_count": 30,
   "id": "8fed078f",
   "metadata": {},
   "outputs": [
    {
     "data": {
      "text/plain": [
       "55.5"
      ]
     },
     "execution_count": 30,
     "metadata": {},
     "output_type": "execute_result"
    }
   ],
   "source": [
    "(df['X-x̄']**2).sum()"
   ]
  },
  {
   "cell_type": "code",
   "execution_count": 31,
   "id": "3fe99817",
   "metadata": {},
   "outputs": [
    {
     "data": {
      "text/plain": [
       "0    1122.25\n",
       "1     930.25\n",
       "2        NaN\n",
       "3     342.25\n",
       "4      90.25\n",
       "5       2.25\n",
       "6     210.25\n",
       "7     870.25\n",
       "8    2162.25\n",
       "9        NaN\n",
       "Name: y-ȳ, dtype: float64"
      ]
     },
     "execution_count": 31,
     "metadata": {},
     "output_type": "execute_result"
    }
   ],
   "source": [
    "df['y-ȳ']**2"
   ]
  },
  {
   "cell_type": "code",
   "execution_count": 32,
   "id": "7c14a56c",
   "metadata": {},
   "outputs": [
    {
     "data": {
      "text/plain": [
       "5730.0"
      ]
     },
     "execution_count": 32,
     "metadata": {},
     "output_type": "execute_result"
    }
   ],
   "source": [
    "(df['y-ȳ']**2).sum()"
   ]
  },
  {
   "cell_type": "code",
   "execution_count": 33,
   "id": "fb575a20",
   "metadata": {},
   "outputs": [
    {
     "data": {
      "text/plain": [
       "9.891891891891891"
      ]
     },
     "execution_count": 33,
     "metadata": {},
     "output_type": "execute_result"
    }
   ],
   "source": [
    "β1 = (df['X-x̄'] * df['y-ȳ']).sum() / (df['X-x̄']**2).sum()\n",
    "β1"
   ]
  },
  {
   "cell_type": "code",
   "execution_count": 34,
   "id": "8b1e3f9f",
   "metadata": {},
   "outputs": [
    {
     "data": {
      "text/plain": [
       "X   -17.432432\n",
       "dtype: float64"
      ]
     },
     "execution_count": 34,
     "metadata": {},
     "output_type": "execute_result"
    }
   ],
   "source": [
    "β0 = ȳ - (β1 * x̄)\n",
    "β0"
   ]
  },
  {
   "cell_type": "code",
   "execution_count": 35,
   "id": "2fa6ee12",
   "metadata": {},
   "outputs": [],
   "source": [
    "# ŷ = β0 + (β1 * x)\n",
    "# ŷ = -17.432432 + (9.89189 * x) \n",
    "# ŷ = 9.89189(x) - 17.432432"
   ]
  },
  {
   "cell_type": "code",
   "execution_count": 36,
   "id": "24e8bbb5",
   "metadata": {},
   "outputs": [
    {
     "data": {
      "text/plain": [
       "6    51.810798\n",
       "4    32.027018\n",
       "0    -7.540542\n",
       "3    22.135128\n",
       "1     2.351348\n",
       "7    61.702688\n",
       "8    71.594578\n",
       "5    41.918908\n",
       "Name: X, dtype: float64"
      ]
     },
     "execution_count": 36,
     "metadata": {},
     "output_type": "execute_result"
    }
   ],
   "source": [
    "ŷ = (9.89189 * (X_train)) - 17.432432\n",
    "ŷ  = ŷ['X']\n",
    "ŷ"
   ]
  },
  {
   "cell_type": "code",
   "execution_count": 37,
   "id": "655ca9e9",
   "metadata": {},
   "outputs": [
    {
     "data": {
      "text/plain": [
       "6    49\n",
       "4    25\n",
       "0     1\n",
       "3    16\n",
       "1     4\n",
       "7    64\n",
       "8    81\n",
       "5    36\n",
       "Name: y, dtype: int64"
      ]
     },
     "execution_count": 37,
     "metadata": {},
     "output_type": "execute_result"
    }
   ],
   "source": [
    "y_train"
   ]
  },
  {
   "cell_type": "code",
   "execution_count": 38,
   "id": "7b0598bd",
   "metadata": {},
   "outputs": [
    {
     "data": {
      "text/plain": [
       "6   -2.810798\n",
       "4   -7.027018\n",
       "0    8.540542\n",
       "3   -6.135128\n",
       "1    1.648652\n",
       "7    2.297312\n",
       "8    9.405422\n",
       "5   -5.918908\n",
       "dtype: float64"
      ]
     },
     "execution_count": 38,
     "metadata": {},
     "output_type": "execute_result"
    }
   ],
   "source": [
    "y_train - ŷ"
   ]
  },
  {
   "cell_type": "code",
   "execution_count": 39,
   "id": "2099f7ae",
   "metadata": {},
   "outputs": [
    {
     "data": {
      "text/plain": [
       "6     7.900585\n",
       "4    49.378982\n",
       "0    72.940858\n",
       "3    37.639796\n",
       "1     2.718053\n",
       "7     5.277642\n",
       "8    88.461963\n",
       "5    35.033472\n",
       "dtype: float64"
      ]
     },
     "execution_count": 39,
     "metadata": {},
     "output_type": "execute_result"
    }
   ],
   "source": [
    "(y_train - ŷ) ** 2"
   ]
  },
  {
   "cell_type": "code",
   "execution_count": 40,
   "id": "a9818f85",
   "metadata": {},
   "outputs": [
    {
     "data": {
      "text/plain": [
       "299.3513513522719"
      ]
     },
     "execution_count": 40,
     "metadata": {},
     "output_type": "execute_result"
    }
   ],
   "source": [
    "SSE = ((y_train - ŷ) ** 2).sum()\n",
    "SSE"
   ]
  },
  {
   "cell_type": "code",
   "execution_count": 41,
   "id": "bc4104be",
   "metadata": {},
   "outputs": [
    {
     "data": {
      "text/plain": [
       "37.418918919033985"
      ]
     },
     "execution_count": 41,
     "metadata": {},
     "output_type": "execute_result"
    }
   ],
   "source": [
    "MSE = SSE/ len(X_train)\n",
    "MSE"
   ]
  },
  {
   "cell_type": "code",
   "execution_count": 42,
   "id": "09692355",
   "metadata": {},
   "outputs": [
    {
     "data": {
      "text/plain": [
       "6.1171005320359075"
      ]
     },
     "execution_count": 42,
     "metadata": {},
     "output_type": "execute_result"
    }
   ],
   "source": [
    "import numpy as np\n",
    "RMSE = np.sqrt(MSE)\n",
    "RMSE"
   ]
  },
  {
   "cell_type": "markdown",
   "id": "71332a87",
   "metadata": {},
   "source": [
    "#### manually predictions\n",
    "- Intercept: 17.432432\n",
    "- Coefficient:  9.89189\n",
    "\n",
    "pred = 9.89189(x) - 17.432432\n",
    "*X_test values are 3, 10*\n",
    "- 17.432432 + (9.89189 * 3) = 12.243\n",
    "- 17.432432 + (9.89189 * 10) = 81.486"
   ]
  },
  {
   "cell_type": "code",
   "execution_count": 43,
   "id": "3522efc5",
   "metadata": {},
   "outputs": [
    {
     "data": {
      "text/plain": [
       "array([51.81081081, 32.02702703, -7.54054054, 22.13513514,  2.35135135,\n",
       "       61.7027027 , 71.59459459, 41.91891892])"
      ]
     },
     "execution_count": 43,
     "metadata": {},
     "output_type": "execute_result"
    }
   ],
   "source": [
    "y_pred = model.predict(X_train)\n",
    "y_pred"
   ]
  },
  {
   "cell_type": "code",
   "execution_count": 44,
   "id": "0b50fc6a",
   "metadata": {},
   "outputs": [
    {
     "name": "stdout",
     "output_type": "stream",
     "text": [
      "Train MAE: 5.472972499999999\n",
      "Train MAE: 5.472972972972974\n"
     ]
    }
   ],
   "source": [
    "from sklearn.metrics import mean_absolute_error\n",
    "print('Train MAE:', mean_absolute_error(y_train, ŷ))\n",
    "# both are same thing\n",
    "print('Train MAE:', mean_absolute_error(y_train, y_pred))"
   ]
  },
  {
   "cell_type": "code",
   "execution_count": 45,
   "id": "66c946e3",
   "metadata": {},
   "outputs": [
    {
     "name": "stdout",
     "output_type": "stream",
     "text": [
      "Train MSE: 37.41891891891895\n"
     ]
    }
   ],
   "source": [
    "from sklearn.metrics import mean_squared_error\n",
    "print('Train MSE:', mean_squared_error(y_train,y_pred))"
   ]
  },
  {
   "cell_type": "code",
   "execution_count": 46,
   "id": "6bdb8b35",
   "metadata": {},
   "outputs": [
    {
     "name": "stdout",
     "output_type": "stream",
     "text": [
      "Train RMSE: 6.1171005320359075\n"
     ]
    }
   ],
   "source": [
    "import numpy as np\n",
    "print('Train RMSE:', np.sqrt(mean_squared_error(y_train, ŷ)))"
   ]
  },
  {
   "cell_type": "code",
   "execution_count": 47,
   "id": "57d5a90d",
   "metadata": {},
   "outputs": [
    {
     "name": "stdout",
     "output_type": "stream",
     "text": [
      "Train R2: 0.9477571812650346\n"
     ]
    }
   ],
   "source": [
    "print('Train R2:', model.score(X_train, y_train))"
   ]
  },
  {
   "cell_type": "code",
   "execution_count": 48,
   "id": "05a143f6",
   "metadata": {},
   "outputs": [
    {
     "name": "stdout",
     "output_type": "stream",
     "text": [
      "[-187.88888889   -1.86989796   -2.30578512    0.375        -3.70914127]\n",
      "Cross Validation Score: -39.079742649255614\n"
     ]
    }
   ],
   "source": [
    "from sklearn.model_selection import cross_val_score\n",
    "scores = cross_val_score(model, X, y, cv=5)\n",
    "print(scores)\n",
    "\n",
    "print('Cross Validation Score:', scores.mean())"
   ]
  },
  {
   "cell_type": "markdown",
   "id": "47665cba",
   "metadata": {},
   "source": [
    "### based on our calculation we can see that our train r^2 accuracy is 0.94 and cv score is -39 that basically means our model is not good.\n",
    "\n",
    "even my model is not good still I am calculating test accuracy"
   ]
  },
  {
   "cell_type": "markdown",
   "id": "e336af93",
   "metadata": {},
   "source": [
    "### calculate test accuracy"
   ]
  },
  {
   "cell_type": "code",
   "execution_count": 49,
   "id": "0bdfe4a2",
   "metadata": {},
   "outputs": [
    {
     "data": {
      "text/plain": [
       "array([12.24324324, 81.48648649])"
      ]
     },
     "execution_count": 49,
     "metadata": {},
     "output_type": "execute_result"
    }
   ],
   "source": [
    "y_pred = model.predict(X_test)\n",
    "y_pred"
   ]
  },
  {
   "cell_type": "code",
   "execution_count": 50,
   "id": "2cd49e5b",
   "metadata": {},
   "outputs": [
    {
     "data": {
      "text/html": [
       "<div>\n",
       "<style scoped>\n",
       "    .dataframe tbody tr th:only-of-type {\n",
       "        vertical-align: middle;\n",
       "    }\n",
       "\n",
       "    .dataframe tbody tr th {\n",
       "        vertical-align: top;\n",
       "    }\n",
       "\n",
       "    .dataframe thead th {\n",
       "        text-align: right;\n",
       "    }\n",
       "</style>\n",
       "<table border=\"1\" class=\"dataframe\">\n",
       "  <thead>\n",
       "    <tr style=\"text-align: right;\">\n",
       "      <th></th>\n",
       "      <th>X</th>\n",
       "    </tr>\n",
       "  </thead>\n",
       "  <tbody>\n",
       "    <tr>\n",
       "      <th>2</th>\n",
       "      <td>3</td>\n",
       "    </tr>\n",
       "    <tr>\n",
       "      <th>9</th>\n",
       "      <td>10</td>\n",
       "    </tr>\n",
       "  </tbody>\n",
       "</table>\n",
       "</div>"
      ],
      "text/plain": [
       "    X\n",
       "2   3\n",
       "9  10"
      ]
     },
     "execution_count": 50,
     "metadata": {},
     "output_type": "execute_result"
    }
   ],
   "source": [
    "X_test"
   ]
  },
  {
   "cell_type": "code",
   "execution_count": 51,
   "id": "46c274f0",
   "metadata": {},
   "outputs": [
    {
     "data": {
      "text/html": [
       "<div>\n",
       "<style scoped>\n",
       "    .dataframe tbody tr th:only-of-type {\n",
       "        vertical-align: middle;\n",
       "    }\n",
       "\n",
       "    .dataframe tbody tr th {\n",
       "        vertical-align: top;\n",
       "    }\n",
       "\n",
       "    .dataframe thead th {\n",
       "        text-align: right;\n",
       "    }\n",
       "</style>\n",
       "<table border=\"1\" class=\"dataframe\">\n",
       "  <thead>\n",
       "    <tr style=\"text-align: right;\">\n",
       "      <th></th>\n",
       "      <th>X</th>\n",
       "    </tr>\n",
       "  </thead>\n",
       "  <tbody>\n",
       "    <tr>\n",
       "      <th>2</th>\n",
       "      <td>12.243238</td>\n",
       "    </tr>\n",
       "    <tr>\n",
       "      <th>9</th>\n",
       "      <td>81.486468</td>\n",
       "    </tr>\n",
       "  </tbody>\n",
       "</table>\n",
       "</div>"
      ],
      "text/plain": [
       "           X\n",
       "2  12.243238\n",
       "9  81.486468"
      ]
     },
     "execution_count": 51,
     "metadata": {},
     "output_type": "execute_result"
    }
   ],
   "source": [
    "ŷ = (9.89189 * (X_test)) - 17.432432\n",
    "ŷ"
   ]
  },
  {
   "cell_type": "code",
   "execution_count": 52,
   "id": "b1f0c927",
   "metadata": {},
   "outputs": [
    {
     "name": "stdout",
     "output_type": "stream",
     "text": [
      "Test MAE: 10.878385\n"
     ]
    }
   ],
   "source": [
    "from sklearn.metrics import mean_absolute_error\n",
    "print('Test MAE:', mean_absolute_error(y_test, ŷ))\n",
    "# both are same thing\n",
    "# print('Test MAE:', mean_absolute_error(y_test, y_pred))"
   ]
  },
  {
   "cell_type": "code",
   "execution_count": 53,
   "id": "3e03e152",
   "metadata": {},
   "outputs": [
    {
     "name": "stdout",
     "output_type": "stream",
     "text": [
      "Test MSE: 176.63472991983397\n"
     ]
    }
   ],
   "source": [
    "from sklearn.metrics import mean_squared_error\n",
    "print('Test MSE:', mean_squared_error(y_test,ŷ))"
   ]
  },
  {
   "cell_type": "code",
   "execution_count": 54,
   "id": "54a05073",
   "metadata": {},
   "outputs": [
    {
     "name": "stdout",
     "output_type": "stream",
     "text": [
      "Test RMSE: 13.2903999157224\n"
     ]
    }
   ],
   "source": [
    "import numpy as np\n",
    "print('Test RMSE:', np.sqrt(mean_squared_error(y_test,ŷ)))"
   ]
  },
  {
   "cell_type": "code",
   "execution_count": 55,
   "id": "63366c2c",
   "metadata": {},
   "outputs": [
    {
     "name": "stdout",
     "output_type": "stream",
     "text": [
      "Test R2 0.9146796741094335\n"
     ]
    }
   ],
   "source": [
    "print('Test R2', model.score(X_test, y_test))"
   ]
  },
  {
   "cell_type": "code",
   "execution_count": 56,
   "id": "cdd58ba4",
   "metadata": {},
   "outputs": [
    {
     "data": {
      "text/plain": [
       "[<matplotlib.lines.Line2D at 0x26e084e1010>]"
      ]
     },
     "execution_count": 56,
     "metadata": {},
     "output_type": "execute_result"
    },
    {
     "data": {
      "image/png": "[encoded data removed]",
      "text/plain": [
       "<Figure size 400x300 with 1 Axes>"
      ]
     },
     "metadata": {},
     "output_type": "display_data"
    }
   ],
   "source": [
    "import matplotlib.pyplot as plt\n",
    "plt.figure(figsize=(4, 3))\n",
    "plt.scatter(X_train,y_train)\n",
    "plt.plot(X_train,model.predict(X_train))"
   ]
  },
  {
   "cell_type": "code",
   "execution_count": 57,
   "id": "ff3e79cf",
   "metadata": {},
   "outputs": [
    {
     "data": {
      "text/plain": [
       "[<matplotlib.lines.Line2D at 0x26e085d0750>]"
      ]
     },
     "execution_count": 57,
     "metadata": {},
     "output_type": "execute_result"
    },
    {
     "data": {
      "image/png": "[encoded data removed]",
      "text/plain": [
       "<Figure size 400x300 with 1 Axes>"
      ]
     },
     "metadata": {},
     "output_type": "display_data"
    }
   ],
   "source": [
    "plt.figure(figsize=(4, 3))\n",
    "plt.scatter(X_test,y_test)\n",
    "plt.plot(X_test,model.predict(X_test))"
   ]
  },
  {
   "cell_type": "markdown",
   "id": "c06875a0",
   "metadata": {},
   "source": [
    ">\n",
    "\n",
    "what are the ways to calculate accuarcy between train, cv and test\n",
    "- Train RMSE\n",
    "- Test R^2\n",
    "- CV (this will be calculated only on train)\n",
    "- Test RMSE\n",
    "- Test R^2"
   ]
  },
  {
   "cell_type": "code",
   "execution_count": null,
   "id": "41f0e5c4",
   "metadata": {},
   "outputs": [],
   "source": []
  }
 ],
 "metadata": {
  "kernelspec": {
   "display_name": "Python 3 (ipykernel)",
   "language": "python",
   "name": "python3"
  },
  "language_info": {
   "codemirror_mode": {
    "name": "ipython",
    "version": 3
   },
   "file_extension": ".py",
   "mimetype": "text/x-python",
   "name": "python",
   "nbconvert_exporter": "python",
   "pygments_lexer": "ipython3",
   "version": "3.11.5"
  }
 },
 "nbformat": 4,
 "nbformat_minor": 5
}
