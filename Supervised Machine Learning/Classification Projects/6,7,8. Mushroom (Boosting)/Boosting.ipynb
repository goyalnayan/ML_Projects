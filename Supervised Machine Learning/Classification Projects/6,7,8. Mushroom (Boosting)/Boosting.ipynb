{
 "cells": [
  {
   "cell_type": "markdown",
   "id": "e0ec691b",
   "metadata": {},
   "source": [
    "## Step -1: Business Problem\n",
    "- Develop a predictive model to identify whether mushroom is good or poisonous based on various features of mushrooms.\n",
    "- A general guidline for features, people should look out for when picking mushrooms"
   ]
  },
  {
   "cell_type": "code",
   "execution_count": 1,
   "id": "da03e93b",
   "metadata": {},
   "outputs": [],
   "source": [
    "import warnings\n",
    "warnings.filterwarnings('ignore')\n",
    "\n",
    "import numpy as np\n",
    "import pandas as pd\n",
    "import matplotlib.pyplot as plt\n",
    "import seaborn as sns"
   ]
  },
  {
   "cell_type": "code",
   "execution_count": 2,
   "id": "e61bff8c",
   "metadata": {
    "scrolled": true
   },
   "outputs": [
    {
     "data": {
      "text/html": [
       "<div>\n",
       "<style scoped>\n",
       "    .dataframe tbody tr th:only-of-type {\n",
       "        vertical-align: middle;\n",
       "    }\n",
       "\n",
       "    .dataframe tbody tr th {\n",
       "        vertical-align: top;\n",
       "    }\n",
       "\n",
       "    .dataframe thead th {\n",
       "        text-align: right;\n",
       "    }\n",
       "</style>\n",
       "<table border=\"1\" class=\"dataframe\">\n",
       "  <thead>\n",
       "    <tr style=\"text-align: right;\">\n",
       "      <th></th>\n",
       "      <th>class</th>\n",
       "      <th>cap-shape</th>\n",
       "      <th>cap-surface</th>\n",
       "      <th>cap-color</th>\n",
       "      <th>bruises</th>\n",
       "      <th>odor</th>\n",
       "      <th>gill-attachment</th>\n",
       "      <th>gill-spacing</th>\n",
       "      <th>gill-size</th>\n",
       "      <th>gill-color</th>\n",
       "      <th>...</th>\n",
       "      <th>stalk-surface-below-ring</th>\n",
       "      <th>stalk-color-above-ring</th>\n",
       "      <th>stalk-color-below-ring</th>\n",
       "      <th>veil-type</th>\n",
       "      <th>veil-color</th>\n",
       "      <th>ring-number</th>\n",
       "      <th>ring-type</th>\n",
       "      <th>spore-print-color</th>\n",
       "      <th>population</th>\n",
       "      <th>habitat</th>\n",
       "    </tr>\n",
       "  </thead>\n",
       "  <tbody>\n",
       "    <tr>\n",
       "      <th>0</th>\n",
       "      <td>p</td>\n",
       "      <td>x</td>\n",
       "      <td>s</td>\n",
       "      <td>n</td>\n",
       "      <td>t</td>\n",
       "      <td>p</td>\n",
       "      <td>f</td>\n",
       "      <td>c</td>\n",
       "      <td>n</td>\n",
       "      <td>k</td>\n",
       "      <td>...</td>\n",
       "      <td>s</td>\n",
       "      <td>w</td>\n",
       "      <td>w</td>\n",
       "      <td>p</td>\n",
       "      <td>w</td>\n",
       "      <td>o</td>\n",
       "      <td>p</td>\n",
       "      <td>k</td>\n",
       "      <td>s</td>\n",
       "      <td>u</td>\n",
       "    </tr>\n",
       "    <tr>\n",
       "      <th>1</th>\n",
       "      <td>e</td>\n",
       "      <td>x</td>\n",
       "      <td>s</td>\n",
       "      <td>y</td>\n",
       "      <td>t</td>\n",
       "      <td>a</td>\n",
       "      <td>f</td>\n",
       "      <td>c</td>\n",
       "      <td>b</td>\n",
       "      <td>k</td>\n",
       "      <td>...</td>\n",
       "      <td>s</td>\n",
       "      <td>w</td>\n",
       "      <td>w</td>\n",
       "      <td>p</td>\n",
       "      <td>w</td>\n",
       "      <td>o</td>\n",
       "      <td>p</td>\n",
       "      <td>n</td>\n",
       "      <td>n</td>\n",
       "      <td>g</td>\n",
       "    </tr>\n",
       "    <tr>\n",
       "      <th>2</th>\n",
       "      <td>e</td>\n",
       "      <td>b</td>\n",
       "      <td>s</td>\n",
       "      <td>w</td>\n",
       "      <td>t</td>\n",
       "      <td>l</td>\n",
       "      <td>f</td>\n",
       "      <td>c</td>\n",
       "      <td>b</td>\n",
       "      <td>n</td>\n",
       "      <td>...</td>\n",
       "      <td>s</td>\n",
       "      <td>w</td>\n",
       "      <td>w</td>\n",
       "      <td>p</td>\n",
       "      <td>w</td>\n",
       "      <td>o</td>\n",
       "      <td>p</td>\n",
       "      <td>n</td>\n",
       "      <td>n</td>\n",
       "      <td>m</td>\n",
       "    </tr>\n",
       "    <tr>\n",
       "      <th>3</th>\n",
       "      <td>p</td>\n",
       "      <td>x</td>\n",
       "      <td>y</td>\n",
       "      <td>w</td>\n",
       "      <td>t</td>\n",
       "      <td>p</td>\n",
       "      <td>f</td>\n",
       "      <td>c</td>\n",
       "      <td>n</td>\n",
       "      <td>n</td>\n",
       "      <td>...</td>\n",
       "      <td>s</td>\n",
       "      <td>w</td>\n",
       "      <td>w</td>\n",
       "      <td>p</td>\n",
       "      <td>w</td>\n",
       "      <td>o</td>\n",
       "      <td>p</td>\n",
       "      <td>k</td>\n",
       "      <td>s</td>\n",
       "      <td>u</td>\n",
       "    </tr>\n",
       "    <tr>\n",
       "      <th>4</th>\n",
       "      <td>e</td>\n",
       "      <td>x</td>\n",
       "      <td>s</td>\n",
       "      <td>g</td>\n",
       "      <td>f</td>\n",
       "      <td>n</td>\n",
       "      <td>f</td>\n",
       "      <td>w</td>\n",
       "      <td>b</td>\n",
       "      <td>k</td>\n",
       "      <td>...</td>\n",
       "      <td>s</td>\n",
       "      <td>w</td>\n",
       "      <td>w</td>\n",
       "      <td>p</td>\n",
       "      <td>w</td>\n",
       "      <td>o</td>\n",
       "      <td>e</td>\n",
       "      <td>n</td>\n",
       "      <td>a</td>\n",
       "      <td>g</td>\n",
       "    </tr>\n",
       "  </tbody>\n",
       "</table>\n",
       "<p>5 rows × 23 columns</p>\n",
       "</div>"
      ],
      "text/plain": [
       "  class cap-shape cap-surface cap-color bruises odor gill-attachment  \\\n",
       "0     p         x           s         n       t    p               f   \n",
       "1     e         x           s         y       t    a               f   \n",
       "2     e         b           s         w       t    l               f   \n",
       "3     p         x           y         w       t    p               f   \n",
       "4     e         x           s         g       f    n               f   \n",
       "\n",
       "  gill-spacing gill-size gill-color  ... stalk-surface-below-ring  \\\n",
       "0            c         n          k  ...                        s   \n",
       "1            c         b          k  ...                        s   \n",
       "2            c         b          n  ...                        s   \n",
       "3            c         n          n  ...                        s   \n",
       "4            w         b          k  ...                        s   \n",
       "\n",
       "  stalk-color-above-ring stalk-color-below-ring veil-type veil-color  \\\n",
       "0                      w                      w         p          w   \n",
       "1                      w                      w         p          w   \n",
       "2                      w                      w         p          w   \n",
       "3                      w                      w         p          w   \n",
       "4                      w                      w         p          w   \n",
       "\n",
       "  ring-number ring-type spore-print-color population habitat  \n",
       "0           o         p                 k          s       u  \n",
       "1           o         p                 n          n       g  \n",
       "2           o         p                 n          n       m  \n",
       "3           o         p                 k          s       u  \n",
       "4           o         e                 n          a       g  \n",
       "\n",
       "[5 rows x 23 columns]"
      ]
     },
     "execution_count": 2,
     "metadata": {},
     "output_type": "execute_result"
    }
   ],
   "source": [
    "df = pd.read_csv('mushrooms.csv')\n",
    "df.head()"
   ]
  },
  {
   "cell_type": "markdown",
   "id": "a9f069b6",
   "metadata": {},
   "source": [
    "### Data exploration"
   ]
  },
  {
   "cell_type": "code",
   "execution_count": 3,
   "id": "f8627162",
   "metadata": {
    "scrolled": true
   },
   "outputs": [
    {
     "name": "stdout",
     "output_type": "stream",
     "text": [
      "<class 'pandas.core.frame.DataFrame'>\n",
      "RangeIndex: 8124 entries, 0 to 8123\n",
      "Data columns (total 23 columns):\n",
      " #   Column                    Non-Null Count  Dtype \n",
      "---  ------                    --------------  ----- \n",
      " 0   class                     8124 non-null   object\n",
      " 1   cap-shape                 8124 non-null   object\n",
      " 2   cap-surface               8124 non-null   object\n",
      " 3   cap-color                 8124 non-null   object\n",
      " 4   bruises                   8124 non-null   object\n",
      " 5   odor                      8124 non-null   object\n",
      " 6   gill-attachment           8124 non-null   object\n",
      " 7   gill-spacing              8124 non-null   object\n",
      " 8   gill-size                 8124 non-null   object\n",
      " 9   gill-color                8124 non-null   object\n",
      " 10  stalk-shape               8124 non-null   object\n",
      " 11  stalk-root                8124 non-null   object\n",
      " 12  stalk-surface-above-ring  8124 non-null   object\n",
      " 13  stalk-surface-below-ring  8124 non-null   object\n",
      " 14  stalk-color-above-ring    8124 non-null   object\n",
      " 15  stalk-color-below-ring    8124 non-null   object\n",
      " 16  veil-type                 8124 non-null   object\n",
      " 17  veil-color                8124 non-null   object\n",
      " 18  ring-number               8124 non-null   object\n",
      " 19  ring-type                 8124 non-null   object\n",
      " 20  spore-print-color         8124 non-null   object\n",
      " 21  population                8124 non-null   object\n",
      " 22  habitat                   8124 non-null   object\n",
      "dtypes: object(23)\n",
      "memory usage: 1.4+ MB\n"
     ]
    }
   ],
   "source": [
    "df.info()"
   ]
  },
  {
   "cell_type": "code",
   "execution_count": 4,
   "id": "7e8a65c8",
   "metadata": {},
   "outputs": [
    {
     "data": {
      "text/plain": [
       "array(['p', 'e'], dtype=object)"
      ]
     },
     "execution_count": 4,
     "metadata": {},
     "output_type": "execute_result"
    }
   ],
   "source": [
    "df['class'].unique()"
   ]
  },
  {
   "cell_type": "code",
   "execution_count": 5,
   "id": "639de100",
   "metadata": {},
   "outputs": [
    {
     "data": {
      "text/html": [
       "<div>\n",
       "<style scoped>\n",
       "    .dataframe tbody tr th:only-of-type {\n",
       "        vertical-align: middle;\n",
       "    }\n",
       "\n",
       "    .dataframe tbody tr th {\n",
       "        vertical-align: top;\n",
       "    }\n",
       "\n",
       "    .dataframe thead th {\n",
       "        text-align: right;\n",
       "    }\n",
       "</style>\n",
       "<table border=\"1\" class=\"dataframe\">\n",
       "  <thead>\n",
       "    <tr style=\"text-align: right;\">\n",
       "      <th></th>\n",
       "      <th>class</th>\n",
       "      <th>cap-shape</th>\n",
       "      <th>cap-surface</th>\n",
       "      <th>cap-color</th>\n",
       "      <th>bruises</th>\n",
       "      <th>odor</th>\n",
       "      <th>gill-attachment</th>\n",
       "      <th>gill-spacing</th>\n",
       "      <th>gill-size</th>\n",
       "      <th>gill-color</th>\n",
       "      <th>...</th>\n",
       "      <th>stalk-surface-below-ring</th>\n",
       "      <th>stalk-color-above-ring</th>\n",
       "      <th>stalk-color-below-ring</th>\n",
       "      <th>veil-type</th>\n",
       "      <th>veil-color</th>\n",
       "      <th>ring-number</th>\n",
       "      <th>ring-type</th>\n",
       "      <th>spore-print-color</th>\n",
       "      <th>population</th>\n",
       "      <th>habitat</th>\n",
       "    </tr>\n",
       "  </thead>\n",
       "  <tbody>\n",
       "    <tr>\n",
       "      <th>count</th>\n",
       "      <td>8124</td>\n",
       "      <td>8124</td>\n",
       "      <td>8124</td>\n",
       "      <td>8124</td>\n",
       "      <td>8124</td>\n",
       "      <td>8124</td>\n",
       "      <td>8124</td>\n",
       "      <td>8124</td>\n",
       "      <td>8124</td>\n",
       "      <td>8124</td>\n",
       "      <td>...</td>\n",
       "      <td>8124</td>\n",
       "      <td>8124</td>\n",
       "      <td>8124</td>\n",
       "      <td>8124</td>\n",
       "      <td>8124</td>\n",
       "      <td>8124</td>\n",
       "      <td>8124</td>\n",
       "      <td>8124</td>\n",
       "      <td>8124</td>\n",
       "      <td>8124</td>\n",
       "    </tr>\n",
       "    <tr>\n",
       "      <th>unique</th>\n",
       "      <td>2</td>\n",
       "      <td>6</td>\n",
       "      <td>4</td>\n",
       "      <td>10</td>\n",
       "      <td>2</td>\n",
       "      <td>9</td>\n",
       "      <td>2</td>\n",
       "      <td>2</td>\n",
       "      <td>2</td>\n",
       "      <td>12</td>\n",
       "      <td>...</td>\n",
       "      <td>4</td>\n",
       "      <td>9</td>\n",
       "      <td>9</td>\n",
       "      <td>1</td>\n",
       "      <td>4</td>\n",
       "      <td>3</td>\n",
       "      <td>5</td>\n",
       "      <td>9</td>\n",
       "      <td>6</td>\n",
       "      <td>7</td>\n",
       "    </tr>\n",
       "    <tr>\n",
       "      <th>top</th>\n",
       "      <td>e</td>\n",
       "      <td>x</td>\n",
       "      <td>y</td>\n",
       "      <td>n</td>\n",
       "      <td>f</td>\n",
       "      <td>n</td>\n",
       "      <td>f</td>\n",
       "      <td>c</td>\n",
       "      <td>b</td>\n",
       "      <td>b</td>\n",
       "      <td>...</td>\n",
       "      <td>s</td>\n",
       "      <td>w</td>\n",
       "      <td>w</td>\n",
       "      <td>p</td>\n",
       "      <td>w</td>\n",
       "      <td>o</td>\n",
       "      <td>p</td>\n",
       "      <td>w</td>\n",
       "      <td>v</td>\n",
       "      <td>d</td>\n",
       "    </tr>\n",
       "    <tr>\n",
       "      <th>freq</th>\n",
       "      <td>4208</td>\n",
       "      <td>3656</td>\n",
       "      <td>3244</td>\n",
       "      <td>2284</td>\n",
       "      <td>4748</td>\n",
       "      <td>3528</td>\n",
       "      <td>7914</td>\n",
       "      <td>6812</td>\n",
       "      <td>5612</td>\n",
       "      <td>1728</td>\n",
       "      <td>...</td>\n",
       "      <td>4936</td>\n",
       "      <td>4464</td>\n",
       "      <td>4384</td>\n",
       "      <td>8124</td>\n",
       "      <td>7924</td>\n",
       "      <td>7488</td>\n",
       "      <td>3968</td>\n",
       "      <td>2388</td>\n",
       "      <td>4040</td>\n",
       "      <td>3148</td>\n",
       "    </tr>\n",
       "  </tbody>\n",
       "</table>\n",
       "<p>4 rows × 23 columns</p>\n",
       "</div>"
      ],
      "text/plain": [
       "       class cap-shape cap-surface cap-color bruises  odor gill-attachment  \\\n",
       "count   8124      8124        8124      8124    8124  8124            8124   \n",
       "unique     2         6           4        10       2     9               2   \n",
       "top        e         x           y         n       f     n               f   \n",
       "freq    4208      3656        3244      2284    4748  3528            7914   \n",
       "\n",
       "       gill-spacing gill-size gill-color  ... stalk-surface-below-ring  \\\n",
       "count          8124      8124       8124  ...                     8124   \n",
       "unique            2         2         12  ...                        4   \n",
       "top               c         b          b  ...                        s   \n",
       "freq           6812      5612       1728  ...                     4936   \n",
       "\n",
       "       stalk-color-above-ring stalk-color-below-ring veil-type veil-color  \\\n",
       "count                    8124                   8124      8124       8124   \n",
       "unique                      9                      9         1          4   \n",
       "top                         w                      w         p          w   \n",
       "freq                     4464                   4384      8124       7924   \n",
       "\n",
       "       ring-number ring-type spore-print-color population habitat  \n",
       "count         8124      8124              8124       8124    8124  \n",
       "unique           3         5                 9          6       7  \n",
       "top              o         p                 w          v       d  \n",
       "freq          7488      3968              2388       4040    3148  \n",
       "\n",
       "[4 rows x 23 columns]"
      ]
     },
     "execution_count": 5,
     "metadata": {},
     "output_type": "execute_result"
    }
   ],
   "source": [
    "df.describe()"
   ]
  },
  {
   "cell_type": "code",
   "execution_count": 6,
   "id": "8e4bb037",
   "metadata": {
    "scrolled": true
   },
   "outputs": [
    {
     "data": {
      "text/html": [
       "<div>\n",
       "<style scoped>\n",
       "    .dataframe tbody tr th:only-of-type {\n",
       "        vertical-align: middle;\n",
       "    }\n",
       "\n",
       "    .dataframe tbody tr th {\n",
       "        vertical-align: top;\n",
       "    }\n",
       "\n",
       "    .dataframe thead th {\n",
       "        text-align: right;\n",
       "    }\n",
       "</style>\n",
       "<table border=\"1\" class=\"dataframe\">\n",
       "  <thead>\n",
       "    <tr style=\"text-align: right;\">\n",
       "      <th></th>\n",
       "      <th>count</th>\n",
       "      <th>unique</th>\n",
       "      <th>top</th>\n",
       "      <th>freq</th>\n",
       "    </tr>\n",
       "  </thead>\n",
       "  <tbody>\n",
       "    <tr>\n",
       "      <th>class</th>\n",
       "      <td>8124</td>\n",
       "      <td>2</td>\n",
       "      <td>e</td>\n",
       "      <td>4208</td>\n",
       "    </tr>\n",
       "    <tr>\n",
       "      <th>cap-shape</th>\n",
       "      <td>8124</td>\n",
       "      <td>6</td>\n",
       "      <td>x</td>\n",
       "      <td>3656</td>\n",
       "    </tr>\n",
       "    <tr>\n",
       "      <th>cap-surface</th>\n",
       "      <td>8124</td>\n",
       "      <td>4</td>\n",
       "      <td>y</td>\n",
       "      <td>3244</td>\n",
       "    </tr>\n",
       "    <tr>\n",
       "      <th>cap-color</th>\n",
       "      <td>8124</td>\n",
       "      <td>10</td>\n",
       "      <td>n</td>\n",
       "      <td>2284</td>\n",
       "    </tr>\n",
       "    <tr>\n",
       "      <th>bruises</th>\n",
       "      <td>8124</td>\n",
       "      <td>2</td>\n",
       "      <td>f</td>\n",
       "      <td>4748</td>\n",
       "    </tr>\n",
       "    <tr>\n",
       "      <th>odor</th>\n",
       "      <td>8124</td>\n",
       "      <td>9</td>\n",
       "      <td>n</td>\n",
       "      <td>3528</td>\n",
       "    </tr>\n",
       "    <tr>\n",
       "      <th>gill-attachment</th>\n",
       "      <td>8124</td>\n",
       "      <td>2</td>\n",
       "      <td>f</td>\n",
       "      <td>7914</td>\n",
       "    </tr>\n",
       "    <tr>\n",
       "      <th>gill-spacing</th>\n",
       "      <td>8124</td>\n",
       "      <td>2</td>\n",
       "      <td>c</td>\n",
       "      <td>6812</td>\n",
       "    </tr>\n",
       "    <tr>\n",
       "      <th>gill-size</th>\n",
       "      <td>8124</td>\n",
       "      <td>2</td>\n",
       "      <td>b</td>\n",
       "      <td>5612</td>\n",
       "    </tr>\n",
       "    <tr>\n",
       "      <th>gill-color</th>\n",
       "      <td>8124</td>\n",
       "      <td>12</td>\n",
       "      <td>b</td>\n",
       "      <td>1728</td>\n",
       "    </tr>\n",
       "    <tr>\n",
       "      <th>stalk-shape</th>\n",
       "      <td>8124</td>\n",
       "      <td>2</td>\n",
       "      <td>t</td>\n",
       "      <td>4608</td>\n",
       "    </tr>\n",
       "    <tr>\n",
       "      <th>stalk-root</th>\n",
       "      <td>8124</td>\n",
       "      <td>5</td>\n",
       "      <td>b</td>\n",
       "      <td>3776</td>\n",
       "    </tr>\n",
       "    <tr>\n",
       "      <th>stalk-surface-above-ring</th>\n",
       "      <td>8124</td>\n",
       "      <td>4</td>\n",
       "      <td>s</td>\n",
       "      <td>5176</td>\n",
       "    </tr>\n",
       "    <tr>\n",
       "      <th>stalk-surface-below-ring</th>\n",
       "      <td>8124</td>\n",
       "      <td>4</td>\n",
       "      <td>s</td>\n",
       "      <td>4936</td>\n",
       "    </tr>\n",
       "    <tr>\n",
       "      <th>stalk-color-above-ring</th>\n",
       "      <td>8124</td>\n",
       "      <td>9</td>\n",
       "      <td>w</td>\n",
       "      <td>4464</td>\n",
       "    </tr>\n",
       "    <tr>\n",
       "      <th>stalk-color-below-ring</th>\n",
       "      <td>8124</td>\n",
       "      <td>9</td>\n",
       "      <td>w</td>\n",
       "      <td>4384</td>\n",
       "    </tr>\n",
       "    <tr>\n",
       "      <th>veil-type</th>\n",
       "      <td>8124</td>\n",
       "      <td>1</td>\n",
       "      <td>p</td>\n",
       "      <td>8124</td>\n",
       "    </tr>\n",
       "    <tr>\n",
       "      <th>veil-color</th>\n",
       "      <td>8124</td>\n",
       "      <td>4</td>\n",
       "      <td>w</td>\n",
       "      <td>7924</td>\n",
       "    </tr>\n",
       "    <tr>\n",
       "      <th>ring-number</th>\n",
       "      <td>8124</td>\n",
       "      <td>3</td>\n",
       "      <td>o</td>\n",
       "      <td>7488</td>\n",
       "    </tr>\n",
       "    <tr>\n",
       "      <th>ring-type</th>\n",
       "      <td>8124</td>\n",
       "      <td>5</td>\n",
       "      <td>p</td>\n",
       "      <td>3968</td>\n",
       "    </tr>\n",
       "    <tr>\n",
       "      <th>spore-print-color</th>\n",
       "      <td>8124</td>\n",
       "      <td>9</td>\n",
       "      <td>w</td>\n",
       "      <td>2388</td>\n",
       "    </tr>\n",
       "    <tr>\n",
       "      <th>population</th>\n",
       "      <td>8124</td>\n",
       "      <td>6</td>\n",
       "      <td>v</td>\n",
       "      <td>4040</td>\n",
       "    </tr>\n",
       "    <tr>\n",
       "      <th>habitat</th>\n",
       "      <td>8124</td>\n",
       "      <td>7</td>\n",
       "      <td>d</td>\n",
       "      <td>3148</td>\n",
       "    </tr>\n",
       "  </tbody>\n",
       "</table>\n",
       "</div>"
      ],
      "text/plain": [
       "                         count unique top  freq\n",
       "class                     8124      2   e  4208\n",
       "cap-shape                 8124      6   x  3656\n",
       "cap-surface               8124      4   y  3244\n",
       "cap-color                 8124     10   n  2284\n",
       "bruises                   8124      2   f  4748\n",
       "odor                      8124      9   n  3528\n",
       "gill-attachment           8124      2   f  7914\n",
       "gill-spacing              8124      2   c  6812\n",
       "gill-size                 8124      2   b  5612\n",
       "gill-color                8124     12   b  1728\n",
       "stalk-shape               8124      2   t  4608\n",
       "stalk-root                8124      5   b  3776\n",
       "stalk-surface-above-ring  8124      4   s  5176\n",
       "stalk-surface-below-ring  8124      4   s  4936\n",
       "stalk-color-above-ring    8124      9   w  4464\n",
       "stalk-color-below-ring    8124      9   w  4384\n",
       "veil-type                 8124      1   p  8124\n",
       "veil-color                8124      4   w  7924\n",
       "ring-number               8124      3   o  7488\n",
       "ring-type                 8124      5   p  3968\n",
       "spore-print-color         8124      9   w  2388\n",
       "population                8124      6   v  4040\n",
       "habitat                   8124      7   d  3148"
      ]
     },
     "execution_count": 6,
     "metadata": {},
     "output_type": "execute_result"
    }
   ],
   "source": [
    "df.describe().transpose()"
   ]
  },
  {
   "cell_type": "code",
   "execution_count": 7,
   "id": "50db814d",
   "metadata": {
    "scrolled": true
   },
   "outputs": [
    {
     "data": {
      "text/plain": [
       "class                       0\n",
       "cap-shape                   0\n",
       "cap-surface                 0\n",
       "cap-color                   0\n",
       "bruises                     0\n",
       "odor                        0\n",
       "gill-attachment             0\n",
       "gill-spacing                0\n",
       "gill-size                   0\n",
       "gill-color                  0\n",
       "stalk-shape                 0\n",
       "stalk-root                  0\n",
       "stalk-surface-above-ring    0\n",
       "stalk-surface-below-ring    0\n",
       "stalk-color-above-ring      0\n",
       "stalk-color-below-ring      0\n",
       "veil-type                   0\n",
       "veil-color                  0\n",
       "ring-number                 0\n",
       "ring-type                   0\n",
       "spore-print-color           0\n",
       "population                  0\n",
       "habitat                     0\n",
       "dtype: int64"
      ]
     },
     "execution_count": 7,
     "metadata": {},
     "output_type": "execute_result"
    }
   ],
   "source": [
    "df.isnull().sum()"
   ]
  },
  {
   "cell_type": "code",
   "execution_count": 8,
   "id": "1936a207",
   "metadata": {},
   "outputs": [],
   "source": [
    "intp = df.drop('class', axis=1)\n",
    "outp = df['class']"
   ]
  },
  {
   "cell_type": "code",
   "execution_count": 9,
   "id": "3918c8d1",
   "metadata": {},
   "outputs": [],
   "source": [
    "X = pd.get_dummies(intp, drop_first=True)\n",
    "y = pd.get_dummies(outp, drop_first=True)"
   ]
  },
  {
   "cell_type": "markdown",
   "id": "8e39adb7",
   "metadata": {},
   "source": [
    "#### Train/Test split"
   ]
  },
  {
   "cell_type": "code",
   "execution_count": 10,
   "id": "7d02dcd1",
   "metadata": {},
   "outputs": [],
   "source": [
    "from sklearn.model_selection import train_test_split\n",
    "X_train, X_test, y_train, y_test = train_test_split(X, y, test_size=0.2, random_state=101)"
   ]
  },
  {
   "cell_type": "markdown",
   "id": "b8f2a5db",
   "metadata": {},
   "source": [
    "## Adaboost\n",
    "#### Applying hyperparameter tuning for identifying best parameters for adaboost"
   ]
  },
  {
   "cell_type": "code",
   "execution_count": 11,
   "id": "7ccc70bf",
   "metadata": {
    "scrolled": true
   },
   "outputs": [
    {
     "data": {
      "text/plain": [
       "{'n_estimators': 20}"
      ]
     },
     "execution_count": 11,
     "metadata": {},
     "output_type": "execute_result"
    }
   ],
   "source": [
    "from sklearn.model_selection import GridSearchCV\n",
    "# model/estimator \n",
    "from sklearn.ensemble import AdaBoostClassifier\n",
    "estimator_ab = AdaBoostClassifier()\n",
    "\n",
    "# parameter grid\n",
    "param_grid_ab = {'n_estimators':list(range(1, 51))}\n",
    "\n",
    "# grid search\n",
    "grid_ab = GridSearchCV(estimator_ab, param_grid_ab, cv=5, scoring='accuracy')\n",
    "grid_ab.fit(X_train, y_train)\n",
    "# best parameters for AdaBoost Model\n",
    "grid_ab.best_params_"
   ]
  },
  {
   "cell_type": "markdown",
   "id": "462c0588",
   "metadata": {},
   "source": [
    "#### Ada boost model important features"
   ]
  },
  {
   "cell_type": "code",
   "execution_count": 22,
   "id": "b117df96",
   "metadata": {},
   "outputs": [
    {
     "data": {
      "text/plain": [
       "['cap-color_w',\n",
       " 'bruises_t',\n",
       " 'odor_c',\n",
       " 'odor_f',\n",
       " 'odor_n',\n",
       " 'odor_p',\n",
       " 'gill-spacing_w',\n",
       " 'gill-size_n',\n",
       " 'stalk-surface-above-ring_k',\n",
       " 'stalk-surface-below-ring_y',\n",
       " 'stalk-color-below-ring_n',\n",
       " 'spore-print-color_r',\n",
       " 'spore-print-color_w',\n",
       " 'population_c',\n",
       " 'population_v']"
      ]
     },
     "execution_count": 22,
     "metadata": {},
     "output_type": "execute_result"
    }
   ],
   "source": [
    "feats_ab = pd.DataFrame(data = grid_ab.best_estimator_.feature_importances_,\n",
    "                       index=X.columns, columns=['Importance'])\n",
    "imp_features_ab = feats_ab[feats_ab['Importance']>0].index.to_list()\n",
    "imp_features_ab"
   ]
  },
  {
   "cell_type": "markdown",
   "id": "0fd9ccdc",
   "metadata": {},
   "source": [
    "## AdaBoost Classifier\n",
    "#### with important features & best parameters"
   ]
  },
  {
   "cell_type": "code",
   "execution_count": 13,
   "id": "582becac",
   "metadata": {
    "scrolled": true
   },
   "outputs": [
    {
     "name": "stdout",
     "output_type": "stream",
     "text": [
      "Train accuracy: 1.0\n",
      "Cross Validation: 1.0\n",
      "Test accuracy: 1.0\n"
     ]
    }
   ],
   "source": [
    "# important input variables\n",
    "X_imp = X[imp_features_ab]\n",
    "\n",
    "# train_test split\n",
    "X_train_ab, X_test_ab, y_train_ab, y_test_ab = train_test_split(X_imp, y, test_size=0.2, random_state=101)\n",
    "\n",
    "# modelling\n",
    "from sklearn.ensemble import AdaBoostClassifier\n",
    "ada = AdaBoostClassifier(n_estimators=20)\n",
    "ada.fit(X_test_ab, y_test_ab)\n",
    "\n",
    "# prediction \n",
    "ypred_train_ab = ada.predict(X_train_ab)\n",
    "ypred_test_ab = ada.predict(X_test_ab)\n",
    "\n",
    "# evaluation\n",
    "from sklearn.metrics import accuracy_score\n",
    "print('Train accuracy:', accuracy_score(y_train_ab, ypred_train_ab))\n",
    "# cross validation\n",
    "from sklearn.model_selection import cross_val_score\n",
    "print('Cross Validation:', cross_val_score(ada, X_train_ab, y_train_ab, cv=5).mean())\n",
    "print('Test accuracy:', accuracy_score(y_test_ab, ypred_test_ab))"
   ]
  },
  {
   "cell_type": "markdown",
   "id": "372a6a5a",
   "metadata": {},
   "source": [
    "## Gradient Boosting\n",
    "#### Apply hyperparameter tuning for identifying best parameters for gradient boost"
   ]
  },
  {
   "cell_type": "code",
   "execution_count": 14,
   "id": "96e76df7",
   "metadata": {},
   "outputs": [
    {
     "data": {
      "text/plain": [
       "{'learning_rate': 1, 'n_estimators': 5}"
      ]
     },
     "execution_count": 14,
     "metadata": {},
     "output_type": "execute_result"
    }
   ],
   "source": [
    "from sklearn.model_selection import GridSearchCV\n",
    "\n",
    "# model/estimator\n",
    "from sklearn.ensemble import GradientBoostingClassifier\n",
    "estimator_gb = GradientBoostingClassifier()\n",
    "\n",
    "param_grid = {'n_estimators':[1, 5, 2],\n",
    "                 'learning_rate':[0.1, 0.2, 0.3, 0.4, 0.5, 1]}\n",
    "\n",
    "# grid search\n",
    "grid_gb = GridSearchCV(estimator_gb, param_grid, cv=5, scoring='accuracy')\n",
    "grid_gb.fit(X_train, y_train)\n",
    "\n",
    "# best parameters for GradientBoost model\n",
    "grid_gb.best_params_"
   ]
  },
  {
   "cell_type": "markdown",
   "id": "df8fcf58",
   "metadata": {},
   "source": [
    "#### Gradient Boost Model important features"
   ]
  },
  {
   "cell_type": "code",
   "execution_count": 15,
   "id": "9728d837",
   "metadata": {},
   "outputs": [
    {
     "data": {
      "text/plain": [
       "['cap-shape_x',\n",
       " 'cap-surface_g',\n",
       " 'cap-surface_s',\n",
       " 'bruises_t',\n",
       " 'odor_c',\n",
       " 'odor_f',\n",
       " 'odor_l',\n",
       " 'odor_n',\n",
       " 'odor_p',\n",
       " 'gill-spacing_w',\n",
       " 'stalk-root_c',\n",
       " 'stalk-root_r',\n",
       " 'stalk-surface-below-ring_y',\n",
       " 'stalk-color-above-ring_c',\n",
       " 'stalk-color-above-ring_n',\n",
       " 'spore-print-color_k',\n",
       " 'spore-print-color_n',\n",
       " 'spore-print-color_r',\n",
       " 'spore-print-color_u',\n",
       " 'spore-print-color_w',\n",
       " 'habitat_p']"
      ]
     },
     "execution_count": 15,
     "metadata": {},
     "output_type": "execute_result"
    }
   ],
   "source": [
    "feats_gb = pd.DataFrame(data=grid_gb.best_estimator_.feature_importances_, \n",
    "                        index=X.columns, \n",
    "                        columns = ['Importance'])\n",
    "\n",
    "imp_features_list_gb = feats_gb[feats_gb['Importance']>0].index.to_list()\n",
    "imp_features_list_gb"
   ]
  },
  {
   "cell_type": "markdown",
   "id": "95e91641",
   "metadata": {},
   "source": [
    "## Gradient Boost Classifier\n",
    "#### with important features & best parameters"
   ]
  },
  {
   "cell_type": "code",
   "execution_count": 16,
   "id": "0caa40ca",
   "metadata": {},
   "outputs": [
    {
     "name": "stdout",
     "output_type": "stream",
     "text": [
      "Train accuracy: 0.9995383905216187\n",
      "Cross Validation: 0.9998461538461537\n",
      "Test accuracy: 0.9993846153846154\n"
     ]
    }
   ],
   "source": [
    "X_imp = X[imp_features_list_gb]\n",
    "X_train_gb, X_test_gb, y_train_gb, y_test_gb = train_test_split(X_imp, y, test_size=0.2, random_state=101)\n",
    "\n",
    "# Modelling\n",
    "from sklearn.ensemble import GradientBoostingClassifier\n",
    "gb = GradientBoostingClassifier(n_estimators=5,learning_rate=1)\n",
    "gb.fit(X_train_gb, y_train_gb)\n",
    "\n",
    "# prediction \n",
    "ypred_train_gb = gb.predict(X_train_gb)\n",
    "ypred_test_gb = gb.predict(X_test_gb)\n",
    "\n",
    "# evaluation\n",
    "from sklearn.metrics import accuracy_score\n",
    "print('Train accuracy:', accuracy_score(y_train_gb, ypred_train_gb))\n",
    "# cross validation\n",
    "from sklearn.model_selection import cross_val_score\n",
    "print('Cross Validation:', cross_val_score(gb, X_train_ab, y_train_ab, cv=5).mean())\n",
    "print('Test accuracy:', accuracy_score(y_test_gb, ypred_test_gb))"
   ]
  },
  {
   "cell_type": "markdown",
   "id": "2dfd00dd",
   "metadata": {},
   "source": [
    "## XG Boosting\n",
    "#### Apply hyperparameter tuning for identifying best parameters for XG Boost"
   ]
  },
  {
   "cell_type": "code",
   "execution_count": 17,
   "id": "ac13435c",
   "metadata": {},
   "outputs": [
    {
     "data": {
      "text/plain": [
       "{'gamma': 0, 'max_depth': 4, 'n_estimators': 5}"
      ]
     },
     "execution_count": 17,
     "metadata": {},
     "output_type": "execute_result"
    }
   ],
   "source": [
    "from sklearn.model_selection import GridSearchCV\n",
    "\n",
    "# model/estimator\n",
    "from xgboost import XGBClassifier\n",
    "estimator_xgb = XGBClassifier()\n",
    "\n",
    "param_grid = {'n_estimators':[1, 5, 2],\n",
    "                 'max_depth':[3, 4, 5],\n",
    "             'gamma':[0, 0, 15, 0.3, 0.5, 1]}\n",
    "\n",
    "# grid search\n",
    "grid_xgb = GridSearchCV(estimator_xgb, param_grid, cv=5, scoring='accuracy')\n",
    "grid_xgb.fit(X_train, y_train)\n",
    "\n",
    "# best parameters for GradientBoost model\n",
    "grid_xgb.best_params_"
   ]
  },
  {
   "cell_type": "markdown",
   "id": "922348a9",
   "metadata": {},
   "source": [
    "#### XGBoost Model important features"
   ]
  },
  {
   "cell_type": "code",
   "execution_count": 18,
   "id": "53cae380",
   "metadata": {},
   "outputs": [
    {
     "data": {
      "text/plain": [
       "['bruises_t',\n",
       " 'odor_f',\n",
       " 'odor_n',\n",
       " 'odor_p',\n",
       " 'gill-spacing_w',\n",
       " 'gill-size_n',\n",
       " 'stalk-root_c',\n",
       " 'stalk-root_r',\n",
       " 'stalk-surface-below-ring_y',\n",
       " 'spore-print-color_r',\n",
       " 'spore-print-color_u']"
      ]
     },
     "execution_count": 18,
     "metadata": {},
     "output_type": "execute_result"
    }
   ],
   "source": [
    "feats_xgb = pd.DataFrame(data=grid_xgb.best_estimator_.feature_importances_, \n",
    "                        index=X.columns, \n",
    "                        columns = ['Importance'])\n",
    "\n",
    "imp_features_list_xgb = feats_xgb[feats_xgb['Importance']>0].index.to_list()\n",
    "imp_features_list_xgb"
   ]
  },
  {
   "cell_type": "markdown",
   "id": "a77ecf02",
   "metadata": {},
   "source": [
    "## Xtreme GradientBoost Classifier\n",
    "#### with important features & best parameters"
   ]
  },
  {
   "cell_type": "code",
   "execution_count": 19,
   "id": "dcf0029a",
   "metadata": {},
   "outputs": [
    {
     "name": "stdout",
     "output_type": "stream",
     "text": [
      "Train accuracy: 0.9990767810432374\n",
      "Cross Validation: 0.9990768046426245\n",
      "Test accuracy: 0.9987692307692307\n"
     ]
    }
   ],
   "source": [
    "X_imp = X[imp_features_list_gb]\n",
    "X_train_gb, X_test_gb, y_train_gb, y_test_gb = train_test_split(X_imp, y, test_size=0.2, random_state=101)\n",
    "\n",
    "# Modelling\n",
    "from xgboost import XGBClassifier\n",
    "gb = XGBClassifier(gamma= 0, max_depth= 4, n_estimators= 5)\n",
    "gb.fit(X_train_gb, y_train_gb)\n",
    "\n",
    "# prediction \n",
    "ypred_train_gb = gb.predict(X_train_gb)\n",
    "ypred_test_gb = gb.predict(X_test_gb)\n",
    "\n",
    "# evaluation\n",
    "from sklearn.metrics import accuracy_score\n",
    "print('Train accuracy:', accuracy_score(y_train_gb, ypred_train_gb))\n",
    "# cross validation\n",
    "from sklearn.model_selection import cross_val_score\n",
    "print('Cross Validation:', cross_val_score(gb, X_train_ab, y_train_ab, cv=5).mean())\n",
    "print('Test accuracy:', accuracy_score(y_test_gb, ypred_test_gb))"
   ]
  },
  {
   "cell_type": "markdown",
   "id": "f3672046",
   "metadata": {},
   "source": [
    "## Final Model"
   ]
  },
  {
   "cell_type": "code",
   "execution_count": 20,
   "id": "eaff61a2",
   "metadata": {},
   "outputs": [],
   "source": [
    "ada = AdaBoostClassifier(n_estimators=20)"
   ]
  },
  {
   "cell_type": "code",
   "execution_count": 21,
   "id": "5a326f33",
   "metadata": {
    "scrolled": false
   },
   "outputs": [
    {
     "data": {
      "image/png": "[encoded data removed]",
      "text/plain": [
       "<Figure size 2800x1200 with 1 Axes>"
      ]
     },
     "metadata": {},
     "output_type": "display_data"
    }
   ],
   "source": [
    "plt.figure(figsize=(14, 6), dpi=200)\n",
    "sns.barplot(data = feats_ab[feats_ab['Importance']>0].sort_values('Importance'),\n",
    "           x=feats_ab[feats_ab['Importance']>0].index,\n",
    "           y='Importance')\n",
    "\n",
    "plt.xticks(rotation=90)\n",
    "plt.xlabel('Importance Features')\n",
    "plt.show()"
   ]
  },
  {
   "cell_type": "code",
   "execution_count": null,
   "id": "bc064caf",
   "metadata": {
    "scrolled": true
   },
   "outputs": [],
   "source": []
  },
  {
   "cell_type": "code",
   "execution_count": null,
   "id": "230240b0",
   "metadata": {},
   "outputs": [],
   "source": []
  },
  {
   "cell_type": "code",
   "execution_count": null,
   "id": "d8914279",
   "metadata": {},
   "outputs": [],
   "source": []
  },
  {
   "cell_type": "code",
   "execution_count": null,
   "id": "6208a4ca",
   "metadata": {},
   "outputs": [],
   "source": []
  },
  {
   "cell_type": "code",
   "execution_count": null,
   "id": "c9d9c5fa",
   "metadata": {},
   "outputs": [],
   "source": []
  },
  {
   "cell_type": "code",
   "execution_count": null,
   "id": "b29b1807",
   "metadata": {},
   "outputs": [],
   "source": []
  },
  {
   "cell_type": "code",
   "execution_count": null,
   "id": "b90c4285",
   "metadata": {},
   "outputs": [],
   "source": []
  }
 ],
 "metadata": {
  "kernelspec": {
   "display_name": "Python 3 (ipykernel)",
   "language": "python",
   "name": "python3"
  },
  "language_info": {
   "codemirror_mode": {
    "name": "ipython",
    "version": 3
   },
   "file_extension": ".py",
   "mimetype": "text/x-python",
   "name": "python",
   "nbconvert_exporter": "python",
   "pygments_lexer": "ipython3",
   "version": "3.11.5"
  }
 },
 "nbformat": 4,
 "nbformat_minor": 5
}
