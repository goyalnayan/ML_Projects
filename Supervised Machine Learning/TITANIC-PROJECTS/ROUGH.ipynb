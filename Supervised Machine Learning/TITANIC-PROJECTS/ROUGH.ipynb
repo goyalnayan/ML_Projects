{
 "cells": [
  {
   "cell_type": "code",
   "execution_count": null,
   "id": "2e1d5727",
   "metadata": {},
   "outputs": [],
   "source": [
    "print('Train Accuracy:', accuracy_score(y_train, ypred_train))\n",
    "print('Cross Validation Score:', cross_val_score(log_model, X_train, y_train, cv=5, scoring='accuracy').mean())\n",
    "print('Test Accuracy:', accuracy_score(y_test, ypred_test))"
   ]
  }
 ],
 "metadata": {
  "kernelspec": {
   "display_name": "Python 3 (ipykernel)",
   "language": "python",
   "name": "python3"
  },
  "language_info": {
   "codemirror_mode": {
    "name": "ipython",
    "version": 3
   },
   "file_extension": ".py",
   "mimetype": "text/x-python",
   "name": "python",
   "nbconvert_exporter": "python",
   "pygments_lexer": "ipython3",
   "version": "3.11.5"
  }
 },
 "nbformat": 4,
 "nbformat_minor": 5
}
