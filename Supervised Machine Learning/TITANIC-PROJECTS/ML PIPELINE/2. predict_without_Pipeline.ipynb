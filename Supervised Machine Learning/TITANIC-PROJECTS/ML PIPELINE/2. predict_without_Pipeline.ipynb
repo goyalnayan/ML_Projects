{
 "cells": [
  {
   "cell_type": "code",
   "execution_count": 5,
   "id": "7af1c9ec",
   "metadata": {},
   "outputs": [],
   "source": [
    "import warnings\n",
    "warnings.filterwarnings('ignore')\n",
    "\n",
    "import numpy as np\n",
    "import pandas as pd \n",
    "\n",
    "from joblib import load"
   ]
  },
  {
   "cell_type": "code",
   "execution_count": 8,
   "id": "89d11929",
   "metadata": {},
   "outputs": [],
   "source": [
    "ohe_sex = load('models/ohe_sex.pkl')\n",
    "ohe_embarked = load('models/ohe_embarked.pkl')\n",
    "clf = load('models/clf.pkl')"
   ]
  },
  {
   "cell_type": "code",
   "execution_count": 14,
   "id": "aacd047d",
   "metadata": {},
   "outputs": [
    {
     "data": {
      "text/plain": [
       "array([[2, 'male', 31.0, 0, 0, 10.5, 'S']], dtype=object)"
      ]
     },
     "execution_count": 14,
     "metadata": {},
     "output_type": "execute_result"
    }
   ],
   "source": [
    "# Assume user input\n",
    "# Pclass / gender / Age / SibSp / Parch / Fare / Embarked\n",
    "\n",
    "test_input = np.array([2, 'male', 31.0, 0, 0, 10.5, 'S'], dtype=object).reshape(1, 7)\n",
    "test_input"
   ]
  },
  {
   "cell_type": "code",
   "execution_count": null,
   "id": "eb83a888",
   "metadata": {},
   "outputs": [],
   "source": []
  }
 ],
 "metadata": {
  "kernelspec": {
   "display_name": "Python 3 (ipykernel)",
   "language": "python",
   "name": "python3"
  },
  "language_info": {
   "codemirror_mode": {
    "name": "ipython",
    "version": 3
   },
   "file_extension": ".py",
   "mimetype": "text/x-python",
   "name": "python",
   "nbconvert_exporter": "python",
   "pygments_lexer": "ipython3",
   "version": "3.11.5"
  }
 },
 "nbformat": 4,
 "nbformat_minor": 5
}
