{
 "cells": [
  {
   "cell_type": "markdown",
   "id": "f266349b",
   "metadata": {},
   "source": [
    "### Q: Introduce yourself in interview:\n",
    "During your interview last point should be (my recent project is on **\"loan eligibility status\"** which is related to **\"Banking & Finance\"** domain\n",
    "\n",
    "### Q: Explain your project? (Interviewer can ask)\n"
   ]
  },
  {
   "cell_type": "markdown",
   "id": "e4c1e318",
   "metadata": {},
   "source": [
    "#### the highest interest rate on credit card is 48%\n",
    "- Dream house finance company gives secured loan\n",
    "- Unique apply only on categorical not on continuous\n",
    "\n",
    "- bank gives loan based on civil score/ credit history (pan card)\n",
    "\n",
    "credit history means we will have to check loan history\n",
    "\n",
    "- we can even create new column based on business understanding\n",
    "\n",
    "in bank dataset if income/ loan amount/ loan amount term is not given so drop that\n",
    "\n",
    "property area considered as ordinal variable\n",
    "\n",
    "\n",
    "loan_amount_term is a count variable that's why we applied root transformation\n",
    "\n",
    "loan_amount_term can be converted into month from year\n",
    "\n",
    "transformation, encoding or anything should be done on count variable\n"
   ]
  },
  {
   "cell_type": "markdown",
   "id": "ff4533e6",
   "metadata": {},
   "source": [
    "loan is highly correlated with income because when income is more loan is more\n",
    "\n",
    "boxcox technique is not applicable on (-ve) value of 0 value so we use +0.0001\n",
    "\n",
    "for every model accuarcy make table with model name/ train / test/ cv accuracy or comment whether it's a overfitting or underfitting\n",
    "\n",
    "first priority test, cv, train than time\n",
    "\n",
    "in hyperparameter tuning first number is default then after that we started to increase the number "
   ]
  },
  {
   "cell_type": "code",
   "execution_count": null,
   "id": "b2d4ff10",
   "metadata": {},
   "outputs": [],
   "source": []
  }
 ],
 "metadata": {
  "kernelspec": {
   "display_name": "Python 3 (ipykernel)",
   "language": "python",
   "name": "python3"
  },
  "language_info": {
   "codemirror_mode": {
    "name": "ipython",
    "version": 3
   },
   "file_extension": ".py",
   "mimetype": "text/x-python",
   "name": "python",
   "nbconvert_exporter": "python",
   "pygments_lexer": "ipython3",
   "version": "3.11.5"
  }
 },
 "nbformat": 4,
 "nbformat_minor": 5
}
